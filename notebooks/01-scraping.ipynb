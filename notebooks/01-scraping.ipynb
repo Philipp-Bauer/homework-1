{
 "cells": [
  {
   "cell_type": "markdown",
   "metadata": {
    "pycharm": {
     "name": "#%% md\n"
    }
   },
   "source": [
    "# Website scraping\n",
    "\n",
    "---\n",
    "\n",
    "Group name: Group B\n",
    "\n",
    "---\n"
   ]
  },
  {
   "cell_type": "code",
   "execution_count": 1,
   "metadata": {
    "pycharm": {
     "name": "#%%\n"
    }
   },
   "outputs": [],
   "source": [
    "# Imports used later on\n",
    "\n",
    "import pandas as pd\n",
    "\n",
    "import urllib\n",
    "from bs4 import BeautifulSoup\n",
    "from bs4.element import Comment"
   ]
  },
  {
   "cell_type": "code",
   "execution_count": 2,
   "metadata": {
    "pycharm": {
     "name": "#%%\n"
    }
   },
   "outputs": [],
   "source": [
    "# set url for scraping and read text\n",
    "html_five = urllib.request.urlopen('https://fivethirtyeight.com/features/the-u-s-still-doesnt-know-how-to-track-a-pandemic/').read()\n",
    "html_wired = urllib.request.urlopen('https://www.wired.com/story/how-to-stop-robots-becoming-racist/').read()"
   ]
  },
  {
   "cell_type": "code",
   "execution_count": 3,
   "metadata": {
    "pycharm": {
     "name": "#%%\n"
    }
   },
   "outputs": [],
   "source": [
    "# check status\n",
    "# html_five\n",
    "# html_wired"
   ]
  },
  {
   "cell_type": "markdown",
   "metadata": {},
   "source": [
    "### Define Methods for both webtexts, so they can be easily converted to textfiles"
   ]
  },
  {
   "cell_type": "code",
   "execution_count": 4,
   "metadata": {},
   "outputs": [],
   "source": [
    "# cleaning method visible status for style and both webpages\n",
    "def cleaning_and_tagging(text):\n",
    "    if text.parent.name in ['style', 'script', 'head', 'title', 'meta', '[document]']:\n",
    "        return False\n",
    "    if isinstance(text, Comment):\n",
    "        return False\n",
    "    return True"
   ]
  },
  {
   "cell_type": "code",
   "execution_count": 5,
   "metadata": {},
   "outputs": [],
   "source": [
    "# html text conversion \n",
    "def text_conversion(body):\n",
    "    soup = BeautifulSoup(body, 'html.parser')\n",
    "    paragraph = soup.findAll(text=True)\n",
    "    readable_text = filter(cleaning_and_tagging, paragraph)  \n",
    "    return u\" \".join(t.strip() for t in readable_text)"
   ]
  },
  {
   "cell_type": "code",
   "execution_count": 6,
   "metadata": {},
   "outputs": [],
   "source": [
    "# test method\n",
    "# print(text_conversion(html_five))\n",
    "# print(text_conversion(html_wired))"
   ]
  },
  {
   "cell_type": "code",
   "execution_count": 7,
   "metadata": {},
   "outputs": [],
   "source": [
    "# use methods for text conversion\n",
    "soup_five = text_conversion(html_five)\n",
    "soup_wired = text_conversion(html_wired)"
   ]
  },
  {
   "cell_type": "code",
   "execution_count": 8,
   "metadata": {},
   "outputs": [],
   "source": [
    "# test string object\n",
    "# soup_five"
   ]
  },
  {
   "cell_type": "raw",
   "metadata": {},
   "source": [
    "# write text as csv\n",
    "import csv\n",
    "\n",
    "with open(\"five.csv\",\"w\") as file:\n",
    "    file.write(soup_five + \"\\n\")\n",
    "\n",
    "with open(\"wired.csv\",\"w\") as file:\n",
    "    file.write(soup_wired + \"\\n\")"
   ]
  },
  {
   "cell_type": "markdown",
   "metadata": {},
   "source": [
    "### Creating Dataframe"
   ]
  },
  {
   "cell_type": "code",
   "execution_count": 9,
   "metadata": {},
   "outputs": [
    {
     "data": {
      "text/html": [
       "<div>\n",
       "<style scoped>\n",
       "    .dataframe tbody tr th:only-of-type {\n",
       "        vertical-align: middle;\n",
       "    }\n",
       "\n",
       "    .dataframe tbody tr th {\n",
       "        vertical-align: top;\n",
       "    }\n",
       "\n",
       "    .dataframe thead th {\n",
       "        text-align: right;\n",
       "    }\n",
       "</style>\n",
       "<table border=\"1\" class=\"dataframe\">\n",
       "  <thead>\n",
       "    <tr style=\"text-align: right;\">\n",
       "      <th></th>\n",
       "      <th>website</th>\n",
       "      <th>article</th>\n",
       "    </tr>\n",
       "  </thead>\n",
       "  <tbody>\n",
       "    <tr>\n",
       "      <th>0</th>\n",
       "      <td>five</td>\n",
       "      <td>...</td>\n",
       "    </tr>\n",
       "    <tr>\n",
       "      <th>1</th>\n",
       "      <td>wired</td>\n",
       "      <td>Skip to main content Open Navigation Menu To r...</td>\n",
       "    </tr>\n",
       "  </tbody>\n",
       "</table>\n",
       "</div>"
      ],
      "text/plain": [
       "  website                                            article\n",
       "0    five                                                ...\n",
       "1   wired  Skip to main content Open Navigation Menu To r..."
      ]
     },
     "execution_count": 9,
     "metadata": {},
     "output_type": "execute_result"
    }
   ],
   "source": [
    "dict = {\"website\": [\"five\", \"wired\"], \"article\": [soup_five, soup_wired]}\n",
    "\n",
    "df = pd.DataFrame(dict)\n",
    "df\n"
   ]
  },
  {
   "cell_type": "markdown",
   "metadata": {},
   "source": [
    "### Saving df as csv-file"
   ]
  },
  {
   "cell_type": "code",
   "execution_count": 10,
   "metadata": {},
   "outputs": [],
   "source": [
    "# no comma as seperator because there are so many in the articles themselves\n",
    "df.to_csv(\"../data/raw/webscraping.csv\", sep=\"|\")"
   ]
  },
  {
   "cell_type": "code",
   "execution_count": null,
   "metadata": {},
   "outputs": [],
   "source": []
  }
 ],
 "metadata": {
  "kernelspec": {
   "display_name": "Python 3.9.13 ('webscraping')",
   "language": "python",
   "name": "python3"
  },
  "language_info": {
   "codemirror_mode": {
    "name": "ipython",
    "version": 3
   },
   "file_extension": ".py",
   "mimetype": "text/x-python",
   "name": "python",
   "nbconvert_exporter": "python",
   "pygments_lexer": "ipython3",
   "version": "3.9.13"
  },
  "vscode": {
   "interpreter": {
    "hash": "45797ca10b173004ede47250b73b0b49e738b2d403ad10937729f4e24ce8a558"
   }
  }
 },
 "nbformat": 4,
 "nbformat_minor": 2
}
