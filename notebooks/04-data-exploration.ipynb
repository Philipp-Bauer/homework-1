{
 "cells": [
  {
   "cell_type": "markdown",
   "metadata": {},
   "source": [
    "# Data exploration \n",
    "\n",
    "---\n",
    "\n",
    "Group name: Group B\n",
    "\n",
    "\n",
    "---\n"
   ]
  },
  {
   "cell_type": "markdown",
   "metadata": {},
   "source": [
    "\n",
    "## Introduction\n",
    "\n",
    "*This section includes a short description of the data* \n",
    "\n",
    "As data set we will use world-cup-2022. \n",
    "This data set predicts the Soccer Power Index (SPI) ratings and chances of advancing for every team participating at the World Cup 2022. The data is updating live.\n",
    "It is divided by data of the matches and data for the forecast. We are focussing on data of the tournament forecast. All in all 4 Visualisations will be created with Module Altair.\n"
   ]
  },
  {
   "cell_type": "code",
   "execution_count": null,
   "outputs": [],
   "source": [],
   "metadata": {
    "collapsed": false
   }
  },
  {
   "cell_type": "markdown",
   "metadata": {},
   "source": [
    "## Setup"
   ]
  },
  {
   "cell_type": "code",
   "execution_count": 1,
   "metadata": {},
   "outputs": [
    {
     "data": {
      "text/plain": "DataTransformerRegistry.enable('default')"
     },
     "execution_count": 1,
     "metadata": {},
     "output_type": "execute_result"
    }
   ],
   "source": [
    "import pandas as pd\n",
    "import altair as alt\n",
    "import warnings\n",
    "\n",
    "warnings.simplefilter(action='ignore', category=FutureWarning)\n",
    "alt.data_transformers.disable_max_rows()"
   ]
  },
  {
   "cell_type": "markdown",
   "metadata": {},
   "source": [
    "## Data"
   ]
  },
  {
   "cell_type": "markdown",
   "metadata": {},
   "source": [
    "## Import data"
   ]
  },
  {
   "cell_type": "code",
   "execution_count": 2,
   "metadata": {},
   "outputs": [],
   "source": [
    "import pandas as pd\n",
    "\n",
    "df_world_cup = pd.read_csv(\"../data/external/data.csv\", sep=\",\")"
   ]
  },
  {
   "cell_type": "markdown",
   "metadata": {},
   "source": [
    "### Data structure"
   ]
  },
  {
   "cell_type": "code",
   "execution_count": 3,
   "metadata": {},
   "outputs": [
    {
     "data": {
      "text/plain": "        forecast_timestamp       team group       spi  global_o  global_d  \\\n0  2022-11-28 20:59:50 UTC     Brazil     G  93.48139   3.06210   0.23656   \n1  2022-11-28 20:59:50 UTC      Spain     E  90.62031   2.84092   0.33577   \n2  2022-11-28 20:59:50 UTC     France     D  90.14910   3.03006   0.45553   \n3  2022-11-28 20:59:50 UTC   Portugal     H  87.55187   2.81564   0.51015   \n4  2022-11-28 20:59:50 UTC  Argentina     C  86.02625   2.48839   0.42171   \n\n   sim_wins  sim_ties  sim_losses  sim_goal_diff  ...  group_1  group_2  \\\n0   2.81289   0.15059     0.03652        4.94744  ...  0.99515  0.00485   \n1   1.61371   1.24833     0.13796        8.04799  ...  0.84893  0.14284   \n2   2.64890   0.23851     0.11259        5.18540  ...  0.99992  0.00008   \n3   2.58556   0.24741     0.16703        3.94343  ...  0.98834  0.01166   \n4   1.57821   0.26472     1.15707        1.89454  ...  0.57290  0.20115   \n\n   group_3  group_4  make_round_of_16  make_quarters  make_semis  make_final  \\\n0  0.00000  0.00000           1.00000        0.82256     0.53731     0.39419   \n1  0.00823  0.00000           0.99177        0.72213     0.35169     0.23196   \n2  0.00000  0.00000           1.00000        0.75998     0.47603     0.27224   \n3  0.00000  0.00000           1.00000        0.65092     0.35302     0.18387   \n4  0.22498  0.00097           0.77405        0.49381     0.29805     0.12681   \n\n   win_league                timestamp  \n0     0.26002  2022-11-28 21:01:22 UTC  \n1     0.13658  2022-11-28 21:01:22 UTC  \n2     0.13269  2022-11-28 21:01:22 UTC  \n3     0.08195  2022-11-28 21:01:22 UTC  \n4     0.06528  2022-11-28 21:01:22 UTC  \n\n[5 rows x 22 columns]",
      "text/html": "<div>\n<style scoped>\n    .dataframe tbody tr th:only-of-type {\n        vertical-align: middle;\n    }\n\n    .dataframe tbody tr th {\n        vertical-align: top;\n    }\n\n    .dataframe thead th {\n        text-align: right;\n    }\n</style>\n<table border=\"1\" class=\"dataframe\">\n  <thead>\n    <tr style=\"text-align: right;\">\n      <th></th>\n      <th>forecast_timestamp</th>\n      <th>team</th>\n      <th>group</th>\n      <th>spi</th>\n      <th>global_o</th>\n      <th>global_d</th>\n      <th>sim_wins</th>\n      <th>sim_ties</th>\n      <th>sim_losses</th>\n      <th>sim_goal_diff</th>\n      <th>...</th>\n      <th>group_1</th>\n      <th>group_2</th>\n      <th>group_3</th>\n      <th>group_4</th>\n      <th>make_round_of_16</th>\n      <th>make_quarters</th>\n      <th>make_semis</th>\n      <th>make_final</th>\n      <th>win_league</th>\n      <th>timestamp</th>\n    </tr>\n  </thead>\n  <tbody>\n    <tr>\n      <th>0</th>\n      <td>2022-11-28 20:59:50 UTC</td>\n      <td>Brazil</td>\n      <td>G</td>\n      <td>93.48139</td>\n      <td>3.06210</td>\n      <td>0.23656</td>\n      <td>2.81289</td>\n      <td>0.15059</td>\n      <td>0.03652</td>\n      <td>4.94744</td>\n      <td>...</td>\n      <td>0.99515</td>\n      <td>0.00485</td>\n      <td>0.00000</td>\n      <td>0.00000</td>\n      <td>1.00000</td>\n      <td>0.82256</td>\n      <td>0.53731</td>\n      <td>0.39419</td>\n      <td>0.26002</td>\n      <td>2022-11-28 21:01:22 UTC</td>\n    </tr>\n    <tr>\n      <th>1</th>\n      <td>2022-11-28 20:59:50 UTC</td>\n      <td>Spain</td>\n      <td>E</td>\n      <td>90.62031</td>\n      <td>2.84092</td>\n      <td>0.33577</td>\n      <td>1.61371</td>\n      <td>1.24833</td>\n      <td>0.13796</td>\n      <td>8.04799</td>\n      <td>...</td>\n      <td>0.84893</td>\n      <td>0.14284</td>\n      <td>0.00823</td>\n      <td>0.00000</td>\n      <td>0.99177</td>\n      <td>0.72213</td>\n      <td>0.35169</td>\n      <td>0.23196</td>\n      <td>0.13658</td>\n      <td>2022-11-28 21:01:22 UTC</td>\n    </tr>\n    <tr>\n      <th>2</th>\n      <td>2022-11-28 20:59:50 UTC</td>\n      <td>France</td>\n      <td>D</td>\n      <td>90.14910</td>\n      <td>3.03006</td>\n      <td>0.45553</td>\n      <td>2.64890</td>\n      <td>0.23851</td>\n      <td>0.11259</td>\n      <td>5.18540</td>\n      <td>...</td>\n      <td>0.99992</td>\n      <td>0.00008</td>\n      <td>0.00000</td>\n      <td>0.00000</td>\n      <td>1.00000</td>\n      <td>0.75998</td>\n      <td>0.47603</td>\n      <td>0.27224</td>\n      <td>0.13269</td>\n      <td>2022-11-28 21:01:22 UTC</td>\n    </tr>\n    <tr>\n      <th>3</th>\n      <td>2022-11-28 20:59:50 UTC</td>\n      <td>Portugal</td>\n      <td>H</td>\n      <td>87.55187</td>\n      <td>2.81564</td>\n      <td>0.51015</td>\n      <td>2.58556</td>\n      <td>0.24741</td>\n      <td>0.16703</td>\n      <td>3.94343</td>\n      <td>...</td>\n      <td>0.98834</td>\n      <td>0.01166</td>\n      <td>0.00000</td>\n      <td>0.00000</td>\n      <td>1.00000</td>\n      <td>0.65092</td>\n      <td>0.35302</td>\n      <td>0.18387</td>\n      <td>0.08195</td>\n      <td>2022-11-28 21:01:22 UTC</td>\n    </tr>\n    <tr>\n      <th>4</th>\n      <td>2022-11-28 20:59:50 UTC</td>\n      <td>Argentina</td>\n      <td>C</td>\n      <td>86.02625</td>\n      <td>2.48839</td>\n      <td>0.42171</td>\n      <td>1.57821</td>\n      <td>0.26472</td>\n      <td>1.15707</td>\n      <td>1.89454</td>\n      <td>...</td>\n      <td>0.57290</td>\n      <td>0.20115</td>\n      <td>0.22498</td>\n      <td>0.00097</td>\n      <td>0.77405</td>\n      <td>0.49381</td>\n      <td>0.29805</td>\n      <td>0.12681</td>\n      <td>0.06528</td>\n      <td>2022-11-28 21:01:22 UTC</td>\n    </tr>\n  </tbody>\n</table>\n<p>5 rows × 22 columns</p>\n</div>"
     },
     "execution_count": 3,
     "metadata": {},
     "output_type": "execute_result"
    }
   ],
   "source": [
    "df_world_cup.head()"
   ]
  },
  {
   "cell_type": "markdown",
   "metadata": {},
   "source": [
    "### Data corrections"
   ]
  },
  {
   "cell_type": "markdown",
   "metadata": {},
   "source": [
    "#### Lowercase and whitespace"
   ]
  },
  {
   "cell_type": "code",
   "execution_count": 4,
   "metadata": {},
   "outputs": [
    {
     "data": {
      "text/plain": "         forecast_timestamp          team group       spi  global_o  global_d  \\\n0   2022-11-28 20:59:50 UTC        Brazil     G  93.48139   3.06210   0.23656   \n1   2022-11-28 20:59:50 UTC         Spain     E  90.62031   2.84092   0.33577   \n2   2022-11-28 20:59:50 UTC        France     D  90.14910   3.03006   0.45553   \n3   2022-11-28 20:59:50 UTC      Portugal     H  87.55187   2.81564   0.51015   \n4   2022-11-28 20:59:50 UTC     Argentina     C  86.02625   2.48839   0.42171   \n..                      ...           ...   ...       ...       ...       ...   \n91  2022-11-16 16:00:55 UTC  Saudi Arabia     C  56.86592   1.50018   0.99118   \n92  2022-11-16 16:00:55 UTC     Australia     D  60.83178   1.59388   0.91112   \n93  2022-11-16 16:00:55 UTC         Qatar     A  51.00223   1.57111   1.31642   \n94  2022-11-16 16:00:55 UTC         Ghana     H  58.62702   1.43347   0.85806   \n95  2022-11-16 16:00:55 UTC    Costa Rica     E  55.45518   1.39816   0.95388   \n\n    sim_wins  sim_ties  sim_losses  sim_goal_diff  ...  group_1  group_2  \\\n0    2.81289   0.15059     0.03652        4.94744  ...  0.99515  0.00485   \n1    1.61371   1.24833     0.13796        8.04799  ...  0.84893  0.14284   \n2    2.64890   0.23851     0.11259        5.18540  ...  0.99992  0.00008   \n3    2.58556   0.24741     0.16703        3.94343  ...  0.98834  0.01166   \n4    1.57821   0.26472     1.15707        1.89454  ...  0.57290  0.20115   \n..       ...       ...         ...            ...  ...      ...      ...   \n91   0.59721   0.79021     1.61258       -2.26444  ...  0.06973  0.17476   \n92   0.55148   0.79247     1.65605       -2.49253  ...  0.05911  0.15706   \n93   0.56555   0.68681     1.74764       -2.95133  ...  0.06806  0.14850   \n94   0.46730   0.80877     1.72393       -2.74111  ...  0.04662  0.13341   \n95   0.29847   0.61279     2.08874       -4.39879  ...  0.01743  0.06655   \n\n    group_3  group_4  make_round_of_16  make_quarters  make_semis  make_final  \\\n0   0.00000  0.00000           1.00000        0.82256     0.53731     0.39419   \n1   0.00823  0.00000           0.99177        0.72213     0.35169     0.23196   \n2   0.00000  0.00000           1.00000        0.75998     0.47603     0.27224   \n3   0.00000  0.00000           1.00000        0.65092     0.35302     0.18387   \n4   0.22498  0.00097           0.77405        0.49381     0.29805     0.12681   \n..      ...      ...               ...            ...         ...         ...   \n91  0.29436  0.46115           0.24449        0.06913     0.02164     0.00516   \n92  0.30240  0.48143           0.21617        0.06500     0.02062     0.00454   \n93  0.25634  0.52710           0.21656        0.06588     0.01840     0.00399   \n94  0.28475  0.53522           0.18003        0.03586     0.00945     0.00284   \n95  0.22772  0.68830           0.08398        0.02290     0.00510     0.00132   \n\n    win_league                timestamp  \n0      0.26002  2022-11-28 21:01:22 UTC  \n1      0.13658  2022-11-28 21:01:22 UTC  \n2      0.13269  2022-11-28 21:01:22 UTC  \n3      0.08195  2022-11-28 21:01:22 UTC  \n4      0.06528  2022-11-28 21:01:22 UTC  \n..         ...                      ...  \n91     0.00132  2022-11-28 21:01:22 UTC  \n92     0.00124  2022-11-28 21:01:22 UTC  \n93     0.00096  2022-11-28 21:01:22 UTC  \n94     0.00063  2022-11-28 21:01:22 UTC  \n95     0.00032  2022-11-28 21:01:22 UTC  \n\n[96 rows x 22 columns]",
      "text/html": "<div>\n<style scoped>\n    .dataframe tbody tr th:only-of-type {\n        vertical-align: middle;\n    }\n\n    .dataframe tbody tr th {\n        vertical-align: top;\n    }\n\n    .dataframe thead th {\n        text-align: right;\n    }\n</style>\n<table border=\"1\" class=\"dataframe\">\n  <thead>\n    <tr style=\"text-align: right;\">\n      <th></th>\n      <th>forecast_timestamp</th>\n      <th>team</th>\n      <th>group</th>\n      <th>spi</th>\n      <th>global_o</th>\n      <th>global_d</th>\n      <th>sim_wins</th>\n      <th>sim_ties</th>\n      <th>sim_losses</th>\n      <th>sim_goal_diff</th>\n      <th>...</th>\n      <th>group_1</th>\n      <th>group_2</th>\n      <th>group_3</th>\n      <th>group_4</th>\n      <th>make_round_of_16</th>\n      <th>make_quarters</th>\n      <th>make_semis</th>\n      <th>make_final</th>\n      <th>win_league</th>\n      <th>timestamp</th>\n    </tr>\n  </thead>\n  <tbody>\n    <tr>\n      <th>0</th>\n      <td>2022-11-28 20:59:50 UTC</td>\n      <td>Brazil</td>\n      <td>G</td>\n      <td>93.48139</td>\n      <td>3.06210</td>\n      <td>0.23656</td>\n      <td>2.81289</td>\n      <td>0.15059</td>\n      <td>0.03652</td>\n      <td>4.94744</td>\n      <td>...</td>\n      <td>0.99515</td>\n      <td>0.00485</td>\n      <td>0.00000</td>\n      <td>0.00000</td>\n      <td>1.00000</td>\n      <td>0.82256</td>\n      <td>0.53731</td>\n      <td>0.39419</td>\n      <td>0.26002</td>\n      <td>2022-11-28 21:01:22 UTC</td>\n    </tr>\n    <tr>\n      <th>1</th>\n      <td>2022-11-28 20:59:50 UTC</td>\n      <td>Spain</td>\n      <td>E</td>\n      <td>90.62031</td>\n      <td>2.84092</td>\n      <td>0.33577</td>\n      <td>1.61371</td>\n      <td>1.24833</td>\n      <td>0.13796</td>\n      <td>8.04799</td>\n      <td>...</td>\n      <td>0.84893</td>\n      <td>0.14284</td>\n      <td>0.00823</td>\n      <td>0.00000</td>\n      <td>0.99177</td>\n      <td>0.72213</td>\n      <td>0.35169</td>\n      <td>0.23196</td>\n      <td>0.13658</td>\n      <td>2022-11-28 21:01:22 UTC</td>\n    </tr>\n    <tr>\n      <th>2</th>\n      <td>2022-11-28 20:59:50 UTC</td>\n      <td>France</td>\n      <td>D</td>\n      <td>90.14910</td>\n      <td>3.03006</td>\n      <td>0.45553</td>\n      <td>2.64890</td>\n      <td>0.23851</td>\n      <td>0.11259</td>\n      <td>5.18540</td>\n      <td>...</td>\n      <td>0.99992</td>\n      <td>0.00008</td>\n      <td>0.00000</td>\n      <td>0.00000</td>\n      <td>1.00000</td>\n      <td>0.75998</td>\n      <td>0.47603</td>\n      <td>0.27224</td>\n      <td>0.13269</td>\n      <td>2022-11-28 21:01:22 UTC</td>\n    </tr>\n    <tr>\n      <th>3</th>\n      <td>2022-11-28 20:59:50 UTC</td>\n      <td>Portugal</td>\n      <td>H</td>\n      <td>87.55187</td>\n      <td>2.81564</td>\n      <td>0.51015</td>\n      <td>2.58556</td>\n      <td>0.24741</td>\n      <td>0.16703</td>\n      <td>3.94343</td>\n      <td>...</td>\n      <td>0.98834</td>\n      <td>0.01166</td>\n      <td>0.00000</td>\n      <td>0.00000</td>\n      <td>1.00000</td>\n      <td>0.65092</td>\n      <td>0.35302</td>\n      <td>0.18387</td>\n      <td>0.08195</td>\n      <td>2022-11-28 21:01:22 UTC</td>\n    </tr>\n    <tr>\n      <th>4</th>\n      <td>2022-11-28 20:59:50 UTC</td>\n      <td>Argentina</td>\n      <td>C</td>\n      <td>86.02625</td>\n      <td>2.48839</td>\n      <td>0.42171</td>\n      <td>1.57821</td>\n      <td>0.26472</td>\n      <td>1.15707</td>\n      <td>1.89454</td>\n      <td>...</td>\n      <td>0.57290</td>\n      <td>0.20115</td>\n      <td>0.22498</td>\n      <td>0.00097</td>\n      <td>0.77405</td>\n      <td>0.49381</td>\n      <td>0.29805</td>\n      <td>0.12681</td>\n      <td>0.06528</td>\n      <td>2022-11-28 21:01:22 UTC</td>\n    </tr>\n    <tr>\n      <th>...</th>\n      <td>...</td>\n      <td>...</td>\n      <td>...</td>\n      <td>...</td>\n      <td>...</td>\n      <td>...</td>\n      <td>...</td>\n      <td>...</td>\n      <td>...</td>\n      <td>...</td>\n      <td>...</td>\n      <td>...</td>\n      <td>...</td>\n      <td>...</td>\n      <td>...</td>\n      <td>...</td>\n      <td>...</td>\n      <td>...</td>\n      <td>...</td>\n      <td>...</td>\n      <td>...</td>\n    </tr>\n    <tr>\n      <th>91</th>\n      <td>2022-11-16 16:00:55 UTC</td>\n      <td>Saudi Arabia</td>\n      <td>C</td>\n      <td>56.86592</td>\n      <td>1.50018</td>\n      <td>0.99118</td>\n      <td>0.59721</td>\n      <td>0.79021</td>\n      <td>1.61258</td>\n      <td>-2.26444</td>\n      <td>...</td>\n      <td>0.06973</td>\n      <td>0.17476</td>\n      <td>0.29436</td>\n      <td>0.46115</td>\n      <td>0.24449</td>\n      <td>0.06913</td>\n      <td>0.02164</td>\n      <td>0.00516</td>\n      <td>0.00132</td>\n      <td>2022-11-28 21:01:22 UTC</td>\n    </tr>\n    <tr>\n      <th>92</th>\n      <td>2022-11-16 16:00:55 UTC</td>\n      <td>Australia</td>\n      <td>D</td>\n      <td>60.83178</td>\n      <td>1.59388</td>\n      <td>0.91112</td>\n      <td>0.55148</td>\n      <td>0.79247</td>\n      <td>1.65605</td>\n      <td>-2.49253</td>\n      <td>...</td>\n      <td>0.05911</td>\n      <td>0.15706</td>\n      <td>0.30240</td>\n      <td>0.48143</td>\n      <td>0.21617</td>\n      <td>0.06500</td>\n      <td>0.02062</td>\n      <td>0.00454</td>\n      <td>0.00124</td>\n      <td>2022-11-28 21:01:22 UTC</td>\n    </tr>\n    <tr>\n      <th>93</th>\n      <td>2022-11-16 16:00:55 UTC</td>\n      <td>Qatar</td>\n      <td>A</td>\n      <td>51.00223</td>\n      <td>1.57111</td>\n      <td>1.31642</td>\n      <td>0.56555</td>\n      <td>0.68681</td>\n      <td>1.74764</td>\n      <td>-2.95133</td>\n      <td>...</td>\n      <td>0.06806</td>\n      <td>0.14850</td>\n      <td>0.25634</td>\n      <td>0.52710</td>\n      <td>0.21656</td>\n      <td>0.06588</td>\n      <td>0.01840</td>\n      <td>0.00399</td>\n      <td>0.00096</td>\n      <td>2022-11-28 21:01:22 UTC</td>\n    </tr>\n    <tr>\n      <th>94</th>\n      <td>2022-11-16 16:00:55 UTC</td>\n      <td>Ghana</td>\n      <td>H</td>\n      <td>58.62702</td>\n      <td>1.43347</td>\n      <td>0.85806</td>\n      <td>0.46730</td>\n      <td>0.80877</td>\n      <td>1.72393</td>\n      <td>-2.74111</td>\n      <td>...</td>\n      <td>0.04662</td>\n      <td>0.13341</td>\n      <td>0.28475</td>\n      <td>0.53522</td>\n      <td>0.18003</td>\n      <td>0.03586</td>\n      <td>0.00945</td>\n      <td>0.00284</td>\n      <td>0.00063</td>\n      <td>2022-11-28 21:01:22 UTC</td>\n    </tr>\n    <tr>\n      <th>95</th>\n      <td>2022-11-16 16:00:55 UTC</td>\n      <td>Costa Rica</td>\n      <td>E</td>\n      <td>55.45518</td>\n      <td>1.39816</td>\n      <td>0.95388</td>\n      <td>0.29847</td>\n      <td>0.61279</td>\n      <td>2.08874</td>\n      <td>-4.39879</td>\n      <td>...</td>\n      <td>0.01743</td>\n      <td>0.06655</td>\n      <td>0.22772</td>\n      <td>0.68830</td>\n      <td>0.08398</td>\n      <td>0.02290</td>\n      <td>0.00510</td>\n      <td>0.00132</td>\n      <td>0.00032</td>\n      <td>2022-11-28 21:01:22 UTC</td>\n    </tr>\n  </tbody>\n</table>\n<p>96 rows × 22 columns</p>\n</div>"
     },
     "execution_count": 4,
     "metadata": {},
     "output_type": "execute_result"
    }
   ],
   "source": [
    "\n",
    "df_world_cup.columns = df_world_cup.columns.str.lower().str.replace(' ', '_')\n",
    "df_world_cup"
   ]
  },
  {
   "cell_type": "markdown",
   "metadata": {},
   "source": [
    "## Exploratory data analysis"
   ]
  },
  {
   "cell_type": "code",
   "execution_count": 7,
   "metadata": {},
   "outputs": [
    {
     "name": "stdout",
     "output_type": "stream",
     "text": [
      "<class 'pandas.core.frame.DataFrame'>\n",
      "RangeIndex: 96 entries, 0 to 95\n",
      "Data columns (total 22 columns):\n",
      " #   Column              Non-Null Count  Dtype  \n",
      "---  ------              --------------  -----  \n",
      " 0   forecast_timestamp  96 non-null     object \n",
      " 1   team                96 non-null     object \n",
      " 2   group               96 non-null     object \n",
      " 3   spi                 96 non-null     float64\n",
      " 4   global_o            96 non-null     float64\n",
      " 5   global_d            96 non-null     float64\n",
      " 6   sim_wins            96 non-null     float64\n",
      " 7   sim_ties            96 non-null     float64\n",
      " 8   sim_losses          96 non-null     float64\n",
      " 9   sim_goal_diff       96 non-null     float64\n",
      " 10  goals_scored        96 non-null     float64\n",
      " 11  goals_against       96 non-null     float64\n",
      " 12  group_1             96 non-null     float64\n",
      " 13  group_2             96 non-null     float64\n",
      " 14  group_3             96 non-null     float64\n",
      " 15  group_4             96 non-null     float64\n",
      " 16  make_round_of_16    96 non-null     float64\n",
      " 17  make_quarters       96 non-null     float64\n",
      " 18  make_semis          96 non-null     float64\n",
      " 19  make_final          96 non-null     float64\n",
      " 20  win_league          96 non-null     float64\n",
      " 21  timestamp           96 non-null     object \n",
      "dtypes: float64(18), object(4)\n",
      "memory usage: 16.6+ KB\n"
     ]
    }
   ],
   "source": [
    "df_world_cup.info()"
   ]
  },
  {
   "cell_type": "markdown",
   "metadata": {},
   "source": []
  },
  {
   "cell_type": "markdown",
   "metadata": {},
   "source": [
    "### Statistics"
   ]
  },
  {
   "cell_type": "code",
   "execution_count": 11,
   "metadata": {},
   "outputs": [
    {
     "name": "stdout",
     "output_type": "stream",
     "text": [
      "mean of goals_scored is 3.77\n",
      "median of goals_scored is 3.37\n",
      "std of goals_scored is 1.9\n"
     ]
    }
   ],
   "source": [
    "df_world_cup['goals_scored'].mean()\n",
    "print(f\"mean of goals_scored is {round(df_world_cup['goals_scored'].mean(), 2)}\")\n",
    "\n",
    "df_world_cup['goals_scored'].median()\n",
    "print(f\"median of goals_scored is {round(df_world_cup['goals_scored'].median(), 2)}\")\n",
    "\n",
    "df_world_cup['goals_scored'].std()\n",
    "print(f\"std of goals_scored is {round(df_world_cup['goals_scored'].std(), 2)}\")"
   ]
  },
  {
   "cell_type": "code",
   "execution_count": 12,
   "metadata": {},
   "outputs": [
    {
     "data": {
      "text/plain": "                  count   mean    std    min    25%    50%    75%    max\nspi                96.0  74.14  11.12  48.16  66.07  74.33  82.96  93.66\nglobal_o           96.0   2.11   0.51   1.28   1.69   2.00   2.53   3.22\nglobal_d           96.0   0.69   0.20   0.24   0.57   0.68   0.79   1.32\nsim_wins           96.0   1.09   0.64   0.04   0.59   1.06   1.54   2.81\nsim_ties           96.0   0.82   0.44   0.14   0.52   0.77   1.17   2.32\nsim_losses         96.0   1.09   0.61   0.04   0.59   1.08   1.53   2.78\nsim_goal_diff      96.0   0.00   3.04 -10.09  -1.49  -0.15   1.58   8.54\ngoals_scored       96.0   3.77   1.90   0.60   2.49   3.37   4.76  10.61\ngoals_against      96.0   3.77   1.81   0.31   2.50   3.59   4.38  11.39\ngroup_1            96.0   0.25   0.28   0.00   0.03   0.14   0.37   1.00\ngroup_2            96.0   0.25   0.15   0.00   0.16   0.24   0.31   0.67\ngroup_3            96.0   0.25   0.15   0.00   0.14   0.26   0.31   0.80\ngroup_4            96.0   0.25   0.26   0.00   0.04   0.20   0.36   1.00\nmake_round_of_16   96.0   0.50   0.29   0.00   0.30   0.47   0.76   1.00\nmake_quarters      96.0   0.25   0.21   0.00   0.10   0.18   0.33   0.82\nmake_semis         96.0   0.13   0.13   0.00   0.04   0.07   0.16   0.54\nmake_final         96.0   0.06   0.08   0.00   0.01   0.03   0.07   0.39\nwin_league         96.0   0.03   0.05   0.00   0.00   0.01   0.03   0.26",
      "text/html": "<div>\n<style scoped>\n    .dataframe tbody tr th:only-of-type {\n        vertical-align: middle;\n    }\n\n    .dataframe tbody tr th {\n        vertical-align: top;\n    }\n\n    .dataframe thead th {\n        text-align: right;\n    }\n</style>\n<table border=\"1\" class=\"dataframe\">\n  <thead>\n    <tr style=\"text-align: right;\">\n      <th></th>\n      <th>count</th>\n      <th>mean</th>\n      <th>std</th>\n      <th>min</th>\n      <th>25%</th>\n      <th>50%</th>\n      <th>75%</th>\n      <th>max</th>\n    </tr>\n  </thead>\n  <tbody>\n    <tr>\n      <th>spi</th>\n      <td>96.0</td>\n      <td>74.14</td>\n      <td>11.12</td>\n      <td>48.16</td>\n      <td>66.07</td>\n      <td>74.33</td>\n      <td>82.96</td>\n      <td>93.66</td>\n    </tr>\n    <tr>\n      <th>global_o</th>\n      <td>96.0</td>\n      <td>2.11</td>\n      <td>0.51</td>\n      <td>1.28</td>\n      <td>1.69</td>\n      <td>2.00</td>\n      <td>2.53</td>\n      <td>3.22</td>\n    </tr>\n    <tr>\n      <th>global_d</th>\n      <td>96.0</td>\n      <td>0.69</td>\n      <td>0.20</td>\n      <td>0.24</td>\n      <td>0.57</td>\n      <td>0.68</td>\n      <td>0.79</td>\n      <td>1.32</td>\n    </tr>\n    <tr>\n      <th>sim_wins</th>\n      <td>96.0</td>\n      <td>1.09</td>\n      <td>0.64</td>\n      <td>0.04</td>\n      <td>0.59</td>\n      <td>1.06</td>\n      <td>1.54</td>\n      <td>2.81</td>\n    </tr>\n    <tr>\n      <th>sim_ties</th>\n      <td>96.0</td>\n      <td>0.82</td>\n      <td>0.44</td>\n      <td>0.14</td>\n      <td>0.52</td>\n      <td>0.77</td>\n      <td>1.17</td>\n      <td>2.32</td>\n    </tr>\n    <tr>\n      <th>sim_losses</th>\n      <td>96.0</td>\n      <td>1.09</td>\n      <td>0.61</td>\n      <td>0.04</td>\n      <td>0.59</td>\n      <td>1.08</td>\n      <td>1.53</td>\n      <td>2.78</td>\n    </tr>\n    <tr>\n      <th>sim_goal_diff</th>\n      <td>96.0</td>\n      <td>0.00</td>\n      <td>3.04</td>\n      <td>-10.09</td>\n      <td>-1.49</td>\n      <td>-0.15</td>\n      <td>1.58</td>\n      <td>8.54</td>\n    </tr>\n    <tr>\n      <th>goals_scored</th>\n      <td>96.0</td>\n      <td>3.77</td>\n      <td>1.90</td>\n      <td>0.60</td>\n      <td>2.49</td>\n      <td>3.37</td>\n      <td>4.76</td>\n      <td>10.61</td>\n    </tr>\n    <tr>\n      <th>goals_against</th>\n      <td>96.0</td>\n      <td>3.77</td>\n      <td>1.81</td>\n      <td>0.31</td>\n      <td>2.50</td>\n      <td>3.59</td>\n      <td>4.38</td>\n      <td>11.39</td>\n    </tr>\n    <tr>\n      <th>group_1</th>\n      <td>96.0</td>\n      <td>0.25</td>\n      <td>0.28</td>\n      <td>0.00</td>\n      <td>0.03</td>\n      <td>0.14</td>\n      <td>0.37</td>\n      <td>1.00</td>\n    </tr>\n    <tr>\n      <th>group_2</th>\n      <td>96.0</td>\n      <td>0.25</td>\n      <td>0.15</td>\n      <td>0.00</td>\n      <td>0.16</td>\n      <td>0.24</td>\n      <td>0.31</td>\n      <td>0.67</td>\n    </tr>\n    <tr>\n      <th>group_3</th>\n      <td>96.0</td>\n      <td>0.25</td>\n      <td>0.15</td>\n      <td>0.00</td>\n      <td>0.14</td>\n      <td>0.26</td>\n      <td>0.31</td>\n      <td>0.80</td>\n    </tr>\n    <tr>\n      <th>group_4</th>\n      <td>96.0</td>\n      <td>0.25</td>\n      <td>0.26</td>\n      <td>0.00</td>\n      <td>0.04</td>\n      <td>0.20</td>\n      <td>0.36</td>\n      <td>1.00</td>\n    </tr>\n    <tr>\n      <th>make_round_of_16</th>\n      <td>96.0</td>\n      <td>0.50</td>\n      <td>0.29</td>\n      <td>0.00</td>\n      <td>0.30</td>\n      <td>0.47</td>\n      <td>0.76</td>\n      <td>1.00</td>\n    </tr>\n    <tr>\n      <th>make_quarters</th>\n      <td>96.0</td>\n      <td>0.25</td>\n      <td>0.21</td>\n      <td>0.00</td>\n      <td>0.10</td>\n      <td>0.18</td>\n      <td>0.33</td>\n      <td>0.82</td>\n    </tr>\n    <tr>\n      <th>make_semis</th>\n      <td>96.0</td>\n      <td>0.13</td>\n      <td>0.13</td>\n      <td>0.00</td>\n      <td>0.04</td>\n      <td>0.07</td>\n      <td>0.16</td>\n      <td>0.54</td>\n    </tr>\n    <tr>\n      <th>make_final</th>\n      <td>96.0</td>\n      <td>0.06</td>\n      <td>0.08</td>\n      <td>0.00</td>\n      <td>0.01</td>\n      <td>0.03</td>\n      <td>0.07</td>\n      <td>0.39</td>\n    </tr>\n    <tr>\n      <th>win_league</th>\n      <td>96.0</td>\n      <td>0.03</td>\n      <td>0.05</td>\n      <td>0.00</td>\n      <td>0.00</td>\n      <td>0.01</td>\n      <td>0.03</td>\n      <td>0.26</td>\n    </tr>\n  </tbody>\n</table>\n</div>"
     },
     "execution_count": 12,
     "metadata": {},
     "output_type": "execute_result"
    }
   ],
   "source": [
    "df_world_cup.describe().T.round(2)"
   ]
  },
  {
   "cell_type": "markdown",
   "metadata": {},
   "source": [
    "### Horizontal bar chart of goals scored per team\n",
    "\n",
    "The bar plot shows the relationship between the numeric (goals_scored) and a categoric (team) variable."
   ]
  },
  {
   "cell_type": "code",
   "execution_count": 13,
   "metadata": {},
   "outputs": [],
   "source": [
    "# new df with relevant data only\n",
    "\n",
    "df_newest_date = df_world_cup[df_world_cup['forecast_timestamp'] == '2022-11-28 20:59:50 UTC'] # newest data"
   ]
  },
  {
   "cell_type": "code",
   "execution_count": 14,
   "metadata": {},
   "outputs": [],
   "source": [
    "df_top_scorer = df_newest_date[[\"team\", \"goals_scored\"]] #only team, group, goals_scored\n",
    "\n",
    "df_top_scorer = df_top_scorer.sort_values(by=\"goals_scored\", ascending=False) #sort by goals scored"
   ]
  },
  {
   "cell_type": "code",
   "execution_count": 15,
   "metadata": {},
   "outputs": [],
   "source": [
    "index = df_top_scorer.index[4] # index of country no.5\n",
    "value = df_top_scorer[\"goals_scored\"][index] # goals scored of country no.5"
   ]
  },
  {
   "cell_type": "code",
   "execution_count": 16,
   "metadata": {},
   "outputs": [
    {
     "data": {
      "text/plain": "       goals_scored\ncount     32.000000\nmean       3.759065\nstd        2.150123\nmin        0.604320\n25%        2.215172\n50%        3.030590\n75%        5.088360\nmax        9.764380",
      "text/html": "<div>\n<style scoped>\n    .dataframe tbody tr th:only-of-type {\n        vertical-align: middle;\n    }\n\n    .dataframe tbody tr th {\n        vertical-align: top;\n    }\n\n    .dataframe thead th {\n        text-align: right;\n    }\n</style>\n<table border=\"1\" class=\"dataframe\">\n  <thead>\n    <tr style=\"text-align: right;\">\n      <th></th>\n      <th>goals_scored</th>\n    </tr>\n  </thead>\n  <tbody>\n    <tr>\n      <th>count</th>\n      <td>32.000000</td>\n    </tr>\n    <tr>\n      <th>mean</th>\n      <td>3.759065</td>\n    </tr>\n    <tr>\n      <th>std</th>\n      <td>2.150123</td>\n    </tr>\n    <tr>\n      <th>min</th>\n      <td>0.604320</td>\n    </tr>\n    <tr>\n      <th>25%</th>\n      <td>2.215172</td>\n    </tr>\n    <tr>\n      <th>50%</th>\n      <td>3.030590</td>\n    </tr>\n    <tr>\n      <th>75%</th>\n      <td>5.088360</td>\n    </tr>\n    <tr>\n      <th>max</th>\n      <td>9.764380</td>\n    </tr>\n  </tbody>\n</table>\n</div>"
     },
     "execution_count": 16,
     "metadata": {},
     "output_type": "execute_result"
    }
   ],
   "source": [
    "df_top_scorer.describe()"
   ]
  },
  {
   "cell_type": "code",
   "execution_count": 102,
   "metadata": {},
   "outputs": [
    {
     "data": {
      "text/html": "\n<div id=\"altair-viz-01cc98dc676e46cdb08365aea06b447c\"></div>\n<script type=\"text/javascript\">\n  (function(spec, embedOpt){\n    let outputDiv = document.currentScript.previousElementSibling;\n    if (outputDiv.id !== \"altair-viz-01cc98dc676e46cdb08365aea06b447c\") {\n      outputDiv = document.getElementById(\"altair-viz-01cc98dc676e46cdb08365aea06b447c\");\n    }\n    const paths = {\n      \"vega\": \"https://cdn.jsdelivr.net/npm//vega@5?noext\",\n      \"vega-lib\": \"https://cdn.jsdelivr.net/npm//vega-lib?noext\",\n      \"vega-lite\": \"https://cdn.jsdelivr.net/npm//vega-lite@4.8.1?noext\",\n      \"vega-embed\": \"https://cdn.jsdelivr.net/npm//vega-embed@6?noext\",\n    };\n\n    function loadScript(lib) {\n      return new Promise(function(resolve, reject) {\n        var s = document.createElement('script');\n        s.src = paths[lib];\n        s.async = true;\n        s.onload = () => resolve(paths[lib]);\n        s.onerror = () => reject(`Error loading script: ${paths[lib]}`);\n        document.getElementsByTagName(\"head\")[0].appendChild(s);\n      });\n    }\n\n    function showError(err) {\n      outputDiv.innerHTML = `<div class=\"error\" style=\"color:red;\">${err}</div>`;\n      throw err;\n    }\n\n    function displayChart(vegaEmbed) {\n      vegaEmbed(outputDiv, spec, embedOpt)\n        .catch(err => showError(`Javascript Error: ${err.message}<br>This usually means there's a typo in your chart specification. See the javascript console for the full traceback.`));\n    }\n\n    if(typeof define === \"function\" && define.amd) {\n      requirejs.config({paths});\n      require([\"vega-embed\"], displayChart, err => showError(`Error loading script: ${err.message}`));\n    } else if (typeof vegaEmbed === \"function\") {\n      displayChart(vegaEmbed);\n    } else {\n      loadScript(\"vega\")\n        .then(() => loadScript(\"vega-lite\"))\n        .then(() => loadScript(\"vega-embed\"))\n        .catch(showError)\n        .then(() => displayChart(vegaEmbed));\n    }\n  })({\"config\": {\"view\": {\"continuousWidth\": 400, \"continuousHeight\": 300}}, \"data\": {\"name\": \"data-cd97d5d91fca45676683003e8dcdbf27\"}, \"mark\": \"bar\", \"encoding\": {\"color\": {\"condition\": {\"value\": \"green\", \"test\": \"(datum.goals_scored >= 5.69142)\"}, \"value\": \"gray\"}, \"x\": {\"type\": \"quantitative\", \"axis\": {\"title\": \"goals scored\"}, \"field\": \"goals_scored\"}, \"y\": {\"type\": \"nominal\", \"axis\": {\"title\": \"team\"}, \"field\": \"team\", \"impute\": {\"value\": 0}, \"sort\": {\"field\": \"goals_scored\", \"op\": \"max\", \"order\": \"descending\"}}}, \"resolve\": {\"scale\": {\"y\": \"independent\"}}, \"title\": {\"text\": [\"Countries sorted by goals scored\"], \"subtitle\": [\"Top 5 countries highlighted\"], \"color\": \"#000000\", \"fontSize\": 25, \"anchor\": \"start\"}, \"$schema\": \"https://vega.github.io/schema/vega-lite/v4.8.1.json\", \"datasets\": {\"data-cd97d5d91fca45676683003e8dcdbf27\": [{\"team\": \"Spain\", \"goals_scored\": 9.76438}, {\"team\": \"France\", \"goals_scored\": 7.78972}, {\"team\": \"England\", \"goals_scored\": 7.69141}, {\"team\": \"Portugal\", \"goals_scored\": 6.80943}, {\"team\": \"Ghana\", \"goals_scored\": 5.69142}, {\"team\": \"Netherlands\", \"goals_scored\": 5.55187}, {\"team\": \"Croatia\", \"goals_scored\": 5.36639}, {\"team\": \"Brazil\", \"goals_scored\": 5.26053}, {\"team\": \"Iran\", \"goals_scored\": 5.03097}, {\"team\": \"Argentina\", \"goals_scored\": 4.61122}, {\"team\": \"Germany\", \"goals_scored\": 4.51484}, {\"team\": \"Serbia\", \"goals_scored\": 4.16647}, {\"team\": \"Ecuador\", \"goals_scored\": 4.04594}, {\"team\": \"Senegal\", \"goals_scored\": 3.9069}, {\"team\": \"Cameroon\", \"goals_scored\": 3.31309}, {\"team\": \"Morocco\", \"goals_scored\": 3.19518}, {\"team\": \"South Korea\", \"goals_scored\": 2.866}, {\"team\": \"Australia\", \"goals_scored\": 2.85087}, {\"team\": \"Saudi Arabia\", \"goals_scored\": 2.84883}, {\"team\": \"Poland\", \"goals_scored\": 2.71668}, {\"team\": \"Japan\", \"goals_scored\": 2.71639}, {\"team\": \"Denmark\", \"goals_scored\": 2.53289}, {\"team\": \"Switzerland\", \"goals_scored\": 2.34865}, {\"team\": \"Belgium\", \"goals_scored\": 2.23233}, {\"team\": \"USA\", \"goals_scored\": 2.1637}, {\"team\": \"Canada\", \"goals_scored\": 1.98901}, {\"team\": \"Wales\", \"goals_scored\": 1.70231}, {\"team\": \"Qatar\", \"goals_scored\": 1.66099}, {\"team\": \"Uruguay\", \"goals_scored\": 1.53457}, {\"team\": \"Costa Rica\", \"goals_scored\": 1.50127}, {\"team\": \"Mexico\", \"goals_scored\": 1.31152}, {\"team\": \"Tunisia\", \"goals_scored\": 0.60432}]}}, {\"mode\": \"vega-lite\"});\n</script>",
      "text/plain": "alt.Chart(...)"
     },
     "execution_count": 102,
     "metadata": {},
     "output_type": "execute_result"
    }
   ],
   "source": [
    "source = df_top_scorer\n",
    "\n",
    "bar = alt.Chart(source).mark_bar().encode(\n",
    "    alt.Y('team:N', axis=alt.Axis(title='team'), sort=alt.EncodingSortField(field=\"goals_scored\", op=\"max\", order='descending'), impute=alt.ImputeParams(value=0)), # sorting values\n",
    "    alt.X('goals_scored', axis=alt.Axis(title='goals scored')),\n",
    "    color=alt.condition(\n",
    "        alt.datum.goals_scored >= value, #highlighting the top 5 countries by goals scored\n",
    "        alt.value('green'),\n",
    "        alt.value('gray'),\n",
    "    ),\n",
    ").resolve_scale(\n",
    "    y='independent'\n",
    ").properties(\n",
    "    title={\n",
    "      'text': ['Countries sorted by goals scored'], \n",
    "      'subtitle': ['Top 5 countries highlighted'],\n",
    "      'color': '#000000',\n",
    "      'fontSize': 25,\n",
    "      'anchor': 'start',\n",
    "    }\n",
    ")\n",
    "\n",
    "bar"
   ]
  },
  {
   "cell_type": "markdown",
   "metadata": {},
   "source": [
    "### Interactive grouped scatter plot of defense and offense per country\n",
    "\n",
    "The interactive scatter plot shows the correlation between the gobal defense (y) and offense (x) of each country. They are grouped by the groups for the 2022 World Cup. Hovering over a point shows the name of the team.\n",
    "\n",
    "The scatter plot is commonly used to show the relationship between (numeric) variables. The categorial variable is used to group the points, indicated by their color."
   ]
  },
  {
   "cell_type": "code",
   "execution_count": 109,
   "metadata": {},
   "outputs": [],
   "source": [
    "# new df with relevant data only\n",
    "\n",
    "df_newest_date = df_world_cup[df_world_cup['forecast_timestamp'] == '2022-11-28 20:59:50 UTC'] # newest data"
   ]
  },
  {
   "cell_type": "code",
   "execution_count": 118,
   "metadata": {},
   "outputs": [
    {
     "data": {
      "text/plain": "            team group  global_o  global_d       spi\n0         Brazil     G   3.06210   0.23656  93.48139\n1          Spain     E   2.84092   0.33577  90.62031\n2         France     D   3.03006   0.45553  90.14910\n3       Portugal     H   2.81564   0.51015  87.55187\n4      Argentina     C   2.48839   0.42171  86.02625\n5        England     B   2.54769   0.48612  85.40758\n6        Germany     E   3.15327   0.60378  88.86004\n7    Netherlands     A   2.59307   0.56564  84.38370\n8        Croatia     F   2.30506   0.57143  80.87388\n9        Ecuador     A   1.93859   0.56118  75.81562\n10       Denmark     D   2.14044   0.61433  77.67855\n11   Switzerland     G   2.08920   0.61069  77.00154\n12       Morocco     F   1.90939   0.57595  74.98677\n13       Uruguay     H   2.08567   0.50822  79.28334\n14       Belgium     F   2.39434   0.69623  79.43852\n15        Poland     C   1.84231   0.77859  68.95006\n16          Iran     B   1.78397   0.72133  69.25599\n17           USA     B   1.91623   0.68239  72.55486\n18       Senegal     A   1.88325   0.64005  73.00354\n19         Japan     E   1.98526   0.68384  73.67885\n20        Serbia     G   2.19758   0.78677  74.72180\n21        Mexico     C   1.79005   0.59636  72.44435\n22     Australia     D   1.61996   0.86734  62.44587\n23  Saudi Arabia     C   1.65981   0.91933  62.01155\n24   South Korea     H   1.84149   0.71967  70.34955\n25         Ghana     H   1.59883   0.92909  60.50179\n26       Tunisia     D   1.54964   0.67071  65.92204\n27         Wales     B   1.66960   0.79776  65.16790\n28    Costa Rica     E   1.27862   0.94276  52.89792\n29      Cameroon     G   1.69585   0.84762  64.47548\n30        Canada     F   1.97761   0.77110  71.52045\n31         Qatar     A   1.43718   1.29612  48.45657",
      "text/html": "<div>\n<style scoped>\n    .dataframe tbody tr th:only-of-type {\n        vertical-align: middle;\n    }\n\n    .dataframe tbody tr th {\n        vertical-align: top;\n    }\n\n    .dataframe thead th {\n        text-align: right;\n    }\n</style>\n<table border=\"1\" class=\"dataframe\">\n  <thead>\n    <tr style=\"text-align: right;\">\n      <th></th>\n      <th>team</th>\n      <th>group</th>\n      <th>global_o</th>\n      <th>global_d</th>\n      <th>spi</th>\n    </tr>\n  </thead>\n  <tbody>\n    <tr>\n      <th>0</th>\n      <td>Brazil</td>\n      <td>G</td>\n      <td>3.06210</td>\n      <td>0.23656</td>\n      <td>93.48139</td>\n    </tr>\n    <tr>\n      <th>1</th>\n      <td>Spain</td>\n      <td>E</td>\n      <td>2.84092</td>\n      <td>0.33577</td>\n      <td>90.62031</td>\n    </tr>\n    <tr>\n      <th>2</th>\n      <td>France</td>\n      <td>D</td>\n      <td>3.03006</td>\n      <td>0.45553</td>\n      <td>90.14910</td>\n    </tr>\n    <tr>\n      <th>3</th>\n      <td>Portugal</td>\n      <td>H</td>\n      <td>2.81564</td>\n      <td>0.51015</td>\n      <td>87.55187</td>\n    </tr>\n    <tr>\n      <th>4</th>\n      <td>Argentina</td>\n      <td>C</td>\n      <td>2.48839</td>\n      <td>0.42171</td>\n      <td>86.02625</td>\n    </tr>\n    <tr>\n      <th>5</th>\n      <td>England</td>\n      <td>B</td>\n      <td>2.54769</td>\n      <td>0.48612</td>\n      <td>85.40758</td>\n    </tr>\n    <tr>\n      <th>6</th>\n      <td>Germany</td>\n      <td>E</td>\n      <td>3.15327</td>\n      <td>0.60378</td>\n      <td>88.86004</td>\n    </tr>\n    <tr>\n      <th>7</th>\n      <td>Netherlands</td>\n      <td>A</td>\n      <td>2.59307</td>\n      <td>0.56564</td>\n      <td>84.38370</td>\n    </tr>\n    <tr>\n      <th>8</th>\n      <td>Croatia</td>\n      <td>F</td>\n      <td>2.30506</td>\n      <td>0.57143</td>\n      <td>80.87388</td>\n    </tr>\n    <tr>\n      <th>9</th>\n      <td>Ecuador</td>\n      <td>A</td>\n      <td>1.93859</td>\n      <td>0.56118</td>\n      <td>75.81562</td>\n    </tr>\n    <tr>\n      <th>10</th>\n      <td>Denmark</td>\n      <td>D</td>\n      <td>2.14044</td>\n      <td>0.61433</td>\n      <td>77.67855</td>\n    </tr>\n    <tr>\n      <th>11</th>\n      <td>Switzerland</td>\n      <td>G</td>\n      <td>2.08920</td>\n      <td>0.61069</td>\n      <td>77.00154</td>\n    </tr>\n    <tr>\n      <th>12</th>\n      <td>Morocco</td>\n      <td>F</td>\n      <td>1.90939</td>\n      <td>0.57595</td>\n      <td>74.98677</td>\n    </tr>\n    <tr>\n      <th>13</th>\n      <td>Uruguay</td>\n      <td>H</td>\n      <td>2.08567</td>\n      <td>0.50822</td>\n      <td>79.28334</td>\n    </tr>\n    <tr>\n      <th>14</th>\n      <td>Belgium</td>\n      <td>F</td>\n      <td>2.39434</td>\n      <td>0.69623</td>\n      <td>79.43852</td>\n    </tr>\n    <tr>\n      <th>15</th>\n      <td>Poland</td>\n      <td>C</td>\n      <td>1.84231</td>\n      <td>0.77859</td>\n      <td>68.95006</td>\n    </tr>\n    <tr>\n      <th>16</th>\n      <td>Iran</td>\n      <td>B</td>\n      <td>1.78397</td>\n      <td>0.72133</td>\n      <td>69.25599</td>\n    </tr>\n    <tr>\n      <th>17</th>\n      <td>USA</td>\n      <td>B</td>\n      <td>1.91623</td>\n      <td>0.68239</td>\n      <td>72.55486</td>\n    </tr>\n    <tr>\n      <th>18</th>\n      <td>Senegal</td>\n      <td>A</td>\n      <td>1.88325</td>\n      <td>0.64005</td>\n      <td>73.00354</td>\n    </tr>\n    <tr>\n      <th>19</th>\n      <td>Japan</td>\n      <td>E</td>\n      <td>1.98526</td>\n      <td>0.68384</td>\n      <td>73.67885</td>\n    </tr>\n    <tr>\n      <th>20</th>\n      <td>Serbia</td>\n      <td>G</td>\n      <td>2.19758</td>\n      <td>0.78677</td>\n      <td>74.72180</td>\n    </tr>\n    <tr>\n      <th>21</th>\n      <td>Mexico</td>\n      <td>C</td>\n      <td>1.79005</td>\n      <td>0.59636</td>\n      <td>72.44435</td>\n    </tr>\n    <tr>\n      <th>22</th>\n      <td>Australia</td>\n      <td>D</td>\n      <td>1.61996</td>\n      <td>0.86734</td>\n      <td>62.44587</td>\n    </tr>\n    <tr>\n      <th>23</th>\n      <td>Saudi Arabia</td>\n      <td>C</td>\n      <td>1.65981</td>\n      <td>0.91933</td>\n      <td>62.01155</td>\n    </tr>\n    <tr>\n      <th>24</th>\n      <td>South Korea</td>\n      <td>H</td>\n      <td>1.84149</td>\n      <td>0.71967</td>\n      <td>70.34955</td>\n    </tr>\n    <tr>\n      <th>25</th>\n      <td>Ghana</td>\n      <td>H</td>\n      <td>1.59883</td>\n      <td>0.92909</td>\n      <td>60.50179</td>\n    </tr>\n    <tr>\n      <th>26</th>\n      <td>Tunisia</td>\n      <td>D</td>\n      <td>1.54964</td>\n      <td>0.67071</td>\n      <td>65.92204</td>\n    </tr>\n    <tr>\n      <th>27</th>\n      <td>Wales</td>\n      <td>B</td>\n      <td>1.66960</td>\n      <td>0.79776</td>\n      <td>65.16790</td>\n    </tr>\n    <tr>\n      <th>28</th>\n      <td>Costa Rica</td>\n      <td>E</td>\n      <td>1.27862</td>\n      <td>0.94276</td>\n      <td>52.89792</td>\n    </tr>\n    <tr>\n      <th>29</th>\n      <td>Cameroon</td>\n      <td>G</td>\n      <td>1.69585</td>\n      <td>0.84762</td>\n      <td>64.47548</td>\n    </tr>\n    <tr>\n      <th>30</th>\n      <td>Canada</td>\n      <td>F</td>\n      <td>1.97761</td>\n      <td>0.77110</td>\n      <td>71.52045</td>\n    </tr>\n    <tr>\n      <th>31</th>\n      <td>Qatar</td>\n      <td>A</td>\n      <td>1.43718</td>\n      <td>1.29612</td>\n      <td>48.45657</td>\n    </tr>\n  </tbody>\n</table>\n</div>"
     },
     "execution_count": 118,
     "metadata": {},
     "output_type": "execute_result"
    }
   ],
   "source": [
    "df_do_group = df_newest_date[[\"team\", \"group\", \"global_o\", \"global_d\", \"spi\"]] # only team, group, global_o, global_d and spi\n",
    "df_do_group"
   ]
  },
  {
   "cell_type": "code",
   "execution_count": 123,
   "metadata": {},
   "outputs": [
    {
     "data": {
      "text/html": "\n<div id=\"altair-viz-e6dacc8579c946a6be4b1c307563302d\"></div>\n<script type=\"text/javascript\">\n  (function(spec, embedOpt){\n    let outputDiv = document.currentScript.previousElementSibling;\n    if (outputDiv.id !== \"altair-viz-e6dacc8579c946a6be4b1c307563302d\") {\n      outputDiv = document.getElementById(\"altair-viz-e6dacc8579c946a6be4b1c307563302d\");\n    }\n    const paths = {\n      \"vega\": \"https://cdn.jsdelivr.net/npm//vega@5?noext\",\n      \"vega-lib\": \"https://cdn.jsdelivr.net/npm//vega-lib?noext\",\n      \"vega-lite\": \"https://cdn.jsdelivr.net/npm//vega-lite@4.8.1?noext\",\n      \"vega-embed\": \"https://cdn.jsdelivr.net/npm//vega-embed@6?noext\",\n    };\n\n    function loadScript(lib) {\n      return new Promise(function(resolve, reject) {\n        var s = document.createElement('script');\n        s.src = paths[lib];\n        s.async = true;\n        s.onload = () => resolve(paths[lib]);\n        s.onerror = () => reject(`Error loading script: ${paths[lib]}`);\n        document.getElementsByTagName(\"head\")[0].appendChild(s);\n      });\n    }\n\n    function showError(err) {\n      outputDiv.innerHTML = `<div class=\"error\" style=\"color:red;\">${err}</div>`;\n      throw err;\n    }\n\n    function displayChart(vegaEmbed) {\n      vegaEmbed(outputDiv, spec, embedOpt)\n        .catch(err => showError(`Javascript Error: ${err.message}<br>This usually means there's a typo in your chart specification. See the javascript console for the full traceback.`));\n    }\n\n    if(typeof define === \"function\" && define.amd) {\n      requirejs.config({paths});\n      require([\"vega-embed\"], displayChart, err => showError(`Error loading script: ${err.message}`));\n    } else if (typeof vegaEmbed === \"function\") {\n      displayChart(vegaEmbed);\n    } else {\n      loadScript(\"vega\")\n        .then(() => loadScript(\"vega-lite\"))\n        .then(() => loadScript(\"vega-embed\"))\n        .catch(showError)\n        .then(() => displayChart(vegaEmbed));\n    }\n  })({\"config\": {\"view\": {\"continuousWidth\": 400, \"continuousHeight\": 300}, \"title\": {\"anchor\": \"start\", \"color\": \"#394c1e\", \"font\": \"Times New Roman\", \"fontSize\": 20}}, \"data\": {\"name\": \"data-25f7ec44d4a812eb86e3c212f7419863\"}, \"mark\": \"point\", \"encoding\": {\"color\": {\"condition\": {\"type\": \"nominal\", \"field\": \"group\", \"selection\": \"selector031\"}, \"value\": \"lightgray\"}, \"tooltip\": {\"type\": \"nominal\", \"field\": \"team\"}, \"x\": {\"type\": \"quantitative\", \"axis\": {\"title\": \"global offense\"}, \"field\": \"global_o\"}, \"y\": {\"type\": \"quantitative\", \"axis\": {\"title\": \"global defense\"}, \"field\": \"global_d\"}}, \"selection\": {\"selector031\": {\"type\": \"interval\"}, \"selector032\": {\"type\": \"interval\", \"bind\": \"scales\", \"encodings\": [\"x\", \"y\"]}}, \"title\": \"Global defense and offense per country\", \"$schema\": \"https://vega.github.io/schema/vega-lite/v4.8.1.json\", \"datasets\": {\"data-25f7ec44d4a812eb86e3c212f7419863\": [{\"team\": \"Brazil\", \"group\": \"G\", \"global_o\": 3.0621, \"global_d\": 0.23656, \"spi\": 93.48139}, {\"team\": \"Spain\", \"group\": \"E\", \"global_o\": 2.84092, \"global_d\": 0.33577, \"spi\": 90.62031}, {\"team\": \"France\", \"group\": \"D\", \"global_o\": 3.03006, \"global_d\": 0.45553, \"spi\": 90.1491}, {\"team\": \"Portugal\", \"group\": \"H\", \"global_o\": 2.81564, \"global_d\": 0.51015, \"spi\": 87.55187}, {\"team\": \"Argentina\", \"group\": \"C\", \"global_o\": 2.48839, \"global_d\": 0.42171, \"spi\": 86.02625}, {\"team\": \"England\", \"group\": \"B\", \"global_o\": 2.54769, \"global_d\": 0.48612, \"spi\": 85.40758}, {\"team\": \"Germany\", \"group\": \"E\", \"global_o\": 3.15327, \"global_d\": 0.60378, \"spi\": 88.86004}, {\"team\": \"Netherlands\", \"group\": \"A\", \"global_o\": 2.59307, \"global_d\": 0.56564, \"spi\": 84.3837}, {\"team\": \"Croatia\", \"group\": \"F\", \"global_o\": 2.30506, \"global_d\": 0.57143, \"spi\": 80.87388}, {\"team\": \"Ecuador\", \"group\": \"A\", \"global_o\": 1.93859, \"global_d\": 0.56118, \"spi\": 75.81562}, {\"team\": \"Denmark\", \"group\": \"D\", \"global_o\": 2.14044, \"global_d\": 0.61433, \"spi\": 77.67855}, {\"team\": \"Switzerland\", \"group\": \"G\", \"global_o\": 2.0892, \"global_d\": 0.61069, \"spi\": 77.00154}, {\"team\": \"Morocco\", \"group\": \"F\", \"global_o\": 1.90939, \"global_d\": 0.57595, \"spi\": 74.98677}, {\"team\": \"Uruguay\", \"group\": \"H\", \"global_o\": 2.08567, \"global_d\": 0.50822, \"spi\": 79.28334}, {\"team\": \"Belgium\", \"group\": \"F\", \"global_o\": 2.39434, \"global_d\": 0.69623, \"spi\": 79.43852}, {\"team\": \"Poland\", \"group\": \"C\", \"global_o\": 1.84231, \"global_d\": 0.77859, \"spi\": 68.95006}, {\"team\": \"Iran\", \"group\": \"B\", \"global_o\": 1.78397, \"global_d\": 0.72133, \"spi\": 69.25599}, {\"team\": \"USA\", \"group\": \"B\", \"global_o\": 1.91623, \"global_d\": 0.68239, \"spi\": 72.55486}, {\"team\": \"Senegal\", \"group\": \"A\", \"global_o\": 1.88325, \"global_d\": 0.64005, \"spi\": 73.00354}, {\"team\": \"Japan\", \"group\": \"E\", \"global_o\": 1.98526, \"global_d\": 0.68384, \"spi\": 73.67885}, {\"team\": \"Serbia\", \"group\": \"G\", \"global_o\": 2.19758, \"global_d\": 0.78677, \"spi\": 74.7218}, {\"team\": \"Mexico\", \"group\": \"C\", \"global_o\": 1.79005, \"global_d\": 0.59636, \"spi\": 72.44435}, {\"team\": \"Australia\", \"group\": \"D\", \"global_o\": 1.61996, \"global_d\": 0.86734, \"spi\": 62.44587}, {\"team\": \"Saudi Arabia\", \"group\": \"C\", \"global_o\": 1.65981, \"global_d\": 0.91933, \"spi\": 62.01155}, {\"team\": \"South Korea\", \"group\": \"H\", \"global_o\": 1.84149, \"global_d\": 0.71967, \"spi\": 70.34955}, {\"team\": \"Ghana\", \"group\": \"H\", \"global_o\": 1.59883, \"global_d\": 0.92909, \"spi\": 60.50179}, {\"team\": \"Tunisia\", \"group\": \"D\", \"global_o\": 1.54964, \"global_d\": 0.67071, \"spi\": 65.92204}, {\"team\": \"Wales\", \"group\": \"B\", \"global_o\": 1.6696, \"global_d\": 0.79776, \"spi\": 65.1679}, {\"team\": \"Costa Rica\", \"group\": \"E\", \"global_o\": 1.27862, \"global_d\": 0.94276, \"spi\": 52.89792}, {\"team\": \"Cameroon\", \"group\": \"G\", \"global_o\": 1.69585, \"global_d\": 0.84762, \"spi\": 64.47548}, {\"team\": \"Canada\", \"group\": \"F\", \"global_o\": 1.97761, \"global_d\": 0.7711, \"spi\": 71.52045}, {\"team\": \"Qatar\", \"group\": \"A\", \"global_o\": 1.43718, \"global_d\": 1.29612, \"spi\": 48.45657}]}}, {\"mode\": \"vega-lite\"});\n</script>",
      "text/plain": "alt.Chart(...)"
     },
     "execution_count": 123,
     "metadata": {},
     "output_type": "execute_result"
    }
   ],
   "source": [
    "source = df_do_group\n",
    "\n",
    "brush = alt.selection(type='interval')\n",
    "\n",
    "points = alt.Chart(source).mark_point().encode(\n",
    "    #x='global_o:Q',\n",
    "    x=alt.X('global_o:Q', axis=alt.Axis(title='global offense')), # new title axis\n",
    "    #y='global_d:Q',\n",
    "    y=alt.Y('global_d:Q', axis=alt.Axis(title='global defense')), # new title axis\n",
    "    color=alt.condition(brush, 'group', alt.value('lightgray')),\n",
    "    tooltip='team' # when hovering --> shows team name\n",
    ").add_selection(\n",
    "    brush\n",
    ").properties(\n",
    "    title='Global defense and offense per country'\n",
    ").interactive()\n",
    "\n",
    "points.configure_title(color='#394c1e', font='Times New Roman', fontSize=20, anchor='start') # configuring color, font and size of title"
   ]
  },
  {
   "cell_type": "markdown",
   "metadata": {},
   "source": [
    "### Horizontal grouped bar chart of soccer power index per group\n",
    "\n",
    "The bar plot shows the relationship between the numeric (soccer power index) and a categoric (team) variable. It is grouped by the categorical variable group and sorted within the group by the power soccer index (descending)."
   ]
  },
  {
   "cell_type": "code",
   "execution_count": 21,
   "metadata": {},
   "outputs": [],
   "source": [
    "df_spi_group = df_newest_date[[\"team\", \"group\", \"spi\"]] # only team, group and soccer power index"
   ]
  },
  {
   "cell_type": "code",
   "execution_count": 22,
   "metadata": {},
   "outputs": [
    {
     "data": {
      "text/plain": "             spi\ncount  32.000000\nmean   74.372407\nstd    10.918313\nmin    48.456570\n25%    68.193055\n50%    74.200325\n75%    81.751335\nmax    93.481390",
      "text/html": "<div>\n<style scoped>\n    .dataframe tbody tr th:only-of-type {\n        vertical-align: middle;\n    }\n\n    .dataframe tbody tr th {\n        vertical-align: top;\n    }\n\n    .dataframe thead th {\n        text-align: right;\n    }\n</style>\n<table border=\"1\" class=\"dataframe\">\n  <thead>\n    <tr style=\"text-align: right;\">\n      <th></th>\n      <th>spi</th>\n    </tr>\n  </thead>\n  <tbody>\n    <tr>\n      <th>count</th>\n      <td>32.000000</td>\n    </tr>\n    <tr>\n      <th>mean</th>\n      <td>74.372407</td>\n    </tr>\n    <tr>\n      <th>std</th>\n      <td>10.918313</td>\n    </tr>\n    <tr>\n      <th>min</th>\n      <td>48.456570</td>\n    </tr>\n    <tr>\n      <th>25%</th>\n      <td>68.193055</td>\n    </tr>\n    <tr>\n      <th>50%</th>\n      <td>74.200325</td>\n    </tr>\n    <tr>\n      <th>75%</th>\n      <td>81.751335</td>\n    </tr>\n    <tr>\n      <th>max</th>\n      <td>93.481390</td>\n    </tr>\n  </tbody>\n</table>\n</div>"
     },
     "execution_count": 22,
     "metadata": {},
     "output_type": "execute_result"
    }
   ],
   "source": [
    "df_spi_group.describe()"
   ]
  },
  {
   "cell_type": "markdown",
   "metadata": {},
   "source": [
    "The top 25% of soccer teams have a soccer power index above 81.75."
   ]
  },
  {
   "cell_type": "code",
   "execution_count": 100,
   "metadata": {},
   "outputs": [
    {
     "data": {
      "text/html": "\n<div id=\"altair-viz-eb24cd65c7c44d2b9964f1bdd8697419\"></div>\n<script type=\"text/javascript\">\n  (function(spec, embedOpt){\n    let outputDiv = document.currentScript.previousElementSibling;\n    if (outputDiv.id !== \"altair-viz-eb24cd65c7c44d2b9964f1bdd8697419\") {\n      outputDiv = document.getElementById(\"altair-viz-eb24cd65c7c44d2b9964f1bdd8697419\");\n    }\n    const paths = {\n      \"vega\": \"https://cdn.jsdelivr.net/npm//vega@5?noext\",\n      \"vega-lib\": \"https://cdn.jsdelivr.net/npm//vega-lib?noext\",\n      \"vega-lite\": \"https://cdn.jsdelivr.net/npm//vega-lite@4.8.1?noext\",\n      \"vega-embed\": \"https://cdn.jsdelivr.net/npm//vega-embed@6?noext\",\n    };\n\n    function loadScript(lib) {\n      return new Promise(function(resolve, reject) {\n        var s = document.createElement('script');\n        s.src = paths[lib];\n        s.async = true;\n        s.onload = () => resolve(paths[lib]);\n        s.onerror = () => reject(`Error loading script: ${paths[lib]}`);\n        document.getElementsByTagName(\"head\")[0].appendChild(s);\n      });\n    }\n\n    function showError(err) {\n      outputDiv.innerHTML = `<div class=\"error\" style=\"color:red;\">${err}</div>`;\n      throw err;\n    }\n\n    function displayChart(vegaEmbed) {\n      vegaEmbed(outputDiv, spec, embedOpt)\n        .catch(err => showError(`Javascript Error: ${err.message}<br>This usually means there's a typo in your chart specification. See the javascript console for the full traceback.`));\n    }\n\n    if(typeof define === \"function\" && define.amd) {\n      requirejs.config({paths});\n      require([\"vega-embed\"], displayChart, err => showError(`Error loading script: ${err.message}`));\n    } else if (typeof vegaEmbed === \"function\") {\n      displayChart(vegaEmbed);\n    } else {\n      loadScript(\"vega\")\n        .then(() => loadScript(\"vega-lite\"))\n        .then(() => loadScript(\"vega-embed\"))\n        .catch(showError)\n        .then(() => displayChart(vegaEmbed));\n    }\n  })({\"config\": {\"view\": {\"continuousWidth\": 400, \"continuousHeight\": 300}}, \"data\": {\"name\": \"data-e60eb7a9276f2d620717c2aa039b6ee9\"}, \"facet\": {\"row\": {\"type\": \"nominal\", \"field\": \"group\"}}, \"spec\": {\"mark\": \"bar\", \"encoding\": {\"color\": {\"condition\": {\"value\": \"green\", \"test\": \"(datum.spi > 81.75)\"}, \"value\": \"gray\"}, \"tooltip\": {\"type\": \"quantitative\", \"field\": \"spi\", \"format\": \",.2f\"}, \"x\": {\"type\": \"quantitative\", \"axis\": {\"title\": \"soccer power index\"}, \"field\": \"spi\"}, \"y\": {\"type\": \"nominal\", \"axis\": {\"title\": \"country\"}, \"field\": \"team\", \"impute\": {\"value\": 0}, \"sort\": {\"field\": \"spi\", \"op\": \"max\", \"order\": \"descending\"}}}, \"selection\": {\"selector007\": {\"type\": \"interval\", \"bind\": \"scales\", \"encodings\": [\"x\", \"y\"]}}}, \"resolve\": {\"scale\": {\"y\": \"independent\"}}, \"title\": {\"text\": [\"Soccer power index per country\"], \"subtitle\": [\"The top 25% countries are highlighted in green\"], \"color\": \"#394c1e\", \"subtitleColor\": \"gray\", \"fontSize\": 25, \"anchor\": \"start\"}, \"$schema\": \"https://vega.github.io/schema/vega-lite/v4.8.1.json\", \"datasets\": {\"data-e60eb7a9276f2d620717c2aa039b6ee9\": [{\"team\": \"Brazil\", \"group\": \"G\", \"spi\": 93.48139}, {\"team\": \"Spain\", \"group\": \"E\", \"spi\": 90.62031}, {\"team\": \"France\", \"group\": \"D\", \"spi\": 90.1491}, {\"team\": \"Portugal\", \"group\": \"H\", \"spi\": 87.55187}, {\"team\": \"Argentina\", \"group\": \"C\", \"spi\": 86.02625}, {\"team\": \"England\", \"group\": \"B\", \"spi\": 85.40758}, {\"team\": \"Germany\", \"group\": \"E\", \"spi\": 88.86004}, {\"team\": \"Netherlands\", \"group\": \"A\", \"spi\": 84.3837}, {\"team\": \"Croatia\", \"group\": \"F\", \"spi\": 80.87388}, {\"team\": \"Ecuador\", \"group\": \"A\", \"spi\": 75.81562}, {\"team\": \"Denmark\", \"group\": \"D\", \"spi\": 77.67855}, {\"team\": \"Switzerland\", \"group\": \"G\", \"spi\": 77.00154}, {\"team\": \"Morocco\", \"group\": \"F\", \"spi\": 74.98677}, {\"team\": \"Uruguay\", \"group\": \"H\", \"spi\": 79.28334}, {\"team\": \"Belgium\", \"group\": \"F\", \"spi\": 79.43852}, {\"team\": \"Poland\", \"group\": \"C\", \"spi\": 68.95006}, {\"team\": \"Iran\", \"group\": \"B\", \"spi\": 69.25599}, {\"team\": \"USA\", \"group\": \"B\", \"spi\": 72.55486}, {\"team\": \"Senegal\", \"group\": \"A\", \"spi\": 73.00354}, {\"team\": \"Japan\", \"group\": \"E\", \"spi\": 73.67885}, {\"team\": \"Serbia\", \"group\": \"G\", \"spi\": 74.7218}, {\"team\": \"Mexico\", \"group\": \"C\", \"spi\": 72.44435}, {\"team\": \"Australia\", \"group\": \"D\", \"spi\": 62.44587}, {\"team\": \"Saudi Arabia\", \"group\": \"C\", \"spi\": 62.01155}, {\"team\": \"South Korea\", \"group\": \"H\", \"spi\": 70.34955}, {\"team\": \"Ghana\", \"group\": \"H\", \"spi\": 60.50179}, {\"team\": \"Tunisia\", \"group\": \"D\", \"spi\": 65.92204}, {\"team\": \"Wales\", \"group\": \"B\", \"spi\": 65.1679}, {\"team\": \"Costa Rica\", \"group\": \"E\", \"spi\": 52.89792}, {\"team\": \"Cameroon\", \"group\": \"G\", \"spi\": 64.47548}, {\"team\": \"Canada\", \"group\": \"F\", \"spi\": 71.52045}, {\"team\": \"Qatar\", \"group\": \"A\", \"spi\": 48.45657}]}}, {\"mode\": \"vega-lite\"});\n</script>",
      "text/plain": "alt.FacetChart(...)"
     },
     "execution_count": 100,
     "metadata": {},
     "output_type": "execute_result"
    }
   ],
   "source": [
    "source = df_spi_group\n",
    "\n",
    "bar = alt.Chart(source).mark_bar().encode(\n",
    "    #x='team',\n",
    "    #y='spi',\n",
    "    #row='group'\n",
    "    alt.Y('team:N', axis=alt.Axis(title='country'), sort=alt.EncodingSortField(field=\"spi\", op=\"max\", order='descending'), impute=alt.ImputeParams(value=0)), # sorting values\n",
    "    alt.X('spi', axis=alt.Axis(title='soccer power index')),\n",
    "    tooltip=alt.Tooltip(\"spi\", format=\",.2f\"),\n",
    "    color=alt.condition(\n",
    "        alt.datum.spi > 81.75, # highlighting the top 25% according to the soccer power index\n",
    "        alt.value('green'),\n",
    "        alt.value('gray'),\n",
    "    )\n",
    ").facet(\n",
    "    row=alt.Row('group:N'), # grouping values by group\n",
    ").resolve_scale(\n",
    "    y='independent'\n",
    ").properties(\n",
    "    title={\n",
    "      'text': ['Soccer power index per country'], \n",
    "      'subtitle': ['The top 25% countries are highlighted in green'],\n",
    "      'color': '#394c1e',\n",
    "      'subtitleColor': 'gray',\n",
    "      'fontSize': 25,\n",
    "      'anchor': 'start',\n",
    "    }\n",
    ").interactive()\n",
    "\n",
    "#bar.configure_title(color='#394c1e', font='Times New Roman', fontSize=20, anchor='start') # configuring color, font and size of title\n",
    "bar"
   ]
  },
  {
   "cell_type": "code",
   "execution_count": 24,
   "outputs": [
    {
     "data": {
      "text/plain": "<Figure size 1000x1000 with 2 Axes>",
      "image/png": "[encoded data removed]"
     },
     "metadata": {},
     "output_type": "display_data"
    }
   ],
   "source": [
    "## Correlation\n",
    "\n",
    "import matplotlib.pyplot as plt\n",
    "import seaborn as sns\n",
    "\n",
    "df_world_cup_corr = df_world_cup.copy()\n",
    "df_world_cup_corr.corr()\n",
    "plt.figure(figsize=(10,10))\n",
    "corr = df_world_cup_corr.corr()\n",
    "ax = sns.heatmap(\n",
    "    corr,\n",
    "    vmin=-1, vmax=1, center=0,\n",
    "    cmap=sns.diverging_palette(20, 220, n=200),\n",
    "    square=True, annot=False\n",
    ")\n",
    "ax.set_xticklabels(\n",
    "    ax.get_xticklabels(),\n",
    "    rotation=45,\n",
    "    horizontalalignment='right'\n",
    ")\n",
    "ax.set_yticklabels(\n",
    "    ax.get_yticklabels(),\n",
    "    rotation=45,\n",
    "\n",
    ");"
   ],
   "metadata": {
    "collapsed": false
   }
  },
  {
   "cell_type": "code",
   "execution_count": 124,
   "outputs": [
    {
     "data": {
      "application/vnd.plotly.v1+json": {
       "data": [
        {
         "marker": {
          "color": "green"
         },
         "name": "win",
         "x": [
          "Brazil",
          "Spain",
          "France",
          "Portugal",
          "Argentina",
          "England",
          "Germany",
          "Netherlands",
          "Croatia",
          "Ecuador",
          "Denmark",
          "Switzerland",
          "Morocco",
          "Uruguay",
          "Belgium",
          "Poland",
          "Iran",
          "USA",
          "Senegal",
          "Japan",
          "Serbia",
          "Mexico",
          "Australia",
          "Saudi Arabia",
          "South Korea",
          "Ghana",
          "Tunisia",
          "Wales",
          "Costa Rica",
          "Cameroon",
          "Canada",
          "Qatar",
          "Brazil",
          "Spain",
          "France",
          "Netherlands",
          "Portugal",
          "England",
          "Argentina",
          "Germany",
          "Belgium",
          "Denmark",
          "Uruguay",
          "Croatia",
          "Switzerland",
          "Ecuador",
          "Japan",
          "Morocco",
          "Mexico",
          "USA",
          "Serbia",
          "Senegal",
          "South Korea",
          "Poland",
          "Wales",
          "Tunisia",
          "Canada",
          "Saudi Arabia",
          "Iran",
          "Australia",
          "Cameroon",
          "Ghana",
          "Qatar",
          "Costa Rica",
          "Brazil",
          "Spain",
          "France",
          "Argentina",
          "Portugal",
          "Germany",
          "England",
          "Netherlands",
          "Denmark",
          "Uruguay",
          "Belgium",
          "Croatia",
          "Switzerland",
          "USA",
          "Mexico",
          "Senegal",
          "Ecuador",
          "Morocco",
          "Serbia",
          "Japan",
          "Canada",
          "Poland",
          "South Korea",
          "Tunisia",
          "Iran",
          "Wales",
          "Cameroon",
          "Saudi Arabia",
          "Australia",
          "Qatar",
          "Ghana",
          "Costa Rica"
         ],
         "y": [
          2.81289,
          1.61371,
          2.6489,
          2.58556,
          1.57821,
          1.60056,
          0.80585,
          1.77578,
          1.38931,
          1.36865,
          0.5222,
          1.39764,
          1.39518,
          0.56285,
          1.32471,
          1.15707,
          1.30798,
          0.37672,
          1.29687,
          1.13796,
          0.31136,
          0.46291,
          1.19985,
          1.22906,
          0.16703,
          1.15726,
          0.11259,
          0.14298,
          1.05175,
          0.03652,
          0.29019,
          0.07083,
          2.4447,
          2.08913,
          2.13886,
          2.21615,
          2.00726,
          2.13353,
          1.08527,
          1.08993,
          1.77229,
          0.76562,
          0.82117,
          0.75833,
          1.50987,
          1.57339,
          1.73706,
          0.66524,
          0.66514,
          0.60104,
          0.77051,
          0.85635,
          0.61698,
          0.56516,
          0.50869,
          0.51099,
          0.61657,
          1.52359,
          0.62716,
          0.47355,
          0.28323,
          0.38635,
          0.30538,
          0.20353,
          2.11474,
          1.76309,
          1.78422,
          1.83671,
          1.74211,
          1.65986,
          1.71265,
          1.73222,
          1.31537,
          1.32689,
          1.32798,
          1.15695,
          1.01246,
          1.08538,
          1.10911,
          1.10327,
          1.06051,
          1.00739,
          0.91609,
          0.9156,
          0.82211,
          0.84879,
          0.82649,
          0.73256,
          0.75007,
          0.72363,
          0.5109,
          0.59721,
          0.55148,
          0.56555,
          0.4673,
          0.29847
         ],
         "type": "bar"
        },
        {
         "marker": {
          "color": "grey"
         },
         "name": "draw",
         "x": [
          "Brazil",
          "Spain",
          "France",
          "Portugal",
          "Argentina",
          "England",
          "Germany",
          "Netherlands",
          "Croatia",
          "Ecuador",
          "Denmark",
          "Switzerland",
          "Morocco",
          "Uruguay",
          "Belgium",
          "Poland",
          "Iran",
          "USA",
          "Senegal",
          "Japan",
          "Serbia",
          "Mexico",
          "Australia",
          "Saudi Arabia",
          "South Korea",
          "Ghana",
          "Tunisia",
          "Wales",
          "Costa Rica",
          "Cameroon",
          "Canada",
          "Qatar",
          "Brazil",
          "Spain",
          "France",
          "Netherlands",
          "Portugal",
          "England",
          "Argentina",
          "Germany",
          "Belgium",
          "Denmark",
          "Uruguay",
          "Croatia",
          "Switzerland",
          "Ecuador",
          "Japan",
          "Morocco",
          "Mexico",
          "USA",
          "Serbia",
          "Senegal",
          "South Korea",
          "Poland",
          "Wales",
          "Tunisia",
          "Canada",
          "Saudi Arabia",
          "Iran",
          "Australia",
          "Cameroon",
          "Ghana",
          "Qatar",
          "Costa Rica",
          "Brazil",
          "Spain",
          "France",
          "Argentina",
          "Portugal",
          "Germany",
          "England",
          "Netherlands",
          "Denmark",
          "Uruguay",
          "Belgium",
          "Croatia",
          "Switzerland",
          "USA",
          "Mexico",
          "Senegal",
          "Ecuador",
          "Morocco",
          "Serbia",
          "Japan",
          "Canada",
          "Poland",
          "South Korea",
          "Tunisia",
          "Iran",
          "Wales",
          "Cameroon",
          "Saudi Arabia",
          "Australia",
          "Qatar",
          "Ghana",
          "Costa Rica"
         ],
         "y": [
          0.15059,
          1.24833,
          0.23851,
          0.24741,
          0.26472,
          1.25646,
          1.1424,
          1.15339,
          1.28598,
          1.33448,
          1.27795,
          0.291,
          1.31463,
          1.27989,
          0.28598,
          1.26472,
          0.3153,
          2.3153,
          0.33448,
          0.24833,
          1.291,
          1.30803,
          0.27795,
          0.30803,
          1.24741,
          0.27989,
          1.23851,
          1.25646,
          0.1424,
          1.15059,
          0.31463,
          0.15339,
          0.39723,
          0.49144,
          0.51836,
          0.45423,
          0.55613,
          0.51206,
          0.55644,
          0.39472,
          0.56993,
          1.54234,
          1.58766,
          1.58667,
          0.53487,
          0.61012,
          0.48563,
          1.6009,
          1.59635,
          1.559,
          0.59446,
          0.5945,
          1.58058,
          1.56449,
          1.57058,
          1.56864,
          0.61764,
          0.6044,
          0.61752,
          0.59262,
          0.45682,
          0.61211,
          0.43861,
          0.38891,
          0.59456,
          0.69769,
          0.73505,
          0.73199,
          0.74742,
          0.65542,
          0.79415,
          0.71039,
          0.83937,
          0.86229,
          0.8056,
          0.84997,
          0.79286,
          0.87897,
          0.86111,
          0.84656,
          0.83314,
          0.86128,
          0.77856,
          0.76006,
          0.85429,
          0.83305,
          0.85594,
          0.86585,
          0.9078,
          0.87562,
          0.72564,
          0.79021,
          0.79247,
          0.68681,
          0.80877,
          0.61279
         ],
         "type": "bar"
        },
        {
         "marker": {
          "color": "red"
         },
         "name": "loss",
         "x": [
          "Brazil",
          "Spain",
          "France",
          "Portugal",
          "Argentina",
          "England",
          "Germany",
          "Netherlands",
          "Croatia",
          "Ecuador",
          "Denmark",
          "Switzerland",
          "Morocco",
          "Uruguay",
          "Belgium",
          "Poland",
          "Iran",
          "USA",
          "Senegal",
          "Japan",
          "Serbia",
          "Mexico",
          "Australia",
          "Saudi Arabia",
          "South Korea",
          "Ghana",
          "Tunisia",
          "Wales",
          "Costa Rica",
          "Cameroon",
          "Canada",
          "Qatar",
          "Brazil",
          "Spain",
          "France",
          "Netherlands",
          "Portugal",
          "England",
          "Argentina",
          "Germany",
          "Belgium",
          "Denmark",
          "Uruguay",
          "Croatia",
          "Switzerland",
          "Ecuador",
          "Japan",
          "Morocco",
          "Mexico",
          "USA",
          "Serbia",
          "Senegal",
          "South Korea",
          "Poland",
          "Wales",
          "Tunisia",
          "Canada",
          "Saudi Arabia",
          "Iran",
          "Australia",
          "Cameroon",
          "Ghana",
          "Qatar",
          "Costa Rica",
          "Brazil",
          "Spain",
          "France",
          "Argentina",
          "Portugal",
          "Germany",
          "England",
          "Netherlands",
          "Denmark",
          "Uruguay",
          "Belgium",
          "Croatia",
          "Switzerland",
          "USA",
          "Mexico",
          "Senegal",
          "Ecuador",
          "Morocco",
          "Serbia",
          "Japan",
          "Canada",
          "Poland",
          "South Korea",
          "Tunisia",
          "Iran",
          "Wales",
          "Cameroon",
          "Saudi Arabia",
          "Australia",
          "Qatar",
          "Ghana",
          "Costa Rica"
         ],
         "y": [
          0.03652,
          0.13796,
          0.11259,
          0.16703,
          1.15707,
          0.14298,
          1.05175,
          0.07083,
          0.32471,
          0.29687,
          1.19985,
          1.31136,
          0.29019,
          1.15726,
          1.38931,
          0.57821,
          1.37672,
          0.30798,
          1.36865,
          1.61371,
          1.39764,
          1.22906,
          1.5222,
          1.46291,
          1.58556,
          1.56285,
          1.6489,
          1.60056,
          1.80585,
          1.81289,
          2.39518,
          2.77578,
          0.15807,
          0.41943,
          0.34278,
          0.32962,
          0.43661,
          0.35441,
          1.35829,
          1.51535,
          0.65778,
          0.69204,
          0.59117,
          0.655,
          0.95526,
          0.81649,
          0.77731,
          0.73386,
          0.73851,
          0.83996,
          1.63503,
          1.54915,
          0.80244,
          0.87035,
          0.92073,
          0.92037,
          1.76579,
          0.87201,
          1.75532,
          1.93383,
          2.25995,
          2.00154,
          2.25601,
          2.40756,
          0.2907,
          0.53922,
          0.48073,
          0.4313,
          0.51047,
          0.68472,
          0.4932,
          0.55739,
          0.84526,
          0.81082,
          0.86642,
          0.99308,
          1.19468,
          1.03565,
          1.02978,
          1.05017,
          1.10635,
          1.13133,
          1.30535,
          1.32434,
          1.3236,
          1.31816,
          1.31757,
          1.40159,
          1.34213,
          1.40075,
          1.76346,
          1.61258,
          1.65605,
          1.74764,
          1.72393,
          2.08874
         ],
         "type": "bar"
        }
       ],
       "layout": {
        "template": {
         "data": {
          "histogram2dcontour": [
           {
            "type": "histogram2dcontour",
            "colorbar": {
             "outlinewidth": 0,
             "ticks": ""
            },
            "colorscale": [
             [
              0.0,
              "#0d0887"
             ],
             [
              0.1111111111111111,
              "#46039f"
             ],
             [
              0.2222222222222222,
              "#7201a8"
             ],
             [
              0.3333333333333333,
              "#9c179e"
             ],
             [
              0.4444444444444444,
              "#bd3786"
             ],
             [
              0.5555555555555556,
              "#d8576b"
             ],
             [
              0.6666666666666666,
              "#ed7953"
             ],
             [
              0.7777777777777778,
              "#fb9f3a"
             ],
             [
              0.8888888888888888,
              "#fdca26"
             ],
             [
              1.0,
              "#f0f921"
             ]
            ]
           }
          ],
          "choropleth": [
           {
            "type": "choropleth",
            "colorbar": {
             "outlinewidth": 0,
             "ticks": ""
            }
           }
          ],
          "histogram2d": [
           {
            "type": "histogram2d",
            "colorbar": {
             "outlinewidth": 0,
             "ticks": ""
            },
            "colorscale": [
             [
              0.0,
              "#0d0887"
             ],
             [
              0.1111111111111111,
              "#46039f"
             ],
             [
              0.2222222222222222,
              "#7201a8"
             ],
             [
              0.3333333333333333,
              "#9c179e"
             ],
             [
              0.4444444444444444,
              "#bd3786"
             ],
             [
              0.5555555555555556,
              "#d8576b"
             ],
             [
              0.6666666666666666,
              "#ed7953"
             ],
             [
              0.7777777777777778,
              "#fb9f3a"
             ],
             [
              0.8888888888888888,
              "#fdca26"
             ],
             [
              1.0,
              "#f0f921"
             ]
            ]
           }
          ],
          "heatmap": [
           {
            "type": "heatmap",
            "colorbar": {
             "outlinewidth": 0,
             "ticks": ""
            },
            "colorscale": [
             [
              0.0,
              "#0d0887"
             ],
             [
              0.1111111111111111,
              "#46039f"
             ],
             [
              0.2222222222222222,
              "#7201a8"
             ],
             [
              0.3333333333333333,
              "#9c179e"
             ],
             [
              0.4444444444444444,
              "#bd3786"
             ],
             [
              0.5555555555555556,
              "#d8576b"
             ],
             [
              0.6666666666666666,
              "#ed7953"
             ],
             [
              0.7777777777777778,
              "#fb9f3a"
             ],
             [
              0.8888888888888888,
              "#fdca26"
             ],
             [
              1.0,
              "#f0f921"
             ]
            ]
           }
          ],
          "heatmapgl": [
           {
            "type": "heatmapgl",
            "colorbar": {
             "outlinewidth": 0,
             "ticks": ""
            },
            "colorscale": [
             [
              0.0,
              "#0d0887"
             ],
             [
              0.1111111111111111,
              "#46039f"
             ],
             [
              0.2222222222222222,
              "#7201a8"
             ],
             [
              0.3333333333333333,
              "#9c179e"
             ],
             [
              0.4444444444444444,
              "#bd3786"
             ],
             [
              0.5555555555555556,
              "#d8576b"
             ],
             [
              0.6666666666666666,
              "#ed7953"
             ],
             [
              0.7777777777777778,
              "#fb9f3a"
             ],
             [
              0.8888888888888888,
              "#fdca26"
             ],
             [
              1.0,
              "#f0f921"
             ]
            ]
           }
          ],
          "contourcarpet": [
           {
            "type": "contourcarpet",
            "colorbar": {
             "outlinewidth": 0,
             "ticks": ""
            }
           }
          ],
          "contour": [
           {
            "type": "contour",
            "colorbar": {
             "outlinewidth": 0,
             "ticks": ""
            },
            "colorscale": [
             [
              0.0,
              "#0d0887"
             ],
             [
              0.1111111111111111,
              "#46039f"
             ],
             [
              0.2222222222222222,
              "#7201a8"
             ],
             [
              0.3333333333333333,
              "#9c179e"
             ],
             [
              0.4444444444444444,
              "#bd3786"
             ],
             [
              0.5555555555555556,
              "#d8576b"
             ],
             [
              0.6666666666666666,
              "#ed7953"
             ],
             [
              0.7777777777777778,
              "#fb9f3a"
             ],
             [
              0.8888888888888888,
              "#fdca26"
             ],
             [
              1.0,
              "#f0f921"
             ]
            ]
           }
          ],
          "surface": [
           {
            "type": "surface",
            "colorbar": {
             "outlinewidth": 0,
             "ticks": ""
            },
            "colorscale": [
             [
              0.0,
              "#0d0887"
             ],
             [
              0.1111111111111111,
              "#46039f"
             ],
             [
              0.2222222222222222,
              "#7201a8"
             ],
             [
              0.3333333333333333,
              "#9c179e"
             ],
             [
              0.4444444444444444,
              "#bd3786"
             ],
             [
              0.5555555555555556,
              "#d8576b"
             ],
             [
              0.6666666666666666,
              "#ed7953"
             ],
             [
              0.7777777777777778,
              "#fb9f3a"
             ],
             [
              0.8888888888888888,
              "#fdca26"
             ],
             [
              1.0,
              "#f0f921"
             ]
            ]
           }
          ],
          "mesh3d": [
           {
            "type": "mesh3d",
            "colorbar": {
             "outlinewidth": 0,
             "ticks": ""
            }
           }
          ],
          "scatter": [
           {
            "fillpattern": {
             "fillmode": "overlay",
             "size": 10,
             "solidity": 0.2
            },
            "type": "scatter"
           }
          ],
          "parcoords": [
           {
            "type": "parcoords",
            "line": {
             "colorbar": {
              "outlinewidth": 0,
              "ticks": ""
             }
            }
           }
          ],
          "scatterpolargl": [
           {
            "type": "scatterpolargl",
            "marker": {
             "colorbar": {
              "outlinewidth": 0,
              "ticks": ""
             }
            }
           }
          ],
          "bar": [
           {
            "error_x": {
             "color": "#2a3f5f"
            },
            "error_y": {
             "color": "#2a3f5f"
            },
            "marker": {
             "line": {
              "color": "#E5ECF6",
              "width": 0.5
             },
             "pattern": {
              "fillmode": "overlay",
              "size": 10,
              "solidity": 0.2
             }
            },
            "type": "bar"
           }
          ],
          "scattergeo": [
           {
            "type": "scattergeo",
            "marker": {
             "colorbar": {
              "outlinewidth": 0,
              "ticks": ""
             }
            }
           }
          ],
          "scatterpolar": [
           {
            "type": "scatterpolar",
            "marker": {
             "colorbar": {
              "outlinewidth": 0,
              "ticks": ""
             }
            }
           }
          ],
          "histogram": [
           {
            "marker": {
             "pattern": {
              "fillmode": "overlay",
              "size": 10,
              "solidity": 0.2
             }
            },
            "type": "histogram"
           }
          ],
          "scattergl": [
           {
            "type": "scattergl",
            "marker": {
             "colorbar": {
              "outlinewidth": 0,
              "ticks": ""
             }
            }
           }
          ],
          "scatter3d": [
           {
            "type": "scatter3d",
            "line": {
             "colorbar": {
              "outlinewidth": 0,
              "ticks": ""
             }
            },
            "marker": {
             "colorbar": {
              "outlinewidth": 0,
              "ticks": ""
             }
            }
           }
          ],
          "scattermapbox": [
           {
            "type": "scattermapbox",
            "marker": {
             "colorbar": {
              "outlinewidth": 0,
              "ticks": ""
             }
            }
           }
          ],
          "scatterternary": [
           {
            "type": "scatterternary",
            "marker": {
             "colorbar": {
              "outlinewidth": 0,
              "ticks": ""
             }
            }
           }
          ],
          "scattercarpet": [
           {
            "type": "scattercarpet",
            "marker": {
             "colorbar": {
              "outlinewidth": 0,
              "ticks": ""
             }
            }
           }
          ],
          "carpet": [
           {
            "aaxis": {
             "endlinecolor": "#2a3f5f",
             "gridcolor": "white",
             "linecolor": "white",
             "minorgridcolor": "white",
             "startlinecolor": "#2a3f5f"
            },
            "baxis": {
             "endlinecolor": "#2a3f5f",
             "gridcolor": "white",
             "linecolor": "white",
             "minorgridcolor": "white",
             "startlinecolor": "#2a3f5f"
            },
            "type": "carpet"
           }
          ],
          "table": [
           {
            "cells": {
             "fill": {
              "color": "#EBF0F8"
             },
             "line": {
              "color": "white"
             }
            },
            "header": {
             "fill": {
              "color": "#C8D4E3"
             },
             "line": {
              "color": "white"
             }
            },
            "type": "table"
           }
          ],
          "barpolar": [
           {
            "marker": {
             "line": {
              "color": "#E5ECF6",
              "width": 0.5
             },
             "pattern": {
              "fillmode": "overlay",
              "size": 10,
              "solidity": 0.2
             }
            },
            "type": "barpolar"
           }
          ],
          "pie": [
           {
            "automargin": true,
            "type": "pie"
           }
          ]
         },
         "layout": {
          "autotypenumbers": "strict",
          "colorway": [
           "#636efa",
           "#EF553B",
           "#00cc96",
           "#ab63fa",
           "#FFA15A",
           "#19d3f3",
           "#FF6692",
           "#B6E880",
           "#FF97FF",
           "#FECB52"
          ],
          "font": {
           "color": "#2a3f5f"
          },
          "hovermode": "closest",
          "hoverlabel": {
           "align": "left"
          },
          "paper_bgcolor": "white",
          "plot_bgcolor": "#E5ECF6",
          "polar": {
           "bgcolor": "#E5ECF6",
           "angularaxis": {
            "gridcolor": "white",
            "linecolor": "white",
            "ticks": ""
           },
           "radialaxis": {
            "gridcolor": "white",
            "linecolor": "white",
            "ticks": ""
           }
          },
          "ternary": {
           "bgcolor": "#E5ECF6",
           "aaxis": {
            "gridcolor": "white",
            "linecolor": "white",
            "ticks": ""
           },
           "baxis": {
            "gridcolor": "white",
            "linecolor": "white",
            "ticks": ""
           },
           "caxis": {
            "gridcolor": "white",
            "linecolor": "white",
            "ticks": ""
           }
          },
          "coloraxis": {
           "colorbar": {
            "outlinewidth": 0,
            "ticks": ""
           }
          },
          "colorscale": {
           "sequential": [
            [
             0.0,
             "#0d0887"
            ],
            [
             0.1111111111111111,
             "#46039f"
            ],
            [
             0.2222222222222222,
             "#7201a8"
            ],
            [
             0.3333333333333333,
             "#9c179e"
            ],
            [
             0.4444444444444444,
             "#bd3786"
            ],
            [
             0.5555555555555556,
             "#d8576b"
            ],
            [
             0.6666666666666666,
             "#ed7953"
            ],
            [
             0.7777777777777778,
             "#fb9f3a"
            ],
            [
             0.8888888888888888,
             "#fdca26"
            ],
            [
             1.0,
             "#f0f921"
            ]
           ],
           "sequentialminus": [
            [
             0.0,
             "#0d0887"
            ],
            [
             0.1111111111111111,
             "#46039f"
            ],
            [
             0.2222222222222222,
             "#7201a8"
            ],
            [
             0.3333333333333333,
             "#9c179e"
            ],
            [
             0.4444444444444444,
             "#bd3786"
            ],
            [
             0.5555555555555556,
             "#d8576b"
            ],
            [
             0.6666666666666666,
             "#ed7953"
            ],
            [
             0.7777777777777778,
             "#fb9f3a"
            ],
            [
             0.8888888888888888,
             "#fdca26"
            ],
            [
             1.0,
             "#f0f921"
            ]
           ],
           "diverging": [
            [
             0,
             "#8e0152"
            ],
            [
             0.1,
             "#c51b7d"
            ],
            [
             0.2,
             "#de77ae"
            ],
            [
             0.3,
             "#f1b6da"
            ],
            [
             0.4,
             "#fde0ef"
            ],
            [
             0.5,
             "#f7f7f7"
            ],
            [
             0.6,
             "#e6f5d0"
            ],
            [
             0.7,
             "#b8e186"
            ],
            [
             0.8,
             "#7fbc41"
            ],
            [
             0.9,
             "#4d9221"
            ],
            [
             1,
             "#276419"
            ]
           ]
          },
          "xaxis": {
           "gridcolor": "white",
           "linecolor": "white",
           "ticks": "",
           "title": {
            "standoff": 15
           },
           "zerolinecolor": "white",
           "automargin": true,
           "zerolinewidth": 2
          },
          "yaxis": {
           "gridcolor": "white",
           "linecolor": "white",
           "ticks": "",
           "title": {
            "standoff": 15
           },
           "zerolinecolor": "white",
           "automargin": true,
           "zerolinewidth": 2
          },
          "scene": {
           "xaxis": {
            "backgroundcolor": "#E5ECF6",
            "gridcolor": "white",
            "linecolor": "white",
            "showbackground": true,
            "ticks": "",
            "zerolinecolor": "white",
            "gridwidth": 2
           },
           "yaxis": {
            "backgroundcolor": "#E5ECF6",
            "gridcolor": "white",
            "linecolor": "white",
            "showbackground": true,
            "ticks": "",
            "zerolinecolor": "white",
            "gridwidth": 2
           },
           "zaxis": {
            "backgroundcolor": "#E5ECF6",
            "gridcolor": "white",
            "linecolor": "white",
            "showbackground": true,
            "ticks": "",
            "zerolinecolor": "white",
            "gridwidth": 2
           }
          },
          "shapedefaults": {
           "line": {
            "color": "#2a3f5f"
           }
          },
          "annotationdefaults": {
           "arrowcolor": "#2a3f5f",
           "arrowhead": 0,
           "arrowwidth": 1
          },
          "geo": {
           "bgcolor": "white",
           "landcolor": "#E5ECF6",
           "subunitcolor": "white",
           "showland": true,
           "showlakes": true,
           "lakecolor": "white"
          },
          "title": {
           "x": 0.05
          },
          "mapbox": {
           "style": "light"
          }
         }
        },
        "title": {
         "text": "Countries: Sim Wins/Ties/Losses"
        },
        "xaxis": {
         "title": {
          "text": "Country Name"
         },
         "tickangle": -45
        },
        "yaxis": {
         "title": {
          "text": "Score"
         }
        },
        "barmode": "group"
       },
       "config": {
        "plotlyServerURL": "https://plot.ly"
       }
      },
      "text/html": "<div>                            <div id=\"16a30491-01aa-49a1-b674-130dfe3a848b\" class=\"plotly-graph-div\" style=\"height:525px; width:100%;\"></div>            <script type=\"text/javascript\">                require([\"plotly\"], function(Plotly) {                    window.PLOTLYENV=window.PLOTLYENV || {};                                    if (document.getElementById(\"16a30491-01aa-49a1-b674-130dfe3a848b\")) {                    Plotly.newPlot(                        \"16a30491-01aa-49a1-b674-130dfe3a848b\",                        [{\"marker\":{\"color\":\"green\"},\"name\":\"win\",\"x\":[\"Brazil\",\"Spain\",\"France\",\"Portugal\",\"Argentina\",\"England\",\"Germany\",\"Netherlands\",\"Croatia\",\"Ecuador\",\"Denmark\",\"Switzerland\",\"Morocco\",\"Uruguay\",\"Belgium\",\"Poland\",\"Iran\",\"USA\",\"Senegal\",\"Japan\",\"Serbia\",\"Mexico\",\"Australia\",\"Saudi Arabia\",\"South Korea\",\"Ghana\",\"Tunisia\",\"Wales\",\"Costa Rica\",\"Cameroon\",\"Canada\",\"Qatar\",\"Brazil\",\"Spain\",\"France\",\"Netherlands\",\"Portugal\",\"England\",\"Argentina\",\"Germany\",\"Belgium\",\"Denmark\",\"Uruguay\",\"Croatia\",\"Switzerland\",\"Ecuador\",\"Japan\",\"Morocco\",\"Mexico\",\"USA\",\"Serbia\",\"Senegal\",\"South Korea\",\"Poland\",\"Wales\",\"Tunisia\",\"Canada\",\"Saudi Arabia\",\"Iran\",\"Australia\",\"Cameroon\",\"Ghana\",\"Qatar\",\"Costa Rica\",\"Brazil\",\"Spain\",\"France\",\"Argentina\",\"Portugal\",\"Germany\",\"England\",\"Netherlands\",\"Denmark\",\"Uruguay\",\"Belgium\",\"Croatia\",\"Switzerland\",\"USA\",\"Mexico\",\"Senegal\",\"Ecuador\",\"Morocco\",\"Serbia\",\"Japan\",\"Canada\",\"Poland\",\"South Korea\",\"Tunisia\",\"Iran\",\"Wales\",\"Cameroon\",\"Saudi Arabia\",\"Australia\",\"Qatar\",\"Ghana\",\"Costa Rica\"],\"y\":[2.81289,1.61371,2.6489,2.58556,1.57821,1.60056,0.80585,1.77578,1.38931,1.36865,0.5222,1.39764,1.39518,0.56285,1.32471,1.15707,1.30798,0.37672,1.29687,1.13796,0.31136,0.46291,1.19985,1.22906,0.16703,1.15726,0.11259,0.14298,1.05175,0.03652,0.29019,0.07083,2.4447,2.08913,2.13886,2.21615,2.00726,2.13353,1.08527,1.08993,1.77229,0.76562,0.82117,0.75833,1.50987,1.57339,1.73706,0.66524,0.66514,0.60104,0.77051,0.85635,0.61698,0.56516,0.50869,0.51099,0.61657,1.52359,0.62716,0.47355,0.28323,0.38635,0.30538,0.20353,2.11474,1.76309,1.78422,1.83671,1.74211,1.65986,1.71265,1.73222,1.31537,1.32689,1.32798,1.15695,1.01246,1.08538,1.10911,1.10327,1.06051,1.00739,0.91609,0.9156,0.82211,0.84879,0.82649,0.73256,0.75007,0.72363,0.5109,0.59721,0.55148,0.56555,0.4673,0.29847],\"type\":\"bar\"},{\"marker\":{\"color\":\"grey\"},\"name\":\"draw\",\"x\":[\"Brazil\",\"Spain\",\"France\",\"Portugal\",\"Argentina\",\"England\",\"Germany\",\"Netherlands\",\"Croatia\",\"Ecuador\",\"Denmark\",\"Switzerland\",\"Morocco\",\"Uruguay\",\"Belgium\",\"Poland\",\"Iran\",\"USA\",\"Senegal\",\"Japan\",\"Serbia\",\"Mexico\",\"Australia\",\"Saudi Arabia\",\"South Korea\",\"Ghana\",\"Tunisia\",\"Wales\",\"Costa Rica\",\"Cameroon\",\"Canada\",\"Qatar\",\"Brazil\",\"Spain\",\"France\",\"Netherlands\",\"Portugal\",\"England\",\"Argentina\",\"Germany\",\"Belgium\",\"Denmark\",\"Uruguay\",\"Croatia\",\"Switzerland\",\"Ecuador\",\"Japan\",\"Morocco\",\"Mexico\",\"USA\",\"Serbia\",\"Senegal\",\"South Korea\",\"Poland\",\"Wales\",\"Tunisia\",\"Canada\",\"Saudi Arabia\",\"Iran\",\"Australia\",\"Cameroon\",\"Ghana\",\"Qatar\",\"Costa Rica\",\"Brazil\",\"Spain\",\"France\",\"Argentina\",\"Portugal\",\"Germany\",\"England\",\"Netherlands\",\"Denmark\",\"Uruguay\",\"Belgium\",\"Croatia\",\"Switzerland\",\"USA\",\"Mexico\",\"Senegal\",\"Ecuador\",\"Morocco\",\"Serbia\",\"Japan\",\"Canada\",\"Poland\",\"South Korea\",\"Tunisia\",\"Iran\",\"Wales\",\"Cameroon\",\"Saudi Arabia\",\"Australia\",\"Qatar\",\"Ghana\",\"Costa Rica\"],\"y\":[0.15059,1.24833,0.23851,0.24741,0.26472,1.25646,1.1424,1.15339,1.28598,1.33448,1.27795,0.291,1.31463,1.27989,0.28598,1.26472,0.3153,2.3153,0.33448,0.24833,1.291,1.30803,0.27795,0.30803,1.24741,0.27989,1.23851,1.25646,0.1424,1.15059,0.31463,0.15339,0.39723,0.49144,0.51836,0.45423,0.55613,0.51206,0.55644,0.39472,0.56993,1.54234,1.58766,1.58667,0.53487,0.61012,0.48563,1.6009,1.59635,1.559,0.59446,0.5945,1.58058,1.56449,1.57058,1.56864,0.61764,0.6044,0.61752,0.59262,0.45682,0.61211,0.43861,0.38891,0.59456,0.69769,0.73505,0.73199,0.74742,0.65542,0.79415,0.71039,0.83937,0.86229,0.8056,0.84997,0.79286,0.87897,0.86111,0.84656,0.83314,0.86128,0.77856,0.76006,0.85429,0.83305,0.85594,0.86585,0.9078,0.87562,0.72564,0.79021,0.79247,0.68681,0.80877,0.61279],\"type\":\"bar\"},{\"marker\":{\"color\":\"red\"},\"name\":\"loss\",\"x\":[\"Brazil\",\"Spain\",\"France\",\"Portugal\",\"Argentina\",\"England\",\"Germany\",\"Netherlands\",\"Croatia\",\"Ecuador\",\"Denmark\",\"Switzerland\",\"Morocco\",\"Uruguay\",\"Belgium\",\"Poland\",\"Iran\",\"USA\",\"Senegal\",\"Japan\",\"Serbia\",\"Mexico\",\"Australia\",\"Saudi Arabia\",\"South Korea\",\"Ghana\",\"Tunisia\",\"Wales\",\"Costa Rica\",\"Cameroon\",\"Canada\",\"Qatar\",\"Brazil\",\"Spain\",\"France\",\"Netherlands\",\"Portugal\",\"England\",\"Argentina\",\"Germany\",\"Belgium\",\"Denmark\",\"Uruguay\",\"Croatia\",\"Switzerland\",\"Ecuador\",\"Japan\",\"Morocco\",\"Mexico\",\"USA\",\"Serbia\",\"Senegal\",\"South Korea\",\"Poland\",\"Wales\",\"Tunisia\",\"Canada\",\"Saudi Arabia\",\"Iran\",\"Australia\",\"Cameroon\",\"Ghana\",\"Qatar\",\"Costa Rica\",\"Brazil\",\"Spain\",\"France\",\"Argentina\",\"Portugal\",\"Germany\",\"England\",\"Netherlands\",\"Denmark\",\"Uruguay\",\"Belgium\",\"Croatia\",\"Switzerland\",\"USA\",\"Mexico\",\"Senegal\",\"Ecuador\",\"Morocco\",\"Serbia\",\"Japan\",\"Canada\",\"Poland\",\"South Korea\",\"Tunisia\",\"Iran\",\"Wales\",\"Cameroon\",\"Saudi Arabia\",\"Australia\",\"Qatar\",\"Ghana\",\"Costa Rica\"],\"y\":[0.03652,0.13796,0.11259,0.16703,1.15707,0.14298,1.05175,0.07083,0.32471,0.29687,1.19985,1.31136,0.29019,1.15726,1.38931,0.57821,1.37672,0.30798,1.36865,1.61371,1.39764,1.22906,1.5222,1.46291,1.58556,1.56285,1.6489,1.60056,1.80585,1.81289,2.39518,2.77578,0.15807,0.41943,0.34278,0.32962,0.43661,0.35441,1.35829,1.51535,0.65778,0.69204,0.59117,0.655,0.95526,0.81649,0.77731,0.73386,0.73851,0.83996,1.63503,1.54915,0.80244,0.87035,0.92073,0.92037,1.76579,0.87201,1.75532,1.93383,2.25995,2.00154,2.25601,2.40756,0.2907,0.53922,0.48073,0.4313,0.51047,0.68472,0.4932,0.55739,0.84526,0.81082,0.86642,0.99308,1.19468,1.03565,1.02978,1.05017,1.10635,1.13133,1.30535,1.32434,1.3236,1.31816,1.31757,1.40159,1.34213,1.40075,1.76346,1.61258,1.65605,1.74764,1.72393,2.08874],\"type\":\"bar\"}],                        {\"template\":{\"data\":{\"histogram2dcontour\":[{\"type\":\"histogram2dcontour\",\"colorbar\":{\"outlinewidth\":0,\"ticks\":\"\"},\"colorscale\":[[0.0,\"#0d0887\"],[0.1111111111111111,\"#46039f\"],[0.2222222222222222,\"#7201a8\"],[0.3333333333333333,\"#9c179e\"],[0.4444444444444444,\"#bd3786\"],[0.5555555555555556,\"#d8576b\"],[0.6666666666666666,\"#ed7953\"],[0.7777777777777778,\"#fb9f3a\"],[0.8888888888888888,\"#fdca26\"],[1.0,\"#f0f921\"]]}],\"choropleth\":[{\"type\":\"choropleth\",\"colorbar\":{\"outlinewidth\":0,\"ticks\":\"\"}}],\"histogram2d\":[{\"type\":\"histogram2d\",\"colorbar\":{\"outlinewidth\":0,\"ticks\":\"\"},\"colorscale\":[[0.0,\"#0d0887\"],[0.1111111111111111,\"#46039f\"],[0.2222222222222222,\"#7201a8\"],[0.3333333333333333,\"#9c179e\"],[0.4444444444444444,\"#bd3786\"],[0.5555555555555556,\"#d8576b\"],[0.6666666666666666,\"#ed7953\"],[0.7777777777777778,\"#fb9f3a\"],[0.8888888888888888,\"#fdca26\"],[1.0,\"#f0f921\"]]}],\"heatmap\":[{\"type\":\"heatmap\",\"colorbar\":{\"outlinewidth\":0,\"ticks\":\"\"},\"colorscale\":[[0.0,\"#0d0887\"],[0.1111111111111111,\"#46039f\"],[0.2222222222222222,\"#7201a8\"],[0.3333333333333333,\"#9c179e\"],[0.4444444444444444,\"#bd3786\"],[0.5555555555555556,\"#d8576b\"],[0.6666666666666666,\"#ed7953\"],[0.7777777777777778,\"#fb9f3a\"],[0.8888888888888888,\"#fdca26\"],[1.0,\"#f0f921\"]]}],\"heatmapgl\":[{\"type\":\"heatmapgl\",\"colorbar\":{\"outlinewidth\":0,\"ticks\":\"\"},\"colorscale\":[[0.0,\"#0d0887\"],[0.1111111111111111,\"#46039f\"],[0.2222222222222222,\"#7201a8\"],[0.3333333333333333,\"#9c179e\"],[0.4444444444444444,\"#bd3786\"],[0.5555555555555556,\"#d8576b\"],[0.6666666666666666,\"#ed7953\"],[0.7777777777777778,\"#fb9f3a\"],[0.8888888888888888,\"#fdca26\"],[1.0,\"#f0f921\"]]}],\"contourcarpet\":[{\"type\":\"contourcarpet\",\"colorbar\":{\"outlinewidth\":0,\"ticks\":\"\"}}],\"contour\":[{\"type\":\"contour\",\"colorbar\":{\"outlinewidth\":0,\"ticks\":\"\"},\"colorscale\":[[0.0,\"#0d0887\"],[0.1111111111111111,\"#46039f\"],[0.2222222222222222,\"#7201a8\"],[0.3333333333333333,\"#9c179e\"],[0.4444444444444444,\"#bd3786\"],[0.5555555555555556,\"#d8576b\"],[0.6666666666666666,\"#ed7953\"],[0.7777777777777778,\"#fb9f3a\"],[0.8888888888888888,\"#fdca26\"],[1.0,\"#f0f921\"]]}],\"surface\":[{\"type\":\"surface\",\"colorbar\":{\"outlinewidth\":0,\"ticks\":\"\"},\"colorscale\":[[0.0,\"#0d0887\"],[0.1111111111111111,\"#46039f\"],[0.2222222222222222,\"#7201a8\"],[0.3333333333333333,\"#9c179e\"],[0.4444444444444444,\"#bd3786\"],[0.5555555555555556,\"#d8576b\"],[0.6666666666666666,\"#ed7953\"],[0.7777777777777778,\"#fb9f3a\"],[0.8888888888888888,\"#fdca26\"],[1.0,\"#f0f921\"]]}],\"mesh3d\":[{\"type\":\"mesh3d\",\"colorbar\":{\"outlinewidth\":0,\"ticks\":\"\"}}],\"scatter\":[{\"fillpattern\":{\"fillmode\":\"overlay\",\"size\":10,\"solidity\":0.2},\"type\":\"scatter\"}],\"parcoords\":[{\"type\":\"parcoords\",\"line\":{\"colorbar\":{\"outlinewidth\":0,\"ticks\":\"\"}}}],\"scatterpolargl\":[{\"type\":\"scatterpolargl\",\"marker\":{\"colorbar\":{\"outlinewidth\":0,\"ticks\":\"\"}}}],\"bar\":[{\"error_x\":{\"color\":\"#2a3f5f\"},\"error_y\":{\"color\":\"#2a3f5f\"},\"marker\":{\"line\":{\"color\":\"#E5ECF6\",\"width\":0.5},\"pattern\":{\"fillmode\":\"overlay\",\"size\":10,\"solidity\":0.2}},\"type\":\"bar\"}],\"scattergeo\":[{\"type\":\"scattergeo\",\"marker\":{\"colorbar\":{\"outlinewidth\":0,\"ticks\":\"\"}}}],\"scatterpolar\":[{\"type\":\"scatterpolar\",\"marker\":{\"colorbar\":{\"outlinewidth\":0,\"ticks\":\"\"}}}],\"histogram\":[{\"marker\":{\"pattern\":{\"fillmode\":\"overlay\",\"size\":10,\"solidity\":0.2}},\"type\":\"histogram\"}],\"scattergl\":[{\"type\":\"scattergl\",\"marker\":{\"colorbar\":{\"outlinewidth\":0,\"ticks\":\"\"}}}],\"scatter3d\":[{\"type\":\"scatter3d\",\"line\":{\"colorbar\":{\"outlinewidth\":0,\"ticks\":\"\"}},\"marker\":{\"colorbar\":{\"outlinewidth\":0,\"ticks\":\"\"}}}],\"scattermapbox\":[{\"type\":\"scattermapbox\",\"marker\":{\"colorbar\":{\"outlinewidth\":0,\"ticks\":\"\"}}}],\"scatterternary\":[{\"type\":\"scatterternary\",\"marker\":{\"colorbar\":{\"outlinewidth\":0,\"ticks\":\"\"}}}],\"scattercarpet\":[{\"type\":\"scattercarpet\",\"marker\":{\"colorbar\":{\"outlinewidth\":0,\"ticks\":\"\"}}}],\"carpet\":[{\"aaxis\":{\"endlinecolor\":\"#2a3f5f\",\"gridcolor\":\"white\",\"linecolor\":\"white\",\"minorgridcolor\":\"white\",\"startlinecolor\":\"#2a3f5f\"},\"baxis\":{\"endlinecolor\":\"#2a3f5f\",\"gridcolor\":\"white\",\"linecolor\":\"white\",\"minorgridcolor\":\"white\",\"startlinecolor\":\"#2a3f5f\"},\"type\":\"carpet\"}],\"table\":[{\"cells\":{\"fill\":{\"color\":\"#EBF0F8\"},\"line\":{\"color\":\"white\"}},\"header\":{\"fill\":{\"color\":\"#C8D4E3\"},\"line\":{\"color\":\"white\"}},\"type\":\"table\"}],\"barpolar\":[{\"marker\":{\"line\":{\"color\":\"#E5ECF6\",\"width\":0.5},\"pattern\":{\"fillmode\":\"overlay\",\"size\":10,\"solidity\":0.2}},\"type\":\"barpolar\"}],\"pie\":[{\"automargin\":true,\"type\":\"pie\"}]},\"layout\":{\"autotypenumbers\":\"strict\",\"colorway\":[\"#636efa\",\"#EF553B\",\"#00cc96\",\"#ab63fa\",\"#FFA15A\",\"#19d3f3\",\"#FF6692\",\"#B6E880\",\"#FF97FF\",\"#FECB52\"],\"font\":{\"color\":\"#2a3f5f\"},\"hovermode\":\"closest\",\"hoverlabel\":{\"align\":\"left\"},\"paper_bgcolor\":\"white\",\"plot_bgcolor\":\"#E5ECF6\",\"polar\":{\"bgcolor\":\"#E5ECF6\",\"angularaxis\":{\"gridcolor\":\"white\",\"linecolor\":\"white\",\"ticks\":\"\"},\"radialaxis\":{\"gridcolor\":\"white\",\"linecolor\":\"white\",\"ticks\":\"\"}},\"ternary\":{\"bgcolor\":\"#E5ECF6\",\"aaxis\":{\"gridcolor\":\"white\",\"linecolor\":\"white\",\"ticks\":\"\"},\"baxis\":{\"gridcolor\":\"white\",\"linecolor\":\"white\",\"ticks\":\"\"},\"caxis\":{\"gridcolor\":\"white\",\"linecolor\":\"white\",\"ticks\":\"\"}},\"coloraxis\":{\"colorbar\":{\"outlinewidth\":0,\"ticks\":\"\"}},\"colorscale\":{\"sequential\":[[0.0,\"#0d0887\"],[0.1111111111111111,\"#46039f\"],[0.2222222222222222,\"#7201a8\"],[0.3333333333333333,\"#9c179e\"],[0.4444444444444444,\"#bd3786\"],[0.5555555555555556,\"#d8576b\"],[0.6666666666666666,\"#ed7953\"],[0.7777777777777778,\"#fb9f3a\"],[0.8888888888888888,\"#fdca26\"],[1.0,\"#f0f921\"]],\"sequentialminus\":[[0.0,\"#0d0887\"],[0.1111111111111111,\"#46039f\"],[0.2222222222222222,\"#7201a8\"],[0.3333333333333333,\"#9c179e\"],[0.4444444444444444,\"#bd3786\"],[0.5555555555555556,\"#d8576b\"],[0.6666666666666666,\"#ed7953\"],[0.7777777777777778,\"#fb9f3a\"],[0.8888888888888888,\"#fdca26\"],[1.0,\"#f0f921\"]],\"diverging\":[[0,\"#8e0152\"],[0.1,\"#c51b7d\"],[0.2,\"#de77ae\"],[0.3,\"#f1b6da\"],[0.4,\"#fde0ef\"],[0.5,\"#f7f7f7\"],[0.6,\"#e6f5d0\"],[0.7,\"#b8e186\"],[0.8,\"#7fbc41\"],[0.9,\"#4d9221\"],[1,\"#276419\"]]},\"xaxis\":{\"gridcolor\":\"white\",\"linecolor\":\"white\",\"ticks\":\"\",\"title\":{\"standoff\":15},\"zerolinecolor\":\"white\",\"automargin\":true,\"zerolinewidth\":2},\"yaxis\":{\"gridcolor\":\"white\",\"linecolor\":\"white\",\"ticks\":\"\",\"title\":{\"standoff\":15},\"zerolinecolor\":\"white\",\"automargin\":true,\"zerolinewidth\":2},\"scene\":{\"xaxis\":{\"backgroundcolor\":\"#E5ECF6\",\"gridcolor\":\"white\",\"linecolor\":\"white\",\"showbackground\":true,\"ticks\":\"\",\"zerolinecolor\":\"white\",\"gridwidth\":2},\"yaxis\":{\"backgroundcolor\":\"#E5ECF6\",\"gridcolor\":\"white\",\"linecolor\":\"white\",\"showbackground\":true,\"ticks\":\"\",\"zerolinecolor\":\"white\",\"gridwidth\":2},\"zaxis\":{\"backgroundcolor\":\"#E5ECF6\",\"gridcolor\":\"white\",\"linecolor\":\"white\",\"showbackground\":true,\"ticks\":\"\",\"zerolinecolor\":\"white\",\"gridwidth\":2}},\"shapedefaults\":{\"line\":{\"color\":\"#2a3f5f\"}},\"annotationdefaults\":{\"arrowcolor\":\"#2a3f5f\",\"arrowhead\":0,\"arrowwidth\":1},\"geo\":{\"bgcolor\":\"white\",\"landcolor\":\"#E5ECF6\",\"subunitcolor\":\"white\",\"showland\":true,\"showlakes\":true,\"lakecolor\":\"white\"},\"title\":{\"x\":0.05},\"mapbox\":{\"style\":\"light\"}}},\"title\":{\"text\":\"Countries: Sim Wins/Ties/Losses\"},\"xaxis\":{\"title\":{\"text\":\"Country Name\"},\"tickangle\":-45},\"yaxis\":{\"title\":{\"text\":\"Score\"}},\"barmode\":\"group\"},                        {\"responsive\": true}                    ).then(function(){\n                            \nvar gd = document.getElementById('16a30491-01aa-49a1-b674-130dfe3a848b');\nvar x = new MutationObserver(function (mutations, observer) {{\n        var display = window.getComputedStyle(gd).display;\n        if (!display || display === 'none') {{\n            console.log([gd, 'removed!']);\n            Plotly.purge(gd);\n            observer.disconnect();\n        }}\n}});\n\n// Listen for the removal of the full notebook cells\nvar notebookContainer = gd.closest('#notebook-container');\nif (notebookContainer) {{\n    x.observe(notebookContainer, {childList: true});\n}}\n\n// Listen for the clearing of the current output cell\nvar outputEl = gd.closest('.output');\nif (outputEl) {{\n    x.observe(outputEl, {childList: true});\n}}\n\n                        })                };                });            </script>        </div>"
     },
     "metadata": {},
     "output_type": "display_data"
    }
   ],
   "source": [
    "import plotly.graph_objects as go\n",
    "import plotly\n",
    "\n",
    "fig = go.Figure()\n",
    "fig.add_trace(go.Bar(\n",
    "    x=df_world_cup.team,\n",
    "    y=df_world_cup.sim_wins,\n",
    "    name='win',\n",
    "    marker_color='green'\n",
    "))\n",
    "fig.add_trace(go.Bar(\n",
    "    x=df_world_cup.team,\n",
    "    y=df_world_cup.sim_ties,\n",
    "    name='draw',\n",
    "    marker_color='grey'\n",
    "))\n",
    "\n",
    "fig.add_trace(go.Bar(\n",
    "    x=df_world_cup.team,\n",
    "    y=df_world_cup.sim_losses,\n",
    "    name='loss',\n",
    "    marker_color='red'\n",
    "))\n",
    "\n",
    "# fig.update_layout(template='plotly_dark')\n",
    "fig.update_layout(title=\"Countries: Sim Wins/Ties/Losses\",\n",
    "                  xaxis_title = \"Country Name\", yaxis_title= \"Score\")\n",
    "\n",
    "fig.update_layout(barmode='group', xaxis_tickangle=-45)\n",
    "fig.show()"
   ],
   "metadata": {
    "collapsed": false
   }
  },
  {
   "cell_type": "code",
   "execution_count": 126,
   "outputs": [
    {
     "data": {
      "application/vnd.plotly.v1+json": {
       "data": [
        {
         "alignmentgroup": "True",
         "hovertemplate": "Country=%{x}<br>spi=%{marker.color}<extra></extra>",
         "legendgroup": "",
         "marker": {
          "color": [
           93.56188333333334,
           90.44838333333333,
           89.03555666666666,
           88.78643666666666,
           87.54317333333331,
           86.44251666666666,
           85.87524333333333,
           85.48962,
           80.82188666666667,
           79.96296333333333,
           79.39173,
           78.85480666666666,
           77.38951666666667,
           75.09423333333334,
           75.03755666666666
          ],
          "coloraxis": "coloraxis",
          "pattern": {
           "shape": ""
          }
         },
         "name": "",
         "offsetgroup": "",
         "orientation": "v",
         "showlegend": false,
         "textposition": "auto",
         "texttemplate": "%{y}",
         "x": [
          "Brazil",
          "Spain",
          "France",
          "Germany",
          "Portugal",
          "Argentina",
          "England",
          "Netherlands",
          "Belgium",
          "Uruguay",
          "Croatia",
          "Denmark",
          "Switzerland",
          "Morocco",
          "Serbia"
         ],
         "xaxis": "x",
         "y": [
          93.56188333333334,
          90.44838333333333,
          89.03555666666666,
          88.78643666666666,
          87.54317333333331,
          86.44251666666666,
          85.87524333333333,
          85.48962,
          80.82188666666667,
          79.96296333333333,
          79.39173,
          78.85480666666666,
          77.38951666666667,
          75.09423333333334,
          75.03755666666666
         ],
         "yaxis": "y",
         "type": "bar"
        }
       ],
       "layout": {
        "template": {
         "data": {
          "histogram2dcontour": [
           {
            "type": "histogram2dcontour",
            "colorbar": {
             "outlinewidth": 0,
             "ticks": ""
            },
            "colorscale": [
             [
              0.0,
              "#0d0887"
             ],
             [
              0.1111111111111111,
              "#46039f"
             ],
             [
              0.2222222222222222,
              "#7201a8"
             ],
             [
              0.3333333333333333,
              "#9c179e"
             ],
             [
              0.4444444444444444,
              "#bd3786"
             ],
             [
              0.5555555555555556,
              "#d8576b"
             ],
             [
              0.6666666666666666,
              "#ed7953"
             ],
             [
              0.7777777777777778,
              "#fb9f3a"
             ],
             [
              0.8888888888888888,
              "#fdca26"
             ],
             [
              1.0,
              "#f0f921"
             ]
            ]
           }
          ],
          "choropleth": [
           {
            "type": "choropleth",
            "colorbar": {
             "outlinewidth": 0,
             "ticks": ""
            }
           }
          ],
          "histogram2d": [
           {
            "type": "histogram2d",
            "colorbar": {
             "outlinewidth": 0,
             "ticks": ""
            },
            "colorscale": [
             [
              0.0,
              "#0d0887"
             ],
             [
              0.1111111111111111,
              "#46039f"
             ],
             [
              0.2222222222222222,
              "#7201a8"
             ],
             [
              0.3333333333333333,
              "#9c179e"
             ],
             [
              0.4444444444444444,
              "#bd3786"
             ],
             [
              0.5555555555555556,
              "#d8576b"
             ],
             [
              0.6666666666666666,
              "#ed7953"
             ],
             [
              0.7777777777777778,
              "#fb9f3a"
             ],
             [
              0.8888888888888888,
              "#fdca26"
             ],
             [
              1.0,
              "#f0f921"
             ]
            ]
           }
          ],
          "heatmap": [
           {
            "type": "heatmap",
            "colorbar": {
             "outlinewidth": 0,
             "ticks": ""
            },
            "colorscale": [
             [
              0.0,
              "#0d0887"
             ],
             [
              0.1111111111111111,
              "#46039f"
             ],
             [
              0.2222222222222222,
              "#7201a8"
             ],
             [
              0.3333333333333333,
              "#9c179e"
             ],
             [
              0.4444444444444444,
              "#bd3786"
             ],
             [
              0.5555555555555556,
              "#d8576b"
             ],
             [
              0.6666666666666666,
              "#ed7953"
             ],
             [
              0.7777777777777778,
              "#fb9f3a"
             ],
             [
              0.8888888888888888,
              "#fdca26"
             ],
             [
              1.0,
              "#f0f921"
             ]
            ]
           }
          ],
          "heatmapgl": [
           {
            "type": "heatmapgl",
            "colorbar": {
             "outlinewidth": 0,
             "ticks": ""
            },
            "colorscale": [
             [
              0.0,
              "#0d0887"
             ],
             [
              0.1111111111111111,
              "#46039f"
             ],
             [
              0.2222222222222222,
              "#7201a8"
             ],
             [
              0.3333333333333333,
              "#9c179e"
             ],
             [
              0.4444444444444444,
              "#bd3786"
             ],
             [
              0.5555555555555556,
              "#d8576b"
             ],
             [
              0.6666666666666666,
              "#ed7953"
             ],
             [
              0.7777777777777778,
              "#fb9f3a"
             ],
             [
              0.8888888888888888,
              "#fdca26"
             ],
             [
              1.0,
              "#f0f921"
             ]
            ]
           }
          ],
          "contourcarpet": [
           {
            "type": "contourcarpet",
            "colorbar": {
             "outlinewidth": 0,
             "ticks": ""
            }
           }
          ],
          "contour": [
           {
            "type": "contour",
            "colorbar": {
             "outlinewidth": 0,
             "ticks": ""
            },
            "colorscale": [
             [
              0.0,
              "#0d0887"
             ],
             [
              0.1111111111111111,
              "#46039f"
             ],
             [
              0.2222222222222222,
              "#7201a8"
             ],
             [
              0.3333333333333333,
              "#9c179e"
             ],
             [
              0.4444444444444444,
              "#bd3786"
             ],
             [
              0.5555555555555556,
              "#d8576b"
             ],
             [
              0.6666666666666666,
              "#ed7953"
             ],
             [
              0.7777777777777778,
              "#fb9f3a"
             ],
             [
              0.8888888888888888,
              "#fdca26"
             ],
             [
              1.0,
              "#f0f921"
             ]
            ]
           }
          ],
          "surface": [
           {
            "type": "surface",
            "colorbar": {
             "outlinewidth": 0,
             "ticks": ""
            },
            "colorscale": [
             [
              0.0,
              "#0d0887"
             ],
             [
              0.1111111111111111,
              "#46039f"
             ],
             [
              0.2222222222222222,
              "#7201a8"
             ],
             [
              0.3333333333333333,
              "#9c179e"
             ],
             [
              0.4444444444444444,
              "#bd3786"
             ],
             [
              0.5555555555555556,
              "#d8576b"
             ],
             [
              0.6666666666666666,
              "#ed7953"
             ],
             [
              0.7777777777777778,
              "#fb9f3a"
             ],
             [
              0.8888888888888888,
              "#fdca26"
             ],
             [
              1.0,
              "#f0f921"
             ]
            ]
           }
          ],
          "mesh3d": [
           {
            "type": "mesh3d",
            "colorbar": {
             "outlinewidth": 0,
             "ticks": ""
            }
           }
          ],
          "scatter": [
           {
            "fillpattern": {
             "fillmode": "overlay",
             "size": 10,
             "solidity": 0.2
            },
            "type": "scatter"
           }
          ],
          "parcoords": [
           {
            "type": "parcoords",
            "line": {
             "colorbar": {
              "outlinewidth": 0,
              "ticks": ""
             }
            }
           }
          ],
          "scatterpolargl": [
           {
            "type": "scatterpolargl",
            "marker": {
             "colorbar": {
              "outlinewidth": 0,
              "ticks": ""
             }
            }
           }
          ],
          "bar": [
           {
            "error_x": {
             "color": "#2a3f5f"
            },
            "error_y": {
             "color": "#2a3f5f"
            },
            "marker": {
             "line": {
              "color": "#E5ECF6",
              "width": 0.5
             },
             "pattern": {
              "fillmode": "overlay",
              "size": 10,
              "solidity": 0.2
             }
            },
            "type": "bar"
           }
          ],
          "scattergeo": [
           {
            "type": "scattergeo",
            "marker": {
             "colorbar": {
              "outlinewidth": 0,
              "ticks": ""
             }
            }
           }
          ],
          "scatterpolar": [
           {
            "type": "scatterpolar",
            "marker": {
             "colorbar": {
              "outlinewidth": 0,
              "ticks": ""
             }
            }
           }
          ],
          "histogram": [
           {
            "marker": {
             "pattern": {
              "fillmode": "overlay",
              "size": 10,
              "solidity": 0.2
             }
            },
            "type": "histogram"
           }
          ],
          "scattergl": [
           {
            "type": "scattergl",
            "marker": {
             "colorbar": {
              "outlinewidth": 0,
              "ticks": ""
             }
            }
           }
          ],
          "scatter3d": [
           {
            "type": "scatter3d",
            "line": {
             "colorbar": {
              "outlinewidth": 0,
              "ticks": ""
             }
            },
            "marker": {
             "colorbar": {
              "outlinewidth": 0,
              "ticks": ""
             }
            }
           }
          ],
          "scattermapbox": [
           {
            "type": "scattermapbox",
            "marker": {
             "colorbar": {
              "outlinewidth": 0,
              "ticks": ""
             }
            }
           }
          ],
          "scatterternary": [
           {
            "type": "scatterternary",
            "marker": {
             "colorbar": {
              "outlinewidth": 0,
              "ticks": ""
             }
            }
           }
          ],
          "scattercarpet": [
           {
            "type": "scattercarpet",
            "marker": {
             "colorbar": {
              "outlinewidth": 0,
              "ticks": ""
             }
            }
           }
          ],
          "carpet": [
           {
            "aaxis": {
             "endlinecolor": "#2a3f5f",
             "gridcolor": "white",
             "linecolor": "white",
             "minorgridcolor": "white",
             "startlinecolor": "#2a3f5f"
            },
            "baxis": {
             "endlinecolor": "#2a3f5f",
             "gridcolor": "white",
             "linecolor": "white",
             "minorgridcolor": "white",
             "startlinecolor": "#2a3f5f"
            },
            "type": "carpet"
           }
          ],
          "table": [
           {
            "cells": {
             "fill": {
              "color": "#EBF0F8"
             },
             "line": {
              "color": "white"
             }
            },
            "header": {
             "fill": {
              "color": "#C8D4E3"
             },
             "line": {
              "color": "white"
             }
            },
            "type": "table"
           }
          ],
          "barpolar": [
           {
            "marker": {
             "line": {
              "color": "#E5ECF6",
              "width": 0.5
             },
             "pattern": {
              "fillmode": "overlay",
              "size": 10,
              "solidity": 0.2
             }
            },
            "type": "barpolar"
           }
          ],
          "pie": [
           {
            "automargin": true,
            "type": "pie"
           }
          ]
         },
         "layout": {
          "autotypenumbers": "strict",
          "colorway": [
           "#636efa",
           "#EF553B",
           "#00cc96",
           "#ab63fa",
           "#FFA15A",
           "#19d3f3",
           "#FF6692",
           "#B6E880",
           "#FF97FF",
           "#FECB52"
          ],
          "font": {
           "color": "#2a3f5f"
          },
          "hovermode": "closest",
          "hoverlabel": {
           "align": "left"
          },
          "paper_bgcolor": "white",
          "plot_bgcolor": "#E5ECF6",
          "polar": {
           "bgcolor": "#E5ECF6",
           "angularaxis": {
            "gridcolor": "white",
            "linecolor": "white",
            "ticks": ""
           },
           "radialaxis": {
            "gridcolor": "white",
            "linecolor": "white",
            "ticks": ""
           }
          },
          "ternary": {
           "bgcolor": "#E5ECF6",
           "aaxis": {
            "gridcolor": "white",
            "linecolor": "white",
            "ticks": ""
           },
           "baxis": {
            "gridcolor": "white",
            "linecolor": "white",
            "ticks": ""
           },
           "caxis": {
            "gridcolor": "white",
            "linecolor": "white",
            "ticks": ""
           }
          },
          "coloraxis": {
           "colorbar": {
            "outlinewidth": 0,
            "ticks": ""
           }
          },
          "colorscale": {
           "sequential": [
            [
             0.0,
             "#0d0887"
            ],
            [
             0.1111111111111111,
             "#46039f"
            ],
            [
             0.2222222222222222,
             "#7201a8"
            ],
            [
             0.3333333333333333,
             "#9c179e"
            ],
            [
             0.4444444444444444,
             "#bd3786"
            ],
            [
             0.5555555555555556,
             "#d8576b"
            ],
            [
             0.6666666666666666,
             "#ed7953"
            ],
            [
             0.7777777777777778,
             "#fb9f3a"
            ],
            [
             0.8888888888888888,
             "#fdca26"
            ],
            [
             1.0,
             "#f0f921"
            ]
           ],
           "sequentialminus": [
            [
             0.0,
             "#0d0887"
            ],
            [
             0.1111111111111111,
             "#46039f"
            ],
            [
             0.2222222222222222,
             "#7201a8"
            ],
            [
             0.3333333333333333,
             "#9c179e"
            ],
            [
             0.4444444444444444,
             "#bd3786"
            ],
            [
             0.5555555555555556,
             "#d8576b"
            ],
            [
             0.6666666666666666,
             "#ed7953"
            ],
            [
             0.7777777777777778,
             "#fb9f3a"
            ],
            [
             0.8888888888888888,
             "#fdca26"
            ],
            [
             1.0,
             "#f0f921"
            ]
           ],
           "diverging": [
            [
             0,
             "#8e0152"
            ],
            [
             0.1,
             "#c51b7d"
            ],
            [
             0.2,
             "#de77ae"
            ],
            [
             0.3,
             "#f1b6da"
            ],
            [
             0.4,
             "#fde0ef"
            ],
            [
             0.5,
             "#f7f7f7"
            ],
            [
             0.6,
             "#e6f5d0"
            ],
            [
             0.7,
             "#b8e186"
            ],
            [
             0.8,
             "#7fbc41"
            ],
            [
             0.9,
             "#4d9221"
            ],
            [
             1,
             "#276419"
            ]
           ]
          },
          "xaxis": {
           "gridcolor": "white",
           "linecolor": "white",
           "ticks": "",
           "title": {
            "standoff": 15
           },
           "zerolinecolor": "white",
           "automargin": true,
           "zerolinewidth": 2
          },
          "yaxis": {
           "gridcolor": "white",
           "linecolor": "white",
           "ticks": "",
           "title": {
            "standoff": 15
           },
           "zerolinecolor": "white",
           "automargin": true,
           "zerolinewidth": 2
          },
          "scene": {
           "xaxis": {
            "backgroundcolor": "#E5ECF6",
            "gridcolor": "white",
            "linecolor": "white",
            "showbackground": true,
            "ticks": "",
            "zerolinecolor": "white",
            "gridwidth": 2
           },
           "yaxis": {
            "backgroundcolor": "#E5ECF6",
            "gridcolor": "white",
            "linecolor": "white",
            "showbackground": true,
            "ticks": "",
            "zerolinecolor": "white",
            "gridwidth": 2
           },
           "zaxis": {
            "backgroundcolor": "#E5ECF6",
            "gridcolor": "white",
            "linecolor": "white",
            "showbackground": true,
            "ticks": "",
            "zerolinecolor": "white",
            "gridwidth": 2
           }
          },
          "shapedefaults": {
           "line": {
            "color": "#2a3f5f"
           }
          },
          "annotationdefaults": {
           "arrowcolor": "#2a3f5f",
           "arrowhead": 0,
           "arrowwidth": 1
          },
          "geo": {
           "bgcolor": "white",
           "landcolor": "#E5ECF6",
           "subunitcolor": "white",
           "showland": true,
           "showlakes": true,
           "lakecolor": "white"
          },
          "title": {
           "x": 0.05
          },
          "mapbox": {
           "style": "light"
          }
         }
        },
        "xaxis": {
         "anchor": "y",
         "domain": [
          0.0,
          1.0
         ],
         "title": {
          "text": "Country"
         }
        },
        "yaxis": {
         "anchor": "x",
         "domain": [
          0.0,
          1.0
         ],
         "title": {
          "text": "spi"
         }
        },
        "coloraxis": {
         "colorbar": {
          "title": {
           "text": "spi"
          }
         },
         "colorscale": [
          [
           0.0,
           "rgb(254, 246, 181)"
          ],
          [
           0.16666666666666666,
           "rgb(255, 221, 154)"
          ],
          [
           0.3333333333333333,
           "rgb(255, 194, 133)"
          ],
          [
           0.5,
           "rgb(255, 166, 121)"
          ],
          [
           0.6666666666666666,
           "rgb(250, 138, 118)"
          ],
          [
           0.8333333333333334,
           "rgb(241, 109, 122)"
          ],
          [
           1.0,
           "rgb(225, 83, 131)"
          ]
         ]
        },
        "legend": {
         "tracegroupgap": 0
        },
        "margin": {
         "t": 60
        },
        "barmode": "relative",
        "height": 600,
        "width": 1000,
        "title": {
         "text": "Top 15 Countries ordered by Soccer Power Index",
         "y": 0.95,
         "x": 0.5,
         "xanchor": "center",
         "yanchor": "top"
        },
        "plot_bgcolor": "rgba(0,0,0,0)"
       },
       "config": {
        "plotlyServerURL": "https://plot.ly"
       }
      },
      "text/html": "<div>                            <div id=\"1f96bfd2-d27d-4e28-8267-6648401b87eb\" class=\"plotly-graph-div\" style=\"height:600px; width:1000px;\"></div>            <script type=\"text/javascript\">                require([\"plotly\"], function(Plotly) {                    window.PLOTLYENV=window.PLOTLYENV || {};                                    if (document.getElementById(\"1f96bfd2-d27d-4e28-8267-6648401b87eb\")) {                    Plotly.newPlot(                        \"1f96bfd2-d27d-4e28-8267-6648401b87eb\",                        [{\"alignmentgroup\":\"True\",\"hovertemplate\":\"Country=%{x}<br>spi=%{marker.color}<extra></extra>\",\"legendgroup\":\"\",\"marker\":{\"color\":[93.56188333333334,90.44838333333333,89.03555666666666,88.78643666666666,87.54317333333331,86.44251666666666,85.87524333333333,85.48962,80.82188666666667,79.96296333333333,79.39173,78.85480666666666,77.38951666666667,75.09423333333334,75.03755666666666],\"coloraxis\":\"coloraxis\",\"pattern\":{\"shape\":\"\"}},\"name\":\"\",\"offsetgroup\":\"\",\"orientation\":\"v\",\"showlegend\":false,\"textposition\":\"auto\",\"texttemplate\":\"%{y}\",\"x\":[\"Brazil\",\"Spain\",\"France\",\"Germany\",\"Portugal\",\"Argentina\",\"England\",\"Netherlands\",\"Belgium\",\"Uruguay\",\"Croatia\",\"Denmark\",\"Switzerland\",\"Morocco\",\"Serbia\"],\"xaxis\":\"x\",\"y\":[93.56188333333334,90.44838333333333,89.03555666666666,88.78643666666666,87.54317333333331,86.44251666666666,85.87524333333333,85.48962,80.82188666666667,79.96296333333333,79.39173,78.85480666666666,77.38951666666667,75.09423333333334,75.03755666666666],\"yaxis\":\"y\",\"type\":\"bar\"}],                        {\"template\":{\"data\":{\"histogram2dcontour\":[{\"type\":\"histogram2dcontour\",\"colorbar\":{\"outlinewidth\":0,\"ticks\":\"\"},\"colorscale\":[[0.0,\"#0d0887\"],[0.1111111111111111,\"#46039f\"],[0.2222222222222222,\"#7201a8\"],[0.3333333333333333,\"#9c179e\"],[0.4444444444444444,\"#bd3786\"],[0.5555555555555556,\"#d8576b\"],[0.6666666666666666,\"#ed7953\"],[0.7777777777777778,\"#fb9f3a\"],[0.8888888888888888,\"#fdca26\"],[1.0,\"#f0f921\"]]}],\"choropleth\":[{\"type\":\"choropleth\",\"colorbar\":{\"outlinewidth\":0,\"ticks\":\"\"}}],\"histogram2d\":[{\"type\":\"histogram2d\",\"colorbar\":{\"outlinewidth\":0,\"ticks\":\"\"},\"colorscale\":[[0.0,\"#0d0887\"],[0.1111111111111111,\"#46039f\"],[0.2222222222222222,\"#7201a8\"],[0.3333333333333333,\"#9c179e\"],[0.4444444444444444,\"#bd3786\"],[0.5555555555555556,\"#d8576b\"],[0.6666666666666666,\"#ed7953\"],[0.7777777777777778,\"#fb9f3a\"],[0.8888888888888888,\"#fdca26\"],[1.0,\"#f0f921\"]]}],\"heatmap\":[{\"type\":\"heatmap\",\"colorbar\":{\"outlinewidth\":0,\"ticks\":\"\"},\"colorscale\":[[0.0,\"#0d0887\"],[0.1111111111111111,\"#46039f\"],[0.2222222222222222,\"#7201a8\"],[0.3333333333333333,\"#9c179e\"],[0.4444444444444444,\"#bd3786\"],[0.5555555555555556,\"#d8576b\"],[0.6666666666666666,\"#ed7953\"],[0.7777777777777778,\"#fb9f3a\"],[0.8888888888888888,\"#fdca26\"],[1.0,\"#f0f921\"]]}],\"heatmapgl\":[{\"type\":\"heatmapgl\",\"colorbar\":{\"outlinewidth\":0,\"ticks\":\"\"},\"colorscale\":[[0.0,\"#0d0887\"],[0.1111111111111111,\"#46039f\"],[0.2222222222222222,\"#7201a8\"],[0.3333333333333333,\"#9c179e\"],[0.4444444444444444,\"#bd3786\"],[0.5555555555555556,\"#d8576b\"],[0.6666666666666666,\"#ed7953\"],[0.7777777777777778,\"#fb9f3a\"],[0.8888888888888888,\"#fdca26\"],[1.0,\"#f0f921\"]]}],\"contourcarpet\":[{\"type\":\"contourcarpet\",\"colorbar\":{\"outlinewidth\":0,\"ticks\":\"\"}}],\"contour\":[{\"type\":\"contour\",\"colorbar\":{\"outlinewidth\":0,\"ticks\":\"\"},\"colorscale\":[[0.0,\"#0d0887\"],[0.1111111111111111,\"#46039f\"],[0.2222222222222222,\"#7201a8\"],[0.3333333333333333,\"#9c179e\"],[0.4444444444444444,\"#bd3786\"],[0.5555555555555556,\"#d8576b\"],[0.6666666666666666,\"#ed7953\"],[0.7777777777777778,\"#fb9f3a\"],[0.8888888888888888,\"#fdca26\"],[1.0,\"#f0f921\"]]}],\"surface\":[{\"type\":\"surface\",\"colorbar\":{\"outlinewidth\":0,\"ticks\":\"\"},\"colorscale\":[[0.0,\"#0d0887\"],[0.1111111111111111,\"#46039f\"],[0.2222222222222222,\"#7201a8\"],[0.3333333333333333,\"#9c179e\"],[0.4444444444444444,\"#bd3786\"],[0.5555555555555556,\"#d8576b\"],[0.6666666666666666,\"#ed7953\"],[0.7777777777777778,\"#fb9f3a\"],[0.8888888888888888,\"#fdca26\"],[1.0,\"#f0f921\"]]}],\"mesh3d\":[{\"type\":\"mesh3d\",\"colorbar\":{\"outlinewidth\":0,\"ticks\":\"\"}}],\"scatter\":[{\"fillpattern\":{\"fillmode\":\"overlay\",\"size\":10,\"solidity\":0.2},\"type\":\"scatter\"}],\"parcoords\":[{\"type\":\"parcoords\",\"line\":{\"colorbar\":{\"outlinewidth\":0,\"ticks\":\"\"}}}],\"scatterpolargl\":[{\"type\":\"scatterpolargl\",\"marker\":{\"colorbar\":{\"outlinewidth\":0,\"ticks\":\"\"}}}],\"bar\":[{\"error_x\":{\"color\":\"#2a3f5f\"},\"error_y\":{\"color\":\"#2a3f5f\"},\"marker\":{\"line\":{\"color\":\"#E5ECF6\",\"width\":0.5},\"pattern\":{\"fillmode\":\"overlay\",\"size\":10,\"solidity\":0.2}},\"type\":\"bar\"}],\"scattergeo\":[{\"type\":\"scattergeo\",\"marker\":{\"colorbar\":{\"outlinewidth\":0,\"ticks\":\"\"}}}],\"scatterpolar\":[{\"type\":\"scatterpolar\",\"marker\":{\"colorbar\":{\"outlinewidth\":0,\"ticks\":\"\"}}}],\"histogram\":[{\"marker\":{\"pattern\":{\"fillmode\":\"overlay\",\"size\":10,\"solidity\":0.2}},\"type\":\"histogram\"}],\"scattergl\":[{\"type\":\"scattergl\",\"marker\":{\"colorbar\":{\"outlinewidth\":0,\"ticks\":\"\"}}}],\"scatter3d\":[{\"type\":\"scatter3d\",\"line\":{\"colorbar\":{\"outlinewidth\":0,\"ticks\":\"\"}},\"marker\":{\"colorbar\":{\"outlinewidth\":0,\"ticks\":\"\"}}}],\"scattermapbox\":[{\"type\":\"scattermapbox\",\"marker\":{\"colorbar\":{\"outlinewidth\":0,\"ticks\":\"\"}}}],\"scatterternary\":[{\"type\":\"scatterternary\",\"marker\":{\"colorbar\":{\"outlinewidth\":0,\"ticks\":\"\"}}}],\"scattercarpet\":[{\"type\":\"scattercarpet\",\"marker\":{\"colorbar\":{\"outlinewidth\":0,\"ticks\":\"\"}}}],\"carpet\":[{\"aaxis\":{\"endlinecolor\":\"#2a3f5f\",\"gridcolor\":\"white\",\"linecolor\":\"white\",\"minorgridcolor\":\"white\",\"startlinecolor\":\"#2a3f5f\"},\"baxis\":{\"endlinecolor\":\"#2a3f5f\",\"gridcolor\":\"white\",\"linecolor\":\"white\",\"minorgridcolor\":\"white\",\"startlinecolor\":\"#2a3f5f\"},\"type\":\"carpet\"}],\"table\":[{\"cells\":{\"fill\":{\"color\":\"#EBF0F8\"},\"line\":{\"color\":\"white\"}},\"header\":{\"fill\":{\"color\":\"#C8D4E3\"},\"line\":{\"color\":\"white\"}},\"type\":\"table\"}],\"barpolar\":[{\"marker\":{\"line\":{\"color\":\"#E5ECF6\",\"width\":0.5},\"pattern\":{\"fillmode\":\"overlay\",\"size\":10,\"solidity\":0.2}},\"type\":\"barpolar\"}],\"pie\":[{\"automargin\":true,\"type\":\"pie\"}]},\"layout\":{\"autotypenumbers\":\"strict\",\"colorway\":[\"#636efa\",\"#EF553B\",\"#00cc96\",\"#ab63fa\",\"#FFA15A\",\"#19d3f3\",\"#FF6692\",\"#B6E880\",\"#FF97FF\",\"#FECB52\"],\"font\":{\"color\":\"#2a3f5f\"},\"hovermode\":\"closest\",\"hoverlabel\":{\"align\":\"left\"},\"paper_bgcolor\":\"white\",\"plot_bgcolor\":\"#E5ECF6\",\"polar\":{\"bgcolor\":\"#E5ECF6\",\"angularaxis\":{\"gridcolor\":\"white\",\"linecolor\":\"white\",\"ticks\":\"\"},\"radialaxis\":{\"gridcolor\":\"white\",\"linecolor\":\"white\",\"ticks\":\"\"}},\"ternary\":{\"bgcolor\":\"#E5ECF6\",\"aaxis\":{\"gridcolor\":\"white\",\"linecolor\":\"white\",\"ticks\":\"\"},\"baxis\":{\"gridcolor\":\"white\",\"linecolor\":\"white\",\"ticks\":\"\"},\"caxis\":{\"gridcolor\":\"white\",\"linecolor\":\"white\",\"ticks\":\"\"}},\"coloraxis\":{\"colorbar\":{\"outlinewidth\":0,\"ticks\":\"\"}},\"colorscale\":{\"sequential\":[[0.0,\"#0d0887\"],[0.1111111111111111,\"#46039f\"],[0.2222222222222222,\"#7201a8\"],[0.3333333333333333,\"#9c179e\"],[0.4444444444444444,\"#bd3786\"],[0.5555555555555556,\"#d8576b\"],[0.6666666666666666,\"#ed7953\"],[0.7777777777777778,\"#fb9f3a\"],[0.8888888888888888,\"#fdca26\"],[1.0,\"#f0f921\"]],\"sequentialminus\":[[0.0,\"#0d0887\"],[0.1111111111111111,\"#46039f\"],[0.2222222222222222,\"#7201a8\"],[0.3333333333333333,\"#9c179e\"],[0.4444444444444444,\"#bd3786\"],[0.5555555555555556,\"#d8576b\"],[0.6666666666666666,\"#ed7953\"],[0.7777777777777778,\"#fb9f3a\"],[0.8888888888888888,\"#fdca26\"],[1.0,\"#f0f921\"]],\"diverging\":[[0,\"#8e0152\"],[0.1,\"#c51b7d\"],[0.2,\"#de77ae\"],[0.3,\"#f1b6da\"],[0.4,\"#fde0ef\"],[0.5,\"#f7f7f7\"],[0.6,\"#e6f5d0\"],[0.7,\"#b8e186\"],[0.8,\"#7fbc41\"],[0.9,\"#4d9221\"],[1,\"#276419\"]]},\"xaxis\":{\"gridcolor\":\"white\",\"linecolor\":\"white\",\"ticks\":\"\",\"title\":{\"standoff\":15},\"zerolinecolor\":\"white\",\"automargin\":true,\"zerolinewidth\":2},\"yaxis\":{\"gridcolor\":\"white\",\"linecolor\":\"white\",\"ticks\":\"\",\"title\":{\"standoff\":15},\"zerolinecolor\":\"white\",\"automargin\":true,\"zerolinewidth\":2},\"scene\":{\"xaxis\":{\"backgroundcolor\":\"#E5ECF6\",\"gridcolor\":\"white\",\"linecolor\":\"white\",\"showbackground\":true,\"ticks\":\"\",\"zerolinecolor\":\"white\",\"gridwidth\":2},\"yaxis\":{\"backgroundcolor\":\"#E5ECF6\",\"gridcolor\":\"white\",\"linecolor\":\"white\",\"showbackground\":true,\"ticks\":\"\",\"zerolinecolor\":\"white\",\"gridwidth\":2},\"zaxis\":{\"backgroundcolor\":\"#E5ECF6\",\"gridcolor\":\"white\",\"linecolor\":\"white\",\"showbackground\":true,\"ticks\":\"\",\"zerolinecolor\":\"white\",\"gridwidth\":2}},\"shapedefaults\":{\"line\":{\"color\":\"#2a3f5f\"}},\"annotationdefaults\":{\"arrowcolor\":\"#2a3f5f\",\"arrowhead\":0,\"arrowwidth\":1},\"geo\":{\"bgcolor\":\"white\",\"landcolor\":\"#E5ECF6\",\"subunitcolor\":\"white\",\"showland\":true,\"showlakes\":true,\"lakecolor\":\"white\"},\"title\":{\"x\":0.05},\"mapbox\":{\"style\":\"light\"}}},\"xaxis\":{\"anchor\":\"y\",\"domain\":[0.0,1.0],\"title\":{\"text\":\"Country\"}},\"yaxis\":{\"anchor\":\"x\",\"domain\":[0.0,1.0],\"title\":{\"text\":\"spi\"}},\"coloraxis\":{\"colorbar\":{\"title\":{\"text\":\"spi\"}},\"colorscale\":[[0.0,\"rgb(254, 246, 181)\"],[0.16666666666666666,\"rgb(255, 221, 154)\"],[0.3333333333333333,\"rgb(255, 194, 133)\"],[0.5,\"rgb(255, 166, 121)\"],[0.6666666666666666,\"rgb(250, 138, 118)\"],[0.8333333333333334,\"rgb(241, 109, 122)\"],[1.0,\"rgb(225, 83, 131)\"]]},\"legend\":{\"tracegroupgap\":0},\"margin\":{\"t\":60},\"barmode\":\"relative\",\"height\":600,\"width\":1000,\"title\":{\"text\":\"Top 15 Countries ordered by Soccer Power Index\",\"y\":0.95,\"x\":0.5,\"xanchor\":\"center\",\"yanchor\":\"top\"},\"plot_bgcolor\":\"rgba(0,0,0,0)\"},                        {\"responsive\": true}                    ).then(function(){\n                            \nvar gd = document.getElementById('1f96bfd2-d27d-4e28-8267-6648401b87eb');\nvar x = new MutationObserver(function (mutations, observer) {{\n        var display = window.getComputedStyle(gd).display;\n        if (!display || display === 'none') {{\n            console.log([gd, 'removed!']);\n            Plotly.purge(gd);\n            observer.disconnect();\n        }}\n}});\n\n// Listen for the removal of the full notebook cells\nvar notebookContainer = gd.closest('#notebook-container');\nif (notebookContainer) {{\n    x.observe(notebookContainer, {childList: true});\n}}\n\n// Listen for the clearing of the current output cell\nvar outputEl = gd.closest('.output');\nif (outputEl) {{\n    x.observe(outputEl, {childList: true});\n}}\n\n                        })                };                });            </script>        </div>"
     },
     "metadata": {},
     "output_type": "display_data"
    }
   ],
   "source": [
    "import plotly.express as px\n",
    "\n",
    "average_score = df_world_cup.groupby(['team'])['spi'].mean().sort_values(ascending=False).head(15)\n",
    "average_score_df = pd.DataFrame({'team':average_score.index, 'spi':average_score.values})\n",
    "\n",
    "fig = px.bar(average_score_df,\n",
    "             x='team',\n",
    "             y='spi',\n",
    "             color='spi',\n",
    "             text_auto=True,\n",
    "             labels={'team':'Country', 'value':'Soccer Power Index'},\n",
    "             color_continuous_scale=px.colors.sequential.Pinkyl,\n",
    "             width=1000,\n",
    "             height=600\n",
    "             )\n",
    "fig.update_layout(plot_bgcolor='rgba(0,0,0,0)',\n",
    "                  title={\n",
    "                      'text': \"Top 15 Countries ordered by Soccer Power Index\",\n",
    "                      'y':0.95,\n",
    "                      'x':0.5,\n",
    "                      'xanchor': 'center',\n",
    "                      'yanchor': 'top'})\n",
    "\n"
   ],
   "metadata": {
    "collapsed": false
   }
  },
  {
   "cell_type": "code",
   "execution_count": 94,
   "outputs": [],
   "source": [],
   "metadata": {
    "collapsed": false
   }
  },
  {
   "cell_type": "code",
   "execution_count": 98,
   "outputs": [
    {
     "data": {
      "application/vnd.plotly.v1+json": {
       "data": [
        {
         "hovertemplate": "team=Brazil<br>Soccer Power Index=%{x}<br>Chance to win league=%{marker.size}<extra></extra>",
         "legendgroup": "Brazil",
         "marker": {
          "color": "#636efa",
          "size": [
           0.2476,
           0.21668,
           0.26002
          ],
          "sizemode": "area",
          "sizeref": 6.500499999999999E-4,
          "symbol": "circle"
         },
         "mode": "markers",
         "name": "Brazil",
         "orientation": "v",
         "showlegend": true,
         "x": [
          93.65727,
          93.54699,
          93.48139
         ],
         "xaxis": "x",
         "y": [
          0.2476,
          0.21668,
          0.26002
         ],
         "yaxis": "y",
         "type": "scatter"
        },
        {
         "hovertemplate": "team=Spain<br>Soccer Power Index=%{x}<br>Chance to win league=%{marker.size}<extra></extra>",
         "legendgroup": "Spain",
         "marker": {
          "color": "#EF553B",
          "size": [
           0.14587,
           0.13658,
           0.10663
          ],
          "sizemode": "area",
          "sizeref": 6.500499999999999E-4,
          "symbol": "circle"
         },
         "mode": "markers",
         "name": "Spain",
         "orientation": "v",
         "showlegend": true,
         "x": [
          91.2188,
          90.62031,
          89.50604
         ],
         "xaxis": "x",
         "y": [
          0.14587,
          0.13658,
          0.10663
         ],
         "yaxis": "y",
         "type": "scatter"
        },
        {
         "hovertemplate": "team=France<br>Soccer Power Index=%{x}<br>Chance to win league=%{marker.size}<extra></extra>",
         "legendgroup": "France",
         "marker": {
          "color": "#00cc96",
          "size": [
           0.13269,
           0.11092,
           0.0875
          ],
          "sizemode": "area",
          "sizeref": 6.500499999999999E-4,
          "symbol": "circle"
         },
         "mode": "markers",
         "name": "France",
         "orientation": "v",
         "showlegend": true,
         "x": [
          90.1491,
          89.25241,
          87.70516
         ],
         "xaxis": "x",
         "y": [
          0.13269,
          0.11092,
          0.0875
         ],
         "yaxis": "y",
         "type": "scatter"
        },
        {
         "hovertemplate": "team=Germany<br>Soccer Power Index=%{x}<br>Chance to win league=%{marker.size}<extra></extra>",
         "legendgroup": "Germany",
         "marker": {
          "color": "#ab63fa",
          "size": [
           0.05919,
           0.07425,
           0.03269
          ],
          "sizemode": "area",
          "sizeref": 6.500499999999999E-4,
          "symbol": "circle"
         },
         "mode": "markers",
         "name": "Germany",
         "orientation": "v",
         "showlegend": true,
         "x": [
          88.86004,
          88.7737,
          88.72557
         ],
         "xaxis": "x",
         "y": [
          0.05919,
          0.07425,
          0.03269
         ],
         "yaxis": "y",
         "type": "scatter"
        },
        {
         "hovertemplate": "team=Portugal<br>Soccer Power Index=%{x}<br>Chance to win league=%{marker.size}<extra></extra>",
         "legendgroup": "Portugal",
         "marker": {
          "color": "#FFA15A",
          "size": [
           0.07629,
           0.08195,
           0.07188
          ],
          "sizemode": "area",
          "sizeref": 6.500499999999999E-4,
          "symbol": "circle"
         },
         "mode": "markers",
         "name": "Portugal",
         "orientation": "v",
         "showlegend": true,
         "x": [
          87.77456,
          87.55187,
          87.30309
         ],
         "xaxis": "x",
         "y": [
          0.07629,
          0.08195,
          0.07188
         ],
         "yaxis": "y",
         "type": "scatter"
        },
        {
         "hovertemplate": "team=Argentina<br>Soccer Power Index=%{x}<br>Chance to win league=%{marker.size}<extra></extra>",
         "legendgroup": "Argentina",
         "marker": {
          "color": "#19d3f3",
          "size": [
           0.08476,
           0.04724,
           0.06528
          ],
          "sizemode": "area",
          "sizeref": 6.500499999999999E-4,
          "symbol": "circle"
         },
         "mode": "markers",
         "name": "Argentina",
         "orientation": "v",
         "showlegend": true,
         "x": [
          87.20776,
          86.09354,
          86.02625
         ],
         "xaxis": "x",
         "y": [
          0.08476,
          0.04724,
          0.06528
         ],
         "yaxis": "y",
         "type": "scatter"
        },
        {
         "hovertemplate": "team=England<br>Soccer Power Index=%{x}<br>Chance to win league=%{marker.size}<extra></extra>",
         "legendgroup": "England",
         "marker": {
          "color": "#FF6692",
          "size": [
           0.07118,
           0.07136,
           0.06282
          ],
          "sizemode": "area",
          "sizeref": 6.500499999999999E-4,
          "symbol": "circle"
         },
         "mode": "markers",
         "name": "England",
         "orientation": "v",
         "showlegend": true,
         "x": [
          86.26103,
          85.95712,
          85.40758
         ],
         "xaxis": "x",
         "y": [
          0.07118,
          0.07136,
          0.06282
         ],
         "yaxis": "y",
         "type": "scatter"
        },
        {
         "hovertemplate": "team=Netherlands<br>Soccer Power Index=%{x}<br>Chance to win league=%{marker.size}<extra></extra>",
         "legendgroup": "Netherlands",
         "marker": {
          "color": "#B6E880",
          "size": [
           0.07245,
           0.0596,
           0.05723
          ],
          "sizemode": "area",
          "sizeref": 6.500499999999999E-4,
          "symbol": "circle"
         },
         "mode": "markers",
         "name": "Netherlands",
         "orientation": "v",
         "showlegend": true,
         "x": [
          86.07414,
          86.01102,
          84.3837
         ],
         "xaxis": "x",
         "y": [
          0.07245,
          0.0596,
          0.05723
         ],
         "yaxis": "y",
         "type": "scatter"
        },
        {
         "hovertemplate": "team=Belgium<br>Soccer Power Index=%{x}<br>Chance to win league=%{marker.size}<extra></extra>",
         "legendgroup": "Belgium",
         "marker": {
          "color": "#FF97FF",
          "size": [
           0.02608,
           0.02415
          ],
          "sizemode": "area",
          "sizeref": 6.500499999999999E-4,
          "symbol": "circle"
         },
         "mode": "markers",
         "name": "Belgium",
         "orientation": "v",
         "showlegend": true,
         "x": [
          82.49005,
          80.53709
         ],
         "xaxis": "x",
         "y": [
          0.02608,
          0.02415
         ],
         "yaxis": "y",
         "type": "scatter"
        },
        {
         "hovertemplate": "team=Uruguay<br>Soccer Power Index=%{x}<br>Chance to win league=%{marker.size}<extra></extra>",
         "legendgroup": "Uruguay",
         "marker": {
          "color": "#FECB52",
          "size": [
           0.02828,
           0.02099
          ],
          "sizemode": "area",
          "sizeref": 6.500499999999999E-4,
          "symbol": "circle"
         },
         "mode": "markers",
         "name": "Uruguay",
         "orientation": "v",
         "showlegend": true,
         "x": [
          80.90448,
          79.70107
         ],
         "xaxis": "x",
         "y": [
          0.02828,
          0.02099
         ],
         "yaxis": "y",
         "type": "scatter"
        },
        {
         "hovertemplate": "team=Croatia<br>Soccer Power Index=%{x}<br>Chance to win league=%{marker.size}<extra></extra>",
         "legendgroup": "Croatia",
         "marker": {
          "color": "#636efa",
          "size": [
           0.0254
          ],
          "sizemode": "area",
          "sizeref": 6.500499999999999E-4,
          "symbol": "circle"
         },
         "mode": "markers",
         "name": "Croatia",
         "orientation": "v",
         "showlegend": true,
         "x": [
          80.87388
         ],
         "xaxis": "x",
         "y": [
          0.0254
         ],
         "yaxis": "y",
         "type": "scatter"
        },
        {
         "hovertemplate": "team=Denmark<br>Soccer Power Index=%{x}<br>Chance to win league=%{marker.size}<extra></extra>",
         "legendgroup": "Denmark",
         "marker": {
          "color": "#EF553B",
          "size": [
           0.02842
          ],
          "sizemode": "area",
          "sizeref": 6.500499999999999E-4,
          "symbol": "circle"
         },
         "mode": "markers",
         "name": "Denmark",
         "orientation": "v",
         "showlegend": true,
         "x": [
          80.01595
         ],
         "xaxis": "x",
         "y": [
          0.02842
         ],
         "yaxis": "y",
         "type": "scatter"
        }
       ],
       "layout": {
        "template": {
         "data": {
          "histogram2dcontour": [
           {
            "type": "histogram2dcontour",
            "colorbar": {
             "outlinewidth": 0,
             "ticks": ""
            },
            "colorscale": [
             [
              0.0,
              "#0d0887"
             ],
             [
              0.1111111111111111,
              "#46039f"
             ],
             [
              0.2222222222222222,
              "#7201a8"
             ],
             [
              0.3333333333333333,
              "#9c179e"
             ],
             [
              0.4444444444444444,
              "#bd3786"
             ],
             [
              0.5555555555555556,
              "#d8576b"
             ],
             [
              0.6666666666666666,
              "#ed7953"
             ],
             [
              0.7777777777777778,
              "#fb9f3a"
             ],
             [
              0.8888888888888888,
              "#fdca26"
             ],
             [
              1.0,
              "#f0f921"
             ]
            ]
           }
          ],
          "choropleth": [
           {
            "type": "choropleth",
            "colorbar": {
             "outlinewidth": 0,
             "ticks": ""
            }
           }
          ],
          "histogram2d": [
           {
            "type": "histogram2d",
            "colorbar": {
             "outlinewidth": 0,
             "ticks": ""
            },
            "colorscale": [
             [
              0.0,
              "#0d0887"
             ],
             [
              0.1111111111111111,
              "#46039f"
             ],
             [
              0.2222222222222222,
              "#7201a8"
             ],
             [
              0.3333333333333333,
              "#9c179e"
             ],
             [
              0.4444444444444444,
              "#bd3786"
             ],
             [
              0.5555555555555556,
              "#d8576b"
             ],
             [
              0.6666666666666666,
              "#ed7953"
             ],
             [
              0.7777777777777778,
              "#fb9f3a"
             ],
             [
              0.8888888888888888,
              "#fdca26"
             ],
             [
              1.0,
              "#f0f921"
             ]
            ]
           }
          ],
          "heatmap": [
           {
            "type": "heatmap",
            "colorbar": {
             "outlinewidth": 0,
             "ticks": ""
            },
            "colorscale": [
             [
              0.0,
              "#0d0887"
             ],
             [
              0.1111111111111111,
              "#46039f"
             ],
             [
              0.2222222222222222,
              "#7201a8"
             ],
             [
              0.3333333333333333,
              "#9c179e"
             ],
             [
              0.4444444444444444,
              "#bd3786"
             ],
             [
              0.5555555555555556,
              "#d8576b"
             ],
             [
              0.6666666666666666,
              "#ed7953"
             ],
             [
              0.7777777777777778,
              "#fb9f3a"
             ],
             [
              0.8888888888888888,
              "#fdca26"
             ],
             [
              1.0,
              "#f0f921"
             ]
            ]
           }
          ],
          "heatmapgl": [
           {
            "type": "heatmapgl",
            "colorbar": {
             "outlinewidth": 0,
             "ticks": ""
            },
            "colorscale": [
             [
              0.0,
              "#0d0887"
             ],
             [
              0.1111111111111111,
              "#46039f"
             ],
             [
              0.2222222222222222,
              "#7201a8"
             ],
             [
              0.3333333333333333,
              "#9c179e"
             ],
             [
              0.4444444444444444,
              "#bd3786"
             ],
             [
              0.5555555555555556,
              "#d8576b"
             ],
             [
              0.6666666666666666,
              "#ed7953"
             ],
             [
              0.7777777777777778,
              "#fb9f3a"
             ],
             [
              0.8888888888888888,
              "#fdca26"
             ],
             [
              1.0,
              "#f0f921"
             ]
            ]
           }
          ],
          "contourcarpet": [
           {
            "type": "contourcarpet",
            "colorbar": {
             "outlinewidth": 0,
             "ticks": ""
            }
           }
          ],
          "contour": [
           {
            "type": "contour",
            "colorbar": {
             "outlinewidth": 0,
             "ticks": ""
            },
            "colorscale": [
             [
              0.0,
              "#0d0887"
             ],
             [
              0.1111111111111111,
              "#46039f"
             ],
             [
              0.2222222222222222,
              "#7201a8"
             ],
             [
              0.3333333333333333,
              "#9c179e"
             ],
             [
              0.4444444444444444,
              "#bd3786"
             ],
             [
              0.5555555555555556,
              "#d8576b"
             ],
             [
              0.6666666666666666,
              "#ed7953"
             ],
             [
              0.7777777777777778,
              "#fb9f3a"
             ],
             [
              0.8888888888888888,
              "#fdca26"
             ],
             [
              1.0,
              "#f0f921"
             ]
            ]
           }
          ],
          "surface": [
           {
            "type": "surface",
            "colorbar": {
             "outlinewidth": 0,
             "ticks": ""
            },
            "colorscale": [
             [
              0.0,
              "#0d0887"
             ],
             [
              0.1111111111111111,
              "#46039f"
             ],
             [
              0.2222222222222222,
              "#7201a8"
             ],
             [
              0.3333333333333333,
              "#9c179e"
             ],
             [
              0.4444444444444444,
              "#bd3786"
             ],
             [
              0.5555555555555556,
              "#d8576b"
             ],
             [
              0.6666666666666666,
              "#ed7953"
             ],
             [
              0.7777777777777778,
              "#fb9f3a"
             ],
             [
              0.8888888888888888,
              "#fdca26"
             ],
             [
              1.0,
              "#f0f921"
             ]
            ]
           }
          ],
          "mesh3d": [
           {
            "type": "mesh3d",
            "colorbar": {
             "outlinewidth": 0,
             "ticks": ""
            }
           }
          ],
          "scatter": [
           {
            "fillpattern": {
             "fillmode": "overlay",
             "size": 10,
             "solidity": 0.2
            },
            "type": "scatter"
           }
          ],
          "parcoords": [
           {
            "type": "parcoords",
            "line": {
             "colorbar": {
              "outlinewidth": 0,
              "ticks": ""
             }
            }
           }
          ],
          "scatterpolargl": [
           {
            "type": "scatterpolargl",
            "marker": {
             "colorbar": {
              "outlinewidth": 0,
              "ticks": ""
             }
            }
           }
          ],
          "bar": [
           {
            "error_x": {
             "color": "#2a3f5f"
            },
            "error_y": {
             "color": "#2a3f5f"
            },
            "marker": {
             "line": {
              "color": "#E5ECF6",
              "width": 0.5
             },
             "pattern": {
              "fillmode": "overlay",
              "size": 10,
              "solidity": 0.2
             }
            },
            "type": "bar"
           }
          ],
          "scattergeo": [
           {
            "type": "scattergeo",
            "marker": {
             "colorbar": {
              "outlinewidth": 0,
              "ticks": ""
             }
            }
           }
          ],
          "scatterpolar": [
           {
            "type": "scatterpolar",
            "marker": {
             "colorbar": {
              "outlinewidth": 0,
              "ticks": ""
             }
            }
           }
          ],
          "histogram": [
           {
            "marker": {
             "pattern": {
              "fillmode": "overlay",
              "size": 10,
              "solidity": 0.2
             }
            },
            "type": "histogram"
           }
          ],
          "scattergl": [
           {
            "type": "scattergl",
            "marker": {
             "colorbar": {
              "outlinewidth": 0,
              "ticks": ""
             }
            }
           }
          ],
          "scatter3d": [
           {
            "type": "scatter3d",
            "line": {
             "colorbar": {
              "outlinewidth": 0,
              "ticks": ""
             }
            },
            "marker": {
             "colorbar": {
              "outlinewidth": 0,
              "ticks": ""
             }
            }
           }
          ],
          "scattermapbox": [
           {
            "type": "scattermapbox",
            "marker": {
             "colorbar": {
              "outlinewidth": 0,
              "ticks": ""
             }
            }
           }
          ],
          "scatterternary": [
           {
            "type": "scatterternary",
            "marker": {
             "colorbar": {
              "outlinewidth": 0,
              "ticks": ""
             }
            }
           }
          ],
          "scattercarpet": [
           {
            "type": "scattercarpet",
            "marker": {
             "colorbar": {
              "outlinewidth": 0,
              "ticks": ""
             }
            }
           }
          ],
          "carpet": [
           {
            "aaxis": {
             "endlinecolor": "#2a3f5f",
             "gridcolor": "white",
             "linecolor": "white",
             "minorgridcolor": "white",
             "startlinecolor": "#2a3f5f"
            },
            "baxis": {
             "endlinecolor": "#2a3f5f",
             "gridcolor": "white",
             "linecolor": "white",
             "minorgridcolor": "white",
             "startlinecolor": "#2a3f5f"
            },
            "type": "carpet"
           }
          ],
          "table": [
           {
            "cells": {
             "fill": {
              "color": "#EBF0F8"
             },
             "line": {
              "color": "white"
             }
            },
            "header": {
             "fill": {
              "color": "#C8D4E3"
             },
             "line": {
              "color": "white"
             }
            },
            "type": "table"
           }
          ],
          "barpolar": [
           {
            "marker": {
             "line": {
              "color": "#E5ECF6",
              "width": 0.5
             },
             "pattern": {
              "fillmode": "overlay",
              "size": 10,
              "solidity": 0.2
             }
            },
            "type": "barpolar"
           }
          ],
          "pie": [
           {
            "automargin": true,
            "type": "pie"
           }
          ]
         },
         "layout": {
          "autotypenumbers": "strict",
          "colorway": [
           "#636efa",
           "#EF553B",
           "#00cc96",
           "#ab63fa",
           "#FFA15A",
           "#19d3f3",
           "#FF6692",
           "#B6E880",
           "#FF97FF",
           "#FECB52"
          ],
          "font": {
           "color": "#2a3f5f"
          },
          "hovermode": "closest",
          "hoverlabel": {
           "align": "left"
          },
          "paper_bgcolor": "white",
          "plot_bgcolor": "#E5ECF6",
          "polar": {
           "bgcolor": "#E5ECF6",
           "angularaxis": {
            "gridcolor": "white",
            "linecolor": "white",
            "ticks": ""
           },
           "radialaxis": {
            "gridcolor": "white",
            "linecolor": "white",
            "ticks": ""
           }
          },
          "ternary": {
           "bgcolor": "#E5ECF6",
           "aaxis": {
            "gridcolor": "white",
            "linecolor": "white",
            "ticks": ""
           },
           "baxis": {
            "gridcolor": "white",
            "linecolor": "white",
            "ticks": ""
           },
           "caxis": {
            "gridcolor": "white",
            "linecolor": "white",
            "ticks": ""
           }
          },
          "coloraxis": {
           "colorbar": {
            "outlinewidth": 0,
            "ticks": ""
           }
          },
          "colorscale": {
           "sequential": [
            [
             0.0,
             "#0d0887"
            ],
            [
             0.1111111111111111,
             "#46039f"
            ],
            [
             0.2222222222222222,
             "#7201a8"
            ],
            [
             0.3333333333333333,
             "#9c179e"
            ],
            [
             0.4444444444444444,
             "#bd3786"
            ],
            [
             0.5555555555555556,
             "#d8576b"
            ],
            [
             0.6666666666666666,
             "#ed7953"
            ],
            [
             0.7777777777777778,
             "#fb9f3a"
            ],
            [
             0.8888888888888888,
             "#fdca26"
            ],
            [
             1.0,
             "#f0f921"
            ]
           ],
           "sequentialminus": [
            [
             0.0,
             "#0d0887"
            ],
            [
             0.1111111111111111,
             "#46039f"
            ],
            [
             0.2222222222222222,
             "#7201a8"
            ],
            [
             0.3333333333333333,
             "#9c179e"
            ],
            [
             0.4444444444444444,
             "#bd3786"
            ],
            [
             0.5555555555555556,
             "#d8576b"
            ],
            [
             0.6666666666666666,
             "#ed7953"
            ],
            [
             0.7777777777777778,
             "#fb9f3a"
            ],
            [
             0.8888888888888888,
             "#fdca26"
            ],
            [
             1.0,
             "#f0f921"
            ]
           ],
           "diverging": [
            [
             0,
             "#8e0152"
            ],
            [
             0.1,
             "#c51b7d"
            ],
            [
             0.2,
             "#de77ae"
            ],
            [
             0.3,
             "#f1b6da"
            ],
            [
             0.4,
             "#fde0ef"
            ],
            [
             0.5,
             "#f7f7f7"
            ],
            [
             0.6,
             "#e6f5d0"
            ],
            [
             0.7,
             "#b8e186"
            ],
            [
             0.8,
             "#7fbc41"
            ],
            [
             0.9,
             "#4d9221"
            ],
            [
             1,
             "#276419"
            ]
           ]
          },
          "xaxis": {
           "gridcolor": "white",
           "linecolor": "white",
           "ticks": "",
           "title": {
            "standoff": 15
           },
           "zerolinecolor": "white",
           "automargin": true,
           "zerolinewidth": 2
          },
          "yaxis": {
           "gridcolor": "white",
           "linecolor": "white",
           "ticks": "",
           "title": {
            "standoff": 15
           },
           "zerolinecolor": "white",
           "automargin": true,
           "zerolinewidth": 2
          },
          "scene": {
           "xaxis": {
            "backgroundcolor": "#E5ECF6",
            "gridcolor": "white",
            "linecolor": "white",
            "showbackground": true,
            "ticks": "",
            "zerolinecolor": "white",
            "gridwidth": 2
           },
           "yaxis": {
            "backgroundcolor": "#E5ECF6",
            "gridcolor": "white",
            "linecolor": "white",
            "showbackground": true,
            "ticks": "",
            "zerolinecolor": "white",
            "gridwidth": 2
           },
           "zaxis": {
            "backgroundcolor": "#E5ECF6",
            "gridcolor": "white",
            "linecolor": "white",
            "showbackground": true,
            "ticks": "",
            "zerolinecolor": "white",
            "gridwidth": 2
           }
          },
          "shapedefaults": {
           "line": {
            "color": "#2a3f5f"
           }
          },
          "annotationdefaults": {
           "arrowcolor": "#2a3f5f",
           "arrowhead": 0,
           "arrowwidth": 1
          },
          "geo": {
           "bgcolor": "white",
           "landcolor": "#E5ECF6",
           "subunitcolor": "white",
           "showland": true,
           "showlakes": true,
           "lakecolor": "white"
          },
          "title": {
           "x": 0.05
          },
          "mapbox": {
           "style": "light"
          }
         }
        },
        "xaxis": {
         "anchor": "y",
         "domain": [
          0.0,
          1.0
         ],
         "title": {
          "text": "Soccer Power Index"
         }
        },
        "yaxis": {
         "anchor": "x",
         "domain": [
          0.0,
          1.0
         ],
         "title": {
          "text": "Chance to win league"
         }
        },
        "legend": {
         "title": {
          "text": "team"
         },
         "tracegroupgap": 0,
         "itemsizing": "constant"
        },
        "margin": {
         "t": 60
        },
        "height": 600,
        "width": 1000,
        "title": {
         "text": "Chance to win the league compared to Soccer Power Index",
         "y": 0.95,
         "x": 0.5,
         "xanchor": "center",
         "yanchor": "top"
        }
       },
       "config": {
        "plotlyServerURL": "https://plot.ly"
       }
      },
      "text/html": "<div>                            <div id=\"ccf02ee9-184e-4589-88f3-90cfd1aa69aa\" class=\"plotly-graph-div\" style=\"height:600px; width:1000px;\"></div>            <script type=\"text/javascript\">                require([\"plotly\"], function(Plotly) {                    window.PLOTLYENV=window.PLOTLYENV || {};                                    if (document.getElementById(\"ccf02ee9-184e-4589-88f3-90cfd1aa69aa\")) {                    Plotly.newPlot(                        \"ccf02ee9-184e-4589-88f3-90cfd1aa69aa\",                        [{\"hovertemplate\":\"team=Brazil<br>Soccer Power Index=%{x}<br>Chance to win league=%{marker.size}<extra></extra>\",\"legendgroup\":\"Brazil\",\"marker\":{\"color\":\"#636efa\",\"size\":[0.2476,0.21668,0.26002],\"sizemode\":\"area\",\"sizeref\":0.0006500499999999999,\"symbol\":\"circle\"},\"mode\":\"markers\",\"name\":\"Brazil\",\"orientation\":\"v\",\"showlegend\":true,\"x\":[93.65727,93.54699,93.48139],\"xaxis\":\"x\",\"y\":[0.2476,0.21668,0.26002],\"yaxis\":\"y\",\"type\":\"scatter\"},{\"hovertemplate\":\"team=Spain<br>Soccer Power Index=%{x}<br>Chance to win league=%{marker.size}<extra></extra>\",\"legendgroup\":\"Spain\",\"marker\":{\"color\":\"#EF553B\",\"size\":[0.14587,0.13658,0.10663],\"sizemode\":\"area\",\"sizeref\":0.0006500499999999999,\"symbol\":\"circle\"},\"mode\":\"markers\",\"name\":\"Spain\",\"orientation\":\"v\",\"showlegend\":true,\"x\":[91.2188,90.62031,89.50604],\"xaxis\":\"x\",\"y\":[0.14587,0.13658,0.10663],\"yaxis\":\"y\",\"type\":\"scatter\"},{\"hovertemplate\":\"team=France<br>Soccer Power Index=%{x}<br>Chance to win league=%{marker.size}<extra></extra>\",\"legendgroup\":\"France\",\"marker\":{\"color\":\"#00cc96\",\"size\":[0.13269,0.11092,0.0875],\"sizemode\":\"area\",\"sizeref\":0.0006500499999999999,\"symbol\":\"circle\"},\"mode\":\"markers\",\"name\":\"France\",\"orientation\":\"v\",\"showlegend\":true,\"x\":[90.1491,89.25241,87.70516],\"xaxis\":\"x\",\"y\":[0.13269,0.11092,0.0875],\"yaxis\":\"y\",\"type\":\"scatter\"},{\"hovertemplate\":\"team=Germany<br>Soccer Power Index=%{x}<br>Chance to win league=%{marker.size}<extra></extra>\",\"legendgroup\":\"Germany\",\"marker\":{\"color\":\"#ab63fa\",\"size\":[0.05919,0.07425,0.03269],\"sizemode\":\"area\",\"sizeref\":0.0006500499999999999,\"symbol\":\"circle\"},\"mode\":\"markers\",\"name\":\"Germany\",\"orientation\":\"v\",\"showlegend\":true,\"x\":[88.86004,88.7737,88.72557],\"xaxis\":\"x\",\"y\":[0.05919,0.07425,0.03269],\"yaxis\":\"y\",\"type\":\"scatter\"},{\"hovertemplate\":\"team=Portugal<br>Soccer Power Index=%{x}<br>Chance to win league=%{marker.size}<extra></extra>\",\"legendgroup\":\"Portugal\",\"marker\":{\"color\":\"#FFA15A\",\"size\":[0.07629,0.08195,0.07188],\"sizemode\":\"area\",\"sizeref\":0.0006500499999999999,\"symbol\":\"circle\"},\"mode\":\"markers\",\"name\":\"Portugal\",\"orientation\":\"v\",\"showlegend\":true,\"x\":[87.77456,87.55187,87.30309],\"xaxis\":\"x\",\"y\":[0.07629,0.08195,0.07188],\"yaxis\":\"y\",\"type\":\"scatter\"},{\"hovertemplate\":\"team=Argentina<br>Soccer Power Index=%{x}<br>Chance to win league=%{marker.size}<extra></extra>\",\"legendgroup\":\"Argentina\",\"marker\":{\"color\":\"#19d3f3\",\"size\":[0.08476,0.04724,0.06528],\"sizemode\":\"area\",\"sizeref\":0.0006500499999999999,\"symbol\":\"circle\"},\"mode\":\"markers\",\"name\":\"Argentina\",\"orientation\":\"v\",\"showlegend\":true,\"x\":[87.20776,86.09354,86.02625],\"xaxis\":\"x\",\"y\":[0.08476,0.04724,0.06528],\"yaxis\":\"y\",\"type\":\"scatter\"},{\"hovertemplate\":\"team=England<br>Soccer Power Index=%{x}<br>Chance to win league=%{marker.size}<extra></extra>\",\"legendgroup\":\"England\",\"marker\":{\"color\":\"#FF6692\",\"size\":[0.07118,0.07136,0.06282],\"sizemode\":\"area\",\"sizeref\":0.0006500499999999999,\"symbol\":\"circle\"},\"mode\":\"markers\",\"name\":\"England\",\"orientation\":\"v\",\"showlegend\":true,\"x\":[86.26103,85.95712,85.40758],\"xaxis\":\"x\",\"y\":[0.07118,0.07136,0.06282],\"yaxis\":\"y\",\"type\":\"scatter\"},{\"hovertemplate\":\"team=Netherlands<br>Soccer Power Index=%{x}<br>Chance to win league=%{marker.size}<extra></extra>\",\"legendgroup\":\"Netherlands\",\"marker\":{\"color\":\"#B6E880\",\"size\":[0.07245,0.0596,0.05723],\"sizemode\":\"area\",\"sizeref\":0.0006500499999999999,\"symbol\":\"circle\"},\"mode\":\"markers\",\"name\":\"Netherlands\",\"orientation\":\"v\",\"showlegend\":true,\"x\":[86.07414,86.01102,84.3837],\"xaxis\":\"x\",\"y\":[0.07245,0.0596,0.05723],\"yaxis\":\"y\",\"type\":\"scatter\"},{\"hovertemplate\":\"team=Belgium<br>Soccer Power Index=%{x}<br>Chance to win league=%{marker.size}<extra></extra>\",\"legendgroup\":\"Belgium\",\"marker\":{\"color\":\"#FF97FF\",\"size\":[0.02608,0.02415],\"sizemode\":\"area\",\"sizeref\":0.0006500499999999999,\"symbol\":\"circle\"},\"mode\":\"markers\",\"name\":\"Belgium\",\"orientation\":\"v\",\"showlegend\":true,\"x\":[82.49005,80.53709],\"xaxis\":\"x\",\"y\":[0.02608,0.02415],\"yaxis\":\"y\",\"type\":\"scatter\"},{\"hovertemplate\":\"team=Uruguay<br>Soccer Power Index=%{x}<br>Chance to win league=%{marker.size}<extra></extra>\",\"legendgroup\":\"Uruguay\",\"marker\":{\"color\":\"#FECB52\",\"size\":[0.02828,0.02099],\"sizemode\":\"area\",\"sizeref\":0.0006500499999999999,\"symbol\":\"circle\"},\"mode\":\"markers\",\"name\":\"Uruguay\",\"orientation\":\"v\",\"showlegend\":true,\"x\":[80.90448,79.70107],\"xaxis\":\"x\",\"y\":[0.02828,0.02099],\"yaxis\":\"y\",\"type\":\"scatter\"},{\"hovertemplate\":\"team=Croatia<br>Soccer Power Index=%{x}<br>Chance to win league=%{marker.size}<extra></extra>\",\"legendgroup\":\"Croatia\",\"marker\":{\"color\":\"#636efa\",\"size\":[0.0254],\"sizemode\":\"area\",\"sizeref\":0.0006500499999999999,\"symbol\":\"circle\"},\"mode\":\"markers\",\"name\":\"Croatia\",\"orientation\":\"v\",\"showlegend\":true,\"x\":[80.87388],\"xaxis\":\"x\",\"y\":[0.0254],\"yaxis\":\"y\",\"type\":\"scatter\"},{\"hovertemplate\":\"team=Denmark<br>Soccer Power Index=%{x}<br>Chance to win league=%{marker.size}<extra></extra>\",\"legendgroup\":\"Denmark\",\"marker\":{\"color\":\"#EF553B\",\"size\":[0.02842],\"sizemode\":\"area\",\"sizeref\":0.0006500499999999999,\"symbol\":\"circle\"},\"mode\":\"markers\",\"name\":\"Denmark\",\"orientation\":\"v\",\"showlegend\":true,\"x\":[80.01595],\"xaxis\":\"x\",\"y\":[0.02842],\"yaxis\":\"y\",\"type\":\"scatter\"}],                        {\"template\":{\"data\":{\"histogram2dcontour\":[{\"type\":\"histogram2dcontour\",\"colorbar\":{\"outlinewidth\":0,\"ticks\":\"\"},\"colorscale\":[[0.0,\"#0d0887\"],[0.1111111111111111,\"#46039f\"],[0.2222222222222222,\"#7201a8\"],[0.3333333333333333,\"#9c179e\"],[0.4444444444444444,\"#bd3786\"],[0.5555555555555556,\"#d8576b\"],[0.6666666666666666,\"#ed7953\"],[0.7777777777777778,\"#fb9f3a\"],[0.8888888888888888,\"#fdca26\"],[1.0,\"#f0f921\"]]}],\"choropleth\":[{\"type\":\"choropleth\",\"colorbar\":{\"outlinewidth\":0,\"ticks\":\"\"}}],\"histogram2d\":[{\"type\":\"histogram2d\",\"colorbar\":{\"outlinewidth\":0,\"ticks\":\"\"},\"colorscale\":[[0.0,\"#0d0887\"],[0.1111111111111111,\"#46039f\"],[0.2222222222222222,\"#7201a8\"],[0.3333333333333333,\"#9c179e\"],[0.4444444444444444,\"#bd3786\"],[0.5555555555555556,\"#d8576b\"],[0.6666666666666666,\"#ed7953\"],[0.7777777777777778,\"#fb9f3a\"],[0.8888888888888888,\"#fdca26\"],[1.0,\"#f0f921\"]]}],\"heatmap\":[{\"type\":\"heatmap\",\"colorbar\":{\"outlinewidth\":0,\"ticks\":\"\"},\"colorscale\":[[0.0,\"#0d0887\"],[0.1111111111111111,\"#46039f\"],[0.2222222222222222,\"#7201a8\"],[0.3333333333333333,\"#9c179e\"],[0.4444444444444444,\"#bd3786\"],[0.5555555555555556,\"#d8576b\"],[0.6666666666666666,\"#ed7953\"],[0.7777777777777778,\"#fb9f3a\"],[0.8888888888888888,\"#fdca26\"],[1.0,\"#f0f921\"]]}],\"heatmapgl\":[{\"type\":\"heatmapgl\",\"colorbar\":{\"outlinewidth\":0,\"ticks\":\"\"},\"colorscale\":[[0.0,\"#0d0887\"],[0.1111111111111111,\"#46039f\"],[0.2222222222222222,\"#7201a8\"],[0.3333333333333333,\"#9c179e\"],[0.4444444444444444,\"#bd3786\"],[0.5555555555555556,\"#d8576b\"],[0.6666666666666666,\"#ed7953\"],[0.7777777777777778,\"#fb9f3a\"],[0.8888888888888888,\"#fdca26\"],[1.0,\"#f0f921\"]]}],\"contourcarpet\":[{\"type\":\"contourcarpet\",\"colorbar\":{\"outlinewidth\":0,\"ticks\":\"\"}}],\"contour\":[{\"type\":\"contour\",\"colorbar\":{\"outlinewidth\":0,\"ticks\":\"\"},\"colorscale\":[[0.0,\"#0d0887\"],[0.1111111111111111,\"#46039f\"],[0.2222222222222222,\"#7201a8\"],[0.3333333333333333,\"#9c179e\"],[0.4444444444444444,\"#bd3786\"],[0.5555555555555556,\"#d8576b\"],[0.6666666666666666,\"#ed7953\"],[0.7777777777777778,\"#fb9f3a\"],[0.8888888888888888,\"#fdca26\"],[1.0,\"#f0f921\"]]}],\"surface\":[{\"type\":\"surface\",\"colorbar\":{\"outlinewidth\":0,\"ticks\":\"\"},\"colorscale\":[[0.0,\"#0d0887\"],[0.1111111111111111,\"#46039f\"],[0.2222222222222222,\"#7201a8\"],[0.3333333333333333,\"#9c179e\"],[0.4444444444444444,\"#bd3786\"],[0.5555555555555556,\"#d8576b\"],[0.6666666666666666,\"#ed7953\"],[0.7777777777777778,\"#fb9f3a\"],[0.8888888888888888,\"#fdca26\"],[1.0,\"#f0f921\"]]}],\"mesh3d\":[{\"type\":\"mesh3d\",\"colorbar\":{\"outlinewidth\":0,\"ticks\":\"\"}}],\"scatter\":[{\"fillpattern\":{\"fillmode\":\"overlay\",\"size\":10,\"solidity\":0.2},\"type\":\"scatter\"}],\"parcoords\":[{\"type\":\"parcoords\",\"line\":{\"colorbar\":{\"outlinewidth\":0,\"ticks\":\"\"}}}],\"scatterpolargl\":[{\"type\":\"scatterpolargl\",\"marker\":{\"colorbar\":{\"outlinewidth\":0,\"ticks\":\"\"}}}],\"bar\":[{\"error_x\":{\"color\":\"#2a3f5f\"},\"error_y\":{\"color\":\"#2a3f5f\"},\"marker\":{\"line\":{\"color\":\"#E5ECF6\",\"width\":0.5},\"pattern\":{\"fillmode\":\"overlay\",\"size\":10,\"solidity\":0.2}},\"type\":\"bar\"}],\"scattergeo\":[{\"type\":\"scattergeo\",\"marker\":{\"colorbar\":{\"outlinewidth\":0,\"ticks\":\"\"}}}],\"scatterpolar\":[{\"type\":\"scatterpolar\",\"marker\":{\"colorbar\":{\"outlinewidth\":0,\"ticks\":\"\"}}}],\"histogram\":[{\"marker\":{\"pattern\":{\"fillmode\":\"overlay\",\"size\":10,\"solidity\":0.2}},\"type\":\"histogram\"}],\"scattergl\":[{\"type\":\"scattergl\",\"marker\":{\"colorbar\":{\"outlinewidth\":0,\"ticks\":\"\"}}}],\"scatter3d\":[{\"type\":\"scatter3d\",\"line\":{\"colorbar\":{\"outlinewidth\":0,\"ticks\":\"\"}},\"marker\":{\"colorbar\":{\"outlinewidth\":0,\"ticks\":\"\"}}}],\"scattermapbox\":[{\"type\":\"scattermapbox\",\"marker\":{\"colorbar\":{\"outlinewidth\":0,\"ticks\":\"\"}}}],\"scatterternary\":[{\"type\":\"scatterternary\",\"marker\":{\"colorbar\":{\"outlinewidth\":0,\"ticks\":\"\"}}}],\"scattercarpet\":[{\"type\":\"scattercarpet\",\"marker\":{\"colorbar\":{\"outlinewidth\":0,\"ticks\":\"\"}}}],\"carpet\":[{\"aaxis\":{\"endlinecolor\":\"#2a3f5f\",\"gridcolor\":\"white\",\"linecolor\":\"white\",\"minorgridcolor\":\"white\",\"startlinecolor\":\"#2a3f5f\"},\"baxis\":{\"endlinecolor\":\"#2a3f5f\",\"gridcolor\":\"white\",\"linecolor\":\"white\",\"minorgridcolor\":\"white\",\"startlinecolor\":\"#2a3f5f\"},\"type\":\"carpet\"}],\"table\":[{\"cells\":{\"fill\":{\"color\":\"#EBF0F8\"},\"line\":{\"color\":\"white\"}},\"header\":{\"fill\":{\"color\":\"#C8D4E3\"},\"line\":{\"color\":\"white\"}},\"type\":\"table\"}],\"barpolar\":[{\"marker\":{\"line\":{\"color\":\"#E5ECF6\",\"width\":0.5},\"pattern\":{\"fillmode\":\"overlay\",\"size\":10,\"solidity\":0.2}},\"type\":\"barpolar\"}],\"pie\":[{\"automargin\":true,\"type\":\"pie\"}]},\"layout\":{\"autotypenumbers\":\"strict\",\"colorway\":[\"#636efa\",\"#EF553B\",\"#00cc96\",\"#ab63fa\",\"#FFA15A\",\"#19d3f3\",\"#FF6692\",\"#B6E880\",\"#FF97FF\",\"#FECB52\"],\"font\":{\"color\":\"#2a3f5f\"},\"hovermode\":\"closest\",\"hoverlabel\":{\"align\":\"left\"},\"paper_bgcolor\":\"white\",\"plot_bgcolor\":\"#E5ECF6\",\"polar\":{\"bgcolor\":\"#E5ECF6\",\"angularaxis\":{\"gridcolor\":\"white\",\"linecolor\":\"white\",\"ticks\":\"\"},\"radialaxis\":{\"gridcolor\":\"white\",\"linecolor\":\"white\",\"ticks\":\"\"}},\"ternary\":{\"bgcolor\":\"#E5ECF6\",\"aaxis\":{\"gridcolor\":\"white\",\"linecolor\":\"white\",\"ticks\":\"\"},\"baxis\":{\"gridcolor\":\"white\",\"linecolor\":\"white\",\"ticks\":\"\"},\"caxis\":{\"gridcolor\":\"white\",\"linecolor\":\"white\",\"ticks\":\"\"}},\"coloraxis\":{\"colorbar\":{\"outlinewidth\":0,\"ticks\":\"\"}},\"colorscale\":{\"sequential\":[[0.0,\"#0d0887\"],[0.1111111111111111,\"#46039f\"],[0.2222222222222222,\"#7201a8\"],[0.3333333333333333,\"#9c179e\"],[0.4444444444444444,\"#bd3786\"],[0.5555555555555556,\"#d8576b\"],[0.6666666666666666,\"#ed7953\"],[0.7777777777777778,\"#fb9f3a\"],[0.8888888888888888,\"#fdca26\"],[1.0,\"#f0f921\"]],\"sequentialminus\":[[0.0,\"#0d0887\"],[0.1111111111111111,\"#46039f\"],[0.2222222222222222,\"#7201a8\"],[0.3333333333333333,\"#9c179e\"],[0.4444444444444444,\"#bd3786\"],[0.5555555555555556,\"#d8576b\"],[0.6666666666666666,\"#ed7953\"],[0.7777777777777778,\"#fb9f3a\"],[0.8888888888888888,\"#fdca26\"],[1.0,\"#f0f921\"]],\"diverging\":[[0,\"#8e0152\"],[0.1,\"#c51b7d\"],[0.2,\"#de77ae\"],[0.3,\"#f1b6da\"],[0.4,\"#fde0ef\"],[0.5,\"#f7f7f7\"],[0.6,\"#e6f5d0\"],[0.7,\"#b8e186\"],[0.8,\"#7fbc41\"],[0.9,\"#4d9221\"],[1,\"#276419\"]]},\"xaxis\":{\"gridcolor\":\"white\",\"linecolor\":\"white\",\"ticks\":\"\",\"title\":{\"standoff\":15},\"zerolinecolor\":\"white\",\"automargin\":true,\"zerolinewidth\":2},\"yaxis\":{\"gridcolor\":\"white\",\"linecolor\":\"white\",\"ticks\":\"\",\"title\":{\"standoff\":15},\"zerolinecolor\":\"white\",\"automargin\":true,\"zerolinewidth\":2},\"scene\":{\"xaxis\":{\"backgroundcolor\":\"#E5ECF6\",\"gridcolor\":\"white\",\"linecolor\":\"white\",\"showbackground\":true,\"ticks\":\"\",\"zerolinecolor\":\"white\",\"gridwidth\":2},\"yaxis\":{\"backgroundcolor\":\"#E5ECF6\",\"gridcolor\":\"white\",\"linecolor\":\"white\",\"showbackground\":true,\"ticks\":\"\",\"zerolinecolor\":\"white\",\"gridwidth\":2},\"zaxis\":{\"backgroundcolor\":\"#E5ECF6\",\"gridcolor\":\"white\",\"linecolor\":\"white\",\"showbackground\":true,\"ticks\":\"\",\"zerolinecolor\":\"white\",\"gridwidth\":2}},\"shapedefaults\":{\"line\":{\"color\":\"#2a3f5f\"}},\"annotationdefaults\":{\"arrowcolor\":\"#2a3f5f\",\"arrowhead\":0,\"arrowwidth\":1},\"geo\":{\"bgcolor\":\"white\",\"landcolor\":\"#E5ECF6\",\"subunitcolor\":\"white\",\"showland\":true,\"showlakes\":true,\"lakecolor\":\"white\"},\"title\":{\"x\":0.05},\"mapbox\":{\"style\":\"light\"}}},\"xaxis\":{\"anchor\":\"y\",\"domain\":[0.0,1.0],\"title\":{\"text\":\"Soccer Power Index\"}},\"yaxis\":{\"anchor\":\"x\",\"domain\":[0.0,1.0],\"title\":{\"text\":\"Chance to win league\"}},\"legend\":{\"title\":{\"text\":\"team\"},\"tracegroupgap\":0,\"itemsizing\":\"constant\"},\"margin\":{\"t\":60},\"height\":600,\"width\":1000,\"title\":{\"text\":\"Chance to win the league compared to Soccer Power Index\",\"y\":0.95,\"x\":0.5,\"xanchor\":\"center\",\"yanchor\":\"top\"}},                        {\"responsive\": true}                    ).then(function(){\n                            \nvar gd = document.getElementById('ccf02ee9-184e-4589-88f3-90cfd1aa69aa');\nvar x = new MutationObserver(function (mutations, observer) {{\n        var display = window.getComputedStyle(gd).display;\n        if (!display || display === 'none') {{\n            console.log([gd, 'removed!']);\n            Plotly.purge(gd);\n            observer.disconnect();\n        }}\n}});\n\n// Listen for the removal of the full notebook cells\nvar notebookContainer = gd.closest('#notebook-container');\nif (notebookContainer) {{\n    x.observe(notebookContainer, {childList: true});\n}}\n\n// Listen for the clearing of the current output cell\nvar outputEl = gd.closest('.output');\nif (outputEl) {{\n    x.observe(outputEl, {childList: true});\n}}\n\n                        })                };                });            </script>        </div>"
     },
     "metadata": {},
     "output_type": "display_data"
    }
   ],
   "source": [
    "dfg = df_world_cup.groupby(['team', 'win_league','spi']).size().to_frame().sort_values(['spi'], ascending = False).head(30).reset_index()\n",
    "\n",
    "fig = px.scatter(dfg, x=\"spi\", y = \"win_league\",size='win_league', color=\"team\", labels={'spi':'Soccer Power Index', 'win_league':'Chance to win league'}, width=1000, height=600)\n",
    "\n",
    "fig.update_layout(\n",
    "    title={\n",
    "        'text': \"Chance to win the league compared to Soccer Power Index\",\n",
    "        'y':0.95,\n",
    "        'x':0.5,\n",
    "        'xanchor': 'center',\n",
    "        'yanchor': 'top'})\n",
    "\n",
    "\n",
    "fig.show()\n",
    "\n",
    "# Germany clear outlier :D"
   ],
   "metadata": {
    "collapsed": false
   }
  },
  {
   "cell_type": "code",
   "execution_count": 74,
   "outputs": [
    {
     "data": {
      "text/plain": "   index       forecast_timestamp         team group       spi  global_o  \\\n0      0  2022-11-28 20:59:50 UTC       Brazil     G  93.48139   3.06210   \n1      1  2022-11-28 20:59:50 UTC        Spain     E  90.62031   2.84092   \n2      2  2022-11-28 20:59:50 UTC       France     D  90.14910   3.03006   \n3      3  2022-11-28 20:59:50 UTC     Portugal     H  87.55187   2.81564   \n4      4  2022-11-28 20:59:50 UTC    Argentina     C  86.02625   2.48839   \n5      5  2022-11-28 20:59:50 UTC      England     B  85.40758   2.54769   \n6      6  2022-11-28 20:59:50 UTC      Germany     E  88.86004   3.15327   \n7      7  2022-11-28 20:59:50 UTC  Netherlands     A  84.38370   2.59307   \n8      8  2022-11-28 20:59:50 UTC      Croatia     F  80.87388   2.30506   \n9      9  2022-11-28 20:59:50 UTC      Ecuador     A  75.81562   1.93859   \n\n   global_d  sim_wins  sim_ties  sim_losses  ...  group_1  group_2  group_3  \\\n0   0.23656   2.81289   0.15059     0.03652  ...  0.99515  0.00485  0.00000   \n1   0.33577   1.61371   1.24833     0.13796  ...  0.84893  0.14284  0.00823   \n2   0.45553   2.64890   0.23851     0.11259  ...  0.99992  0.00008  0.00000   \n3   0.51015   2.58556   0.24741     0.16703  ...  0.98834  0.01166  0.00000   \n4   0.42171   1.57821   0.26472     1.15707  ...  0.57290  0.20115  0.22498   \n5   0.48612   1.60056   1.25646     0.14298  ...  0.82096  0.17820  0.00084   \n6   0.60378   0.80585   1.14240     1.05175  ...  0.00000  0.67345  0.13240   \n7   0.56564   1.77578   1.15339     0.07083  ...  0.75673  0.23478  0.00849   \n8   0.57143   1.38931   1.28598     0.32471  ...  0.54603  0.21259  0.24138   \n9   0.56118   1.36865   1.33448     0.29687  ...  0.17704  0.53220  0.29076   \n\n   group_4  make_round_of_16  make_quarters  make_semis  make_final  \\\n0  0.00000           1.00000        0.82256     0.53731     0.39419   \n1  0.00000           0.99177        0.72213     0.35169     0.23196   \n2  0.00000           1.00000        0.75998     0.47603     0.27224   \n3  0.00000           1.00000        0.65092     0.35302     0.18387   \n4  0.00097           0.77405        0.49381     0.29805     0.12681   \n5  0.00000           0.99916        0.59830     0.29438     0.14332   \n6  0.19415           0.67345        0.42428     0.24106     0.12928   \n7  0.00000           0.99151        0.59733     0.32199     0.12204   \n8  0.00000           0.75862        0.31783     0.13829     0.06419   \n9  0.00000           0.70924        0.31610     0.12525     0.04497   \n\n   win_league                timestamp  \n0     0.26002  2022-11-28 21:01:22 UTC  \n1     0.13658  2022-11-28 21:01:22 UTC  \n2     0.13269  2022-11-28 21:01:22 UTC  \n3     0.08195  2022-11-28 21:01:22 UTC  \n4     0.06528  2022-11-28 21:01:22 UTC  \n5     0.06282  2022-11-28 21:01:22 UTC  \n6     0.05919  2022-11-28 21:01:22 UTC  \n7     0.05723  2022-11-28 21:01:22 UTC  \n8     0.02540  2022-11-28 21:01:22 UTC  \n9     0.01607  2022-11-28 21:01:22 UTC  \n\n[10 rows x 23 columns]",
      "text/html": "<div>\n<style scoped>\n    .dataframe tbody tr th:only-of-type {\n        vertical-align: middle;\n    }\n\n    .dataframe tbody tr th {\n        vertical-align: top;\n    }\n\n    .dataframe thead th {\n        text-align: right;\n    }\n</style>\n<table border=\"1\" class=\"dataframe\">\n  <thead>\n    <tr style=\"text-align: right;\">\n      <th></th>\n      <th>index</th>\n      <th>forecast_timestamp</th>\n      <th>team</th>\n      <th>group</th>\n      <th>spi</th>\n      <th>global_o</th>\n      <th>global_d</th>\n      <th>sim_wins</th>\n      <th>sim_ties</th>\n      <th>sim_losses</th>\n      <th>...</th>\n      <th>group_1</th>\n      <th>group_2</th>\n      <th>group_3</th>\n      <th>group_4</th>\n      <th>make_round_of_16</th>\n      <th>make_quarters</th>\n      <th>make_semis</th>\n      <th>make_final</th>\n      <th>win_league</th>\n      <th>timestamp</th>\n    </tr>\n  </thead>\n  <tbody>\n    <tr>\n      <th>0</th>\n      <td>0</td>\n      <td>2022-11-28 20:59:50 UTC</td>\n      <td>Brazil</td>\n      <td>G</td>\n      <td>93.48139</td>\n      <td>3.06210</td>\n      <td>0.23656</td>\n      <td>2.81289</td>\n      <td>0.15059</td>\n      <td>0.03652</td>\n      <td>...</td>\n      <td>0.99515</td>\n      <td>0.00485</td>\n      <td>0.00000</td>\n      <td>0.00000</td>\n      <td>1.00000</td>\n      <td>0.82256</td>\n      <td>0.53731</td>\n      <td>0.39419</td>\n      <td>0.26002</td>\n      <td>2022-11-28 21:01:22 UTC</td>\n    </tr>\n    <tr>\n      <th>1</th>\n      <td>1</td>\n      <td>2022-11-28 20:59:50 UTC</td>\n      <td>Spain</td>\n      <td>E</td>\n      <td>90.62031</td>\n      <td>2.84092</td>\n      <td>0.33577</td>\n      <td>1.61371</td>\n      <td>1.24833</td>\n      <td>0.13796</td>\n      <td>...</td>\n      <td>0.84893</td>\n      <td>0.14284</td>\n      <td>0.00823</td>\n      <td>0.00000</td>\n      <td>0.99177</td>\n      <td>0.72213</td>\n      <td>0.35169</td>\n      <td>0.23196</td>\n      <td>0.13658</td>\n      <td>2022-11-28 21:01:22 UTC</td>\n    </tr>\n    <tr>\n      <th>2</th>\n      <td>2</td>\n      <td>2022-11-28 20:59:50 UTC</td>\n      <td>France</td>\n      <td>D</td>\n      <td>90.14910</td>\n      <td>3.03006</td>\n      <td>0.45553</td>\n      <td>2.64890</td>\n      <td>0.23851</td>\n      <td>0.11259</td>\n      <td>...</td>\n      <td>0.99992</td>\n      <td>0.00008</td>\n      <td>0.00000</td>\n      <td>0.00000</td>\n      <td>1.00000</td>\n      <td>0.75998</td>\n      <td>0.47603</td>\n      <td>0.27224</td>\n      <td>0.13269</td>\n      <td>2022-11-28 21:01:22 UTC</td>\n    </tr>\n    <tr>\n      <th>3</th>\n      <td>3</td>\n      <td>2022-11-28 20:59:50 UTC</td>\n      <td>Portugal</td>\n      <td>H</td>\n      <td>87.55187</td>\n      <td>2.81564</td>\n      <td>0.51015</td>\n      <td>2.58556</td>\n      <td>0.24741</td>\n      <td>0.16703</td>\n      <td>...</td>\n      <td>0.98834</td>\n      <td>0.01166</td>\n      <td>0.00000</td>\n      <td>0.00000</td>\n      <td>1.00000</td>\n      <td>0.65092</td>\n      <td>0.35302</td>\n      <td>0.18387</td>\n      <td>0.08195</td>\n      <td>2022-11-28 21:01:22 UTC</td>\n    </tr>\n    <tr>\n      <th>4</th>\n      <td>4</td>\n      <td>2022-11-28 20:59:50 UTC</td>\n      <td>Argentina</td>\n      <td>C</td>\n      <td>86.02625</td>\n      <td>2.48839</td>\n      <td>0.42171</td>\n      <td>1.57821</td>\n      <td>0.26472</td>\n      <td>1.15707</td>\n      <td>...</td>\n      <td>0.57290</td>\n      <td>0.20115</td>\n      <td>0.22498</td>\n      <td>0.00097</td>\n      <td>0.77405</td>\n      <td>0.49381</td>\n      <td>0.29805</td>\n      <td>0.12681</td>\n      <td>0.06528</td>\n      <td>2022-11-28 21:01:22 UTC</td>\n    </tr>\n    <tr>\n      <th>5</th>\n      <td>5</td>\n      <td>2022-11-28 20:59:50 UTC</td>\n      <td>England</td>\n      <td>B</td>\n      <td>85.40758</td>\n      <td>2.54769</td>\n      <td>0.48612</td>\n      <td>1.60056</td>\n      <td>1.25646</td>\n      <td>0.14298</td>\n      <td>...</td>\n      <td>0.82096</td>\n      <td>0.17820</td>\n      <td>0.00084</td>\n      <td>0.00000</td>\n      <td>0.99916</td>\n      <td>0.59830</td>\n      <td>0.29438</td>\n      <td>0.14332</td>\n      <td>0.06282</td>\n      <td>2022-11-28 21:01:22 UTC</td>\n    </tr>\n    <tr>\n      <th>6</th>\n      <td>6</td>\n      <td>2022-11-28 20:59:50 UTC</td>\n      <td>Germany</td>\n      <td>E</td>\n      <td>88.86004</td>\n      <td>3.15327</td>\n      <td>0.60378</td>\n      <td>0.80585</td>\n      <td>1.14240</td>\n      <td>1.05175</td>\n      <td>...</td>\n      <td>0.00000</td>\n      <td>0.67345</td>\n      <td>0.13240</td>\n      <td>0.19415</td>\n      <td>0.67345</td>\n      <td>0.42428</td>\n      <td>0.24106</td>\n      <td>0.12928</td>\n      <td>0.05919</td>\n      <td>2022-11-28 21:01:22 UTC</td>\n    </tr>\n    <tr>\n      <th>7</th>\n      <td>7</td>\n      <td>2022-11-28 20:59:50 UTC</td>\n      <td>Netherlands</td>\n      <td>A</td>\n      <td>84.38370</td>\n      <td>2.59307</td>\n      <td>0.56564</td>\n      <td>1.77578</td>\n      <td>1.15339</td>\n      <td>0.07083</td>\n      <td>...</td>\n      <td>0.75673</td>\n      <td>0.23478</td>\n      <td>0.00849</td>\n      <td>0.00000</td>\n      <td>0.99151</td>\n      <td>0.59733</td>\n      <td>0.32199</td>\n      <td>0.12204</td>\n      <td>0.05723</td>\n      <td>2022-11-28 21:01:22 UTC</td>\n    </tr>\n    <tr>\n      <th>8</th>\n      <td>8</td>\n      <td>2022-11-28 20:59:50 UTC</td>\n      <td>Croatia</td>\n      <td>F</td>\n      <td>80.87388</td>\n      <td>2.30506</td>\n      <td>0.57143</td>\n      <td>1.38931</td>\n      <td>1.28598</td>\n      <td>0.32471</td>\n      <td>...</td>\n      <td>0.54603</td>\n      <td>0.21259</td>\n      <td>0.24138</td>\n      <td>0.00000</td>\n      <td>0.75862</td>\n      <td>0.31783</td>\n      <td>0.13829</td>\n      <td>0.06419</td>\n      <td>0.02540</td>\n      <td>2022-11-28 21:01:22 UTC</td>\n    </tr>\n    <tr>\n      <th>9</th>\n      <td>9</td>\n      <td>2022-11-28 20:59:50 UTC</td>\n      <td>Ecuador</td>\n      <td>A</td>\n      <td>75.81562</td>\n      <td>1.93859</td>\n      <td>0.56118</td>\n      <td>1.36865</td>\n      <td>1.33448</td>\n      <td>0.29687</td>\n      <td>...</td>\n      <td>0.17704</td>\n      <td>0.53220</td>\n      <td>0.29076</td>\n      <td>0.00000</td>\n      <td>0.70924</td>\n      <td>0.31610</td>\n      <td>0.12525</td>\n      <td>0.04497</td>\n      <td>0.01607</td>\n      <td>2022-11-28 21:01:22 UTC</td>\n    </tr>\n  </tbody>\n</table>\n<p>10 rows × 23 columns</p>\n</div>"
     },
     "execution_count": 74,
     "metadata": {},
     "output_type": "execute_result"
    }
   ],
   "source": [
    "dfg.head(10)"
   ],
   "metadata": {
    "collapsed": false
   }
  },
  {
   "cell_type": "code",
   "execution_count": 55,
   "outputs": [],
   "source": [],
   "metadata": {
    "collapsed": false
   }
  },
  {
   "cell_type": "code",
   "execution_count": null,
   "outputs": [],
   "source": [],
   "metadata": {
    "collapsed": false
   }
  }
 ],
 "metadata": {
  "kernelspec": {
   "display_name": "Python 3.9.13 ('ds')",
   "language": "python",
   "name": "python3"
  },
  "language_info": {
   "codemirror_mode": {
    "name": "ipython",
    "version": 3
   },
   "file_extension": ".py",
   "mimetype": "text/x-python",
   "name": "python",
   "nbconvert_exporter": "python",
   "pygments_lexer": "ipython3",
   "version": "3.9.13"
  },
  "orig_nbformat": 4,
  "vscode": {
   "interpreter": {
    "hash": "b0d598f3b30c8fa8aa5bf08ab98be9e00925507cb67bf1075654e4987281a8d4"
   }
  }
 },
 "nbformat": 4,
 "nbformat_minor": 2
}
