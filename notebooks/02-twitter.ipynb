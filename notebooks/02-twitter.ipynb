{
 "cells": [
  {
   "cell_type": "markdown",
   "metadata": {},
   "source": [
    "# Twitter\n",
    "\n",
    "---\n",
    "\n",
    "Group name: Gruppe B\n",
    "\n",
    "---\n"
   ]
  },
  {
   "cell_type": "markdown",
   "metadata": {},
   "source": [
    "# Setup"
   ]
  },
  {
   "cell_type": "code",
   "execution_count": 33,
   "metadata": {},
   "outputs": [],
   "source": [
    "import tweepy"
   ]
  },
  {
   "cell_type": "code",
   "execution_count": 34,
   "metadata": {},
   "outputs": [],
   "source": [
    "from keys import *"
   ]
  },
  {
   "cell_type": "code",
   "execution_count": 35,
   "metadata": {},
   "outputs": [],
   "source": [
    "import requests\n",
    "\n",
    "client = tweepy.Client( bearer_token=bearer_token, \n",
    "                        consumer_key=consumer_key, \n",
    "                        consumer_secret=consumer_secret, \n",
    "                        access_token=access_token, \n",
    "                        access_token_secret=access_token_secret, \n",
    "                        return_type = requests.Response,\n",
    "                        wait_on_rate_limit=True)"
   ]
  },
  {
   "cell_type": "markdown",
   "metadata": {},
   "source": [
    "## Obtaining tweets"
   ]
  },
  {
   "cell_type": "code",
   "execution_count": 36,
   "metadata": {},
   "outputs": [],
   "source": [
    "# WIRED: defining simple query (excluding retweets)\n",
    "query_wired = 'from:WIRED -is:retweet'"
   ]
  },
  {
   "cell_type": "code",
   "execution_count": 37,
   "metadata": {},
   "outputs": [],
   "source": [
    "# FiveThirtyEight: defining simple query (excluding retweets)\n",
    "query_fte = 'from:FiveThirtyEight -is:retweet'"
   ]
  },
  {
   "cell_type": "code",
   "execution_count": 38,
   "metadata": {},
   "outputs": [],
   "source": [
    "# WIRED: obtaining tweets\n",
    "tweets_wired = client.search_recent_tweets(query=query_wired, \n",
    "                                    tweet_fields=['author_id', 'created_at'],\n",
    "                                     max_results=100)"
   ]
  },
  {
   "cell_type": "code",
   "execution_count": 39,
   "metadata": {},
   "outputs": [],
   "source": [
    "# FiveThirtyEight: obtaining tweets\n",
    "tweets_fte = client.search_recent_tweets(query=query_fte, \n",
    "                                    tweet_fields=['author_id', 'created_at'],\n",
    "                                     max_results=100)"
   ]
  },
  {
   "cell_type": "markdown",
   "metadata": {},
   "source": [
    "## Converting tweets to pandas dataframe"
   ]
  },
  {
   "cell_type": "code",
   "execution_count": 40,
   "metadata": {},
   "outputs": [],
   "source": [
    "import pandas as pd"
   ]
  },
  {
   "cell_type": "code",
   "execution_count": 41,
   "metadata": {},
   "outputs": [],
   "source": [
    "# WIRED\n",
    "\n",
    "# Saving data as dictionary\n",
    "tweets_wired_dict = tweets_wired.json() \n",
    "\n",
    "# Extracting \"data\" value from dictionary\n",
    "tweets_wired_data = tweets_wired_dict['data'] \n",
    "\n",
    "# Transforming to pandas Dataframe\n",
    "df_wired = pd.json_normalize(tweets_wired_data)"
   ]
  },
  {
   "cell_type": "code",
   "execution_count": 42,
   "metadata": {},
   "outputs": [
    {
     "data": {
      "text/html": [
       "<div>\n",
       "<style scoped>\n",
       "    .dataframe tbody tr th:only-of-type {\n",
       "        vertical-align: middle;\n",
       "    }\n",
       "\n",
       "    .dataframe tbody tr th {\n",
       "        vertical-align: top;\n",
       "    }\n",
       "\n",
       "    .dataframe thead th {\n",
       "        text-align: right;\n",
       "    }\n",
       "</style>\n",
       "<table border=\"1\" class=\"dataframe\">\n",
       "  <thead>\n",
       "    <tr style=\"text-align: right;\">\n",
       "      <th></th>\n",
       "      <th>author_id</th>\n",
       "      <th>id</th>\n",
       "      <th>created_at</th>\n",
       "      <th>text</th>\n",
       "      <th>edit_history_tweet_ids</th>\n",
       "    </tr>\n",
       "  </thead>\n",
       "  <tbody>\n",
       "    <tr>\n",
       "      <th>0</th>\n",
       "      <td>1344951</td>\n",
       "      <td>1592524334798512128</td>\n",
       "      <td>2022-11-15T14:26:03.000Z</td>\n",
       "      <td>WIRED\\nEasy to set up. Snappy interface. Great...</td>\n",
       "      <td>[1592524334798512128]</td>\n",
       "    </tr>\n",
       "    <tr>\n",
       "      <th>1</th>\n",
       "      <td>1344951</td>\n",
       "      <td>1592519307468087297</td>\n",
       "      <td>2022-11-15T14:06:05.000Z</td>\n",
       "      <td>Larp, short for live action role playing, migh...</td>\n",
       "      <td>[1592519307468087297]</td>\n",
       "    </tr>\n",
       "    <tr>\n",
       "      <th>2</th>\n",
       "      <td>1344951</td>\n",
       "      <td>1592511744806486016</td>\n",
       "      <td>2022-11-15T13:36:02.000Z</td>\n",
       "      <td>WIRED’s editor in chief Gideon Lichfield mulls...</td>\n",
       "      <td>[1592511744806486016]</td>\n",
       "    </tr>\n",
       "    <tr>\n",
       "      <th>3</th>\n",
       "      <td>1344951</td>\n",
       "      <td>1592502932754550784</td>\n",
       "      <td>2022-11-15T13:01:01.000Z</td>\n",
       "      <td>Can you guess what this is? This unbelievable ...</td>\n",
       "      <td>[1592502932754550784]</td>\n",
       "    </tr>\n",
       "    <tr>\n",
       "      <th>4</th>\n",
       "      <td>1344951</td>\n",
       "      <td>1592488950043656192</td>\n",
       "      <td>2022-11-15T12:05:27.000Z</td>\n",
       "      <td>Europe’s cities are growing denser once more—a...</td>\n",
       "      <td>[1592488950043656192]</td>\n",
       "    </tr>\n",
       "  </tbody>\n",
       "</table>\n",
       "</div>"
      ],
      "text/plain": [
       "  author_id                   id                created_at  \\\n",
       "0   1344951  1592524334798512128  2022-11-15T14:26:03.000Z   \n",
       "1   1344951  1592519307468087297  2022-11-15T14:06:05.000Z   \n",
       "2   1344951  1592511744806486016  2022-11-15T13:36:02.000Z   \n",
       "3   1344951  1592502932754550784  2022-11-15T13:01:01.000Z   \n",
       "4   1344951  1592488950043656192  2022-11-15T12:05:27.000Z   \n",
       "\n",
       "                                                text edit_history_tweet_ids  \n",
       "0  WIRED\\nEasy to set up. Snappy interface. Great...  [1592524334798512128]  \n",
       "1  Larp, short for live action role playing, migh...  [1592519307468087297]  \n",
       "2  WIRED’s editor in chief Gideon Lichfield mulls...  [1592511744806486016]  \n",
       "3  Can you guess what this is? This unbelievable ...  [1592502932754550784]  \n",
       "4  Europe’s cities are growing denser once more—a...  [1592488950043656192]  "
      ]
     },
     "execution_count": 42,
     "metadata": {},
     "output_type": "execute_result"
    }
   ],
   "source": [
    "df_wired.head()"
   ]
  },
  {
   "cell_type": "code",
   "execution_count": 43,
   "metadata": {},
   "outputs": [],
   "source": [
    "# FiveThirtyEight\n",
    "\n",
    "# Saving data as dictionary\n",
    "tweets_fte_dict = tweets_fte.json() \n",
    "\n",
    "# Extracting \"data\" value from dictionary\n",
    "tweets_fte_data = tweets_fte_dict['data'] \n",
    "\n",
    "# Transforming to pandas Dataframe\n",
    "df_fte = pd.json_normalize(tweets_fte_data)"
   ]
  },
  {
   "cell_type": "code",
   "execution_count": 44,
   "metadata": {},
   "outputs": [
    {
     "data": {
      "text/html": [
       "<div>\n",
       "<style scoped>\n",
       "    .dataframe tbody tr th:only-of-type {\n",
       "        vertical-align: middle;\n",
       "    }\n",
       "\n",
       "    .dataframe tbody tr th {\n",
       "        vertical-align: top;\n",
       "    }\n",
       "\n",
       "    .dataframe thead th {\n",
       "        text-align: right;\n",
       "    }\n",
       "</style>\n",
       "<table border=\"1\" class=\"dataframe\">\n",
       "  <thead>\n",
       "    <tr style=\"text-align: right;\">\n",
       "      <th></th>\n",
       "      <th>text</th>\n",
       "      <th>edit_history_tweet_ids</th>\n",
       "      <th>created_at</th>\n",
       "      <th>id</th>\n",
       "      <th>author_id</th>\n",
       "    </tr>\n",
       "  </thead>\n",
       "  <tbody>\n",
       "    <tr>\n",
       "      <th>0</th>\n",
       "      <td>Politics Podcast: Why Democrats beat historica...</td>\n",
       "      <td>[1592521911765913600]</td>\n",
       "      <td>2022-11-15T14:16:26.000Z</td>\n",
       "      <td>1592521911765913600</td>\n",
       "      <td>2303751216</td>\n",
       "    </tr>\n",
       "    <tr>\n",
       "      <th>1</th>\n",
       "      <td>The best NFL receivers, according to ESPN anal...</td>\n",
       "      <td>[1592328791904423939]</td>\n",
       "      <td>2022-11-15T01:29:02.000Z</td>\n",
       "      <td>1592328791904423939</td>\n",
       "      <td>2303751216</td>\n",
       "    </tr>\n",
       "    <tr>\n",
       "      <th>2</th>\n",
       "      <td>The Colts hired Jeff Saturday as head coach. W...</td>\n",
       "      <td>[1592317734725074946]</td>\n",
       "      <td>2022-11-15T00:45:06.000Z</td>\n",
       "      <td>1592317734725074946</td>\n",
       "      <td>2303751216</td>\n",
       "    </tr>\n",
       "    <tr>\n",
       "      <th>3</th>\n",
       "      <td>While many factors have influenced the midterm...</td>\n",
       "      <td>[1592302114083991553]</td>\n",
       "      <td>2022-11-14T23:43:02.000Z</td>\n",
       "      <td>1592302114083991553</td>\n",
       "      <td>2303751216</td>\n",
       "    </tr>\n",
       "    <tr>\n",
       "      <th>4</th>\n",
       "      <td>Our NBA predictions: https://t.co/xhAfM9epHk</td>\n",
       "      <td>[1592287550814789634]</td>\n",
       "      <td>2022-11-14T22:45:10.000Z</td>\n",
       "      <td>1592287550814789634</td>\n",
       "      <td>2303751216</td>\n",
       "    </tr>\n",
       "  </tbody>\n",
       "</table>\n",
       "</div>"
      ],
      "text/plain": [
       "                                                text edit_history_tweet_ids  \\\n",
       "0  Politics Podcast: Why Democrats beat historica...  [1592521911765913600]   \n",
       "1  The best NFL receivers, according to ESPN anal...  [1592328791904423939]   \n",
       "2  The Colts hired Jeff Saturday as head coach. W...  [1592317734725074946]   \n",
       "3  While many factors have influenced the midterm...  [1592302114083991553]   \n",
       "4       Our NBA predictions: https://t.co/xhAfM9epHk  [1592287550814789634]   \n",
       "\n",
       "                 created_at                   id   author_id  \n",
       "0  2022-11-15T14:16:26.000Z  1592521911765913600  2303751216  \n",
       "1  2022-11-15T01:29:02.000Z  1592328791904423939  2303751216  \n",
       "2  2022-11-15T00:45:06.000Z  1592317734725074946  2303751216  \n",
       "3  2022-11-14T23:43:02.000Z  1592302114083991553  2303751216  \n",
       "4  2022-11-14T22:45:10.000Z  1592287550814789634  2303751216  "
      ]
     },
     "execution_count": 44,
     "metadata": {},
     "output_type": "execute_result"
    }
   ],
   "source": [
    "df_fte.head()"
   ]
  },
  {
   "cell_type": "markdown",
   "metadata": {},
   "source": [
    "## Saving dataframes as csv-files"
   ]
  },
  {
   "cell_type": "code",
   "execution_count": 46,
   "metadata": {},
   "outputs": [],
   "source": [
    "# WIRED\n",
    "\n",
    "df_wired.to_csv(\"../data/raw/twitter-WIRED.csv\")"
   ]
  },
  {
   "cell_type": "code",
   "execution_count": 47,
   "metadata": {},
   "outputs": [],
   "source": [
    "# FiveThirtyEight\n",
    "\n",
    "df_fte.to_csv(\"../data/raw/twitter-FIVETHIRTYEIGHT.csv\")"
   ]
  }
 ],
 "metadata": {
  "kernelspec": {
   "display_name": "Python 3.9.13 ('twitter')",
   "language": "python",
   "name": "python3"
  },
  "language_info": {
   "codemirror_mode": {
    "name": "ipython",
    "version": 3
   },
   "file_extension": ".py",
   "mimetype": "text/x-python",
   "name": "python",
   "nbconvert_exporter": "python",
   "pygments_lexer": "ipython3",
   "version": "3.9.13"
  },
  "orig_nbformat": 4,
  "vscode": {
   "interpreter": {
    "hash": "fe999ce90b103dea7d3c97a1fad6231891fd8b9a7c6a28db8a969046ead88bad"
   }
  }
 },
 "nbformat": 4,
 "nbformat_minor": 2
}
