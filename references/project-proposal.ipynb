{
 "cells": [
  {
   "cell_type": "markdown",
   "metadata": {},
   "source": [
    "# Project proposal\n",
    "\n",
    "---\n",
    "\n",
    "Group name:\n",
    "\n",
    "---\n"
   ]
  },
  {
   "cell_type": "markdown",
   "metadata": {},
   "source": [
    "## Introduction\n",
    "\n",
    "The introduction section includes\n",
    "\n",
    "-   an introduction to the subject matter you're investigating\n",
    "-   the motivation for your research question (citing any relevant literature)\n",
    "-   the general research question you wish to explore\n",
    "-   your hypotheses regarding the research question of interest."
   ]
  },
  {
   "cell_type": "markdown",
   "metadata": {},
   "source": [
    "\n",
    "## Data description\n",
    "\n",
    "In this section, you will describe the data set you wish to explore. This includes\n",
    "\n",
    "-   description of the observations in the data set,\n",
    "-   description of how the data was originally collected (not how you found the data but how the original curator of the data collected it)."
   ]
  },
  {
   "cell_type": "markdown",
   "metadata": {},
   "source": [
    "\n",
    "## Analysis approach\n",
    "\n",
    "In this section, you will provide a brief overview of your analysis approach. This includes:\n",
    "\n",
    "-   Description of the response variable.\n",
    "-   Visualization and summary statistics for the response variable.\n",
    "-   List of variables that will be considered as predictors\n",
    "-   Your model type (what kind of model(s) will you use ... e.g. linear regression)"
   ]
  },
  {
   "cell_type": "markdown",
   "metadata": {},
   "source": [
    "## Data dictionary\n",
    "\n",
    "*Create a data dictionary for all the variables in your data set. You may fill out the data description table or create your own table with Pandas:*\n",
    "\n",
    "<br>\n",
    "\n",
    "\n",
    "| Name  |   Description\t| Role   \t| Type   \t|  Format \t|\n",
    "|---\t|---\t        |---    \t|---\t    |---\t|\n",
    "|   \t|   \t        |   \t    |   \t    |   \t|\n",
    "|   \t|   \t        |   \t    |   \t    |   \t|\n",
    "|   \t|   \t        |   \t    |   \t    |   \t|\n",
    "\n",
    "\n",
    "<br>\n",
    "\n",
    "- `Role`: response, predictor, ID (ID columns are not used in a model but can help to better understand the data)\n",
    "\n",
    "- `Type`: nominal, ordinal or numeric\n",
    "\n",
    "- `Format`: int, float, string, category, date or object"
   ]
  }
 ],
 "metadata": {
  "kernelspec": {
   "display_name": "Python 3.9.12 ('base')",
   "language": "python",
   "name": "python3"
  },
  "language_info": {
   "name": "python",
   "version": "3.9.12"
  },
  "orig_nbformat": 4,
  "vscode": {
   "interpreter": {
    "hash": "463226f144cc21b006ce6927bfc93dd00694e52c8bc6857abb6e555b983749e9"
   }
  }
 },
 "nbformat": 4,
 "nbformat_minor": 2
}
